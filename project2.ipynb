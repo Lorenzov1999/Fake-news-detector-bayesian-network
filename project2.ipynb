{
 "cells": [
  {
   "cell_type": "markdown",
   "id": "46959044-c372-4166-ad6b-fee4a954e508",
   "metadata": {},
   "source": [
    "<h2 align='center'>FINAL PROJECT OF ADVANCED STATISTICS FOR PHYSICS ANALYSIS</h2>\n",
    "\n",
    "<h1 align='center'>NAIVE BAYES CLASSIFIER FOR FAKE NEWS RECOGNITION</h1>\n",
    "\n",
    "<h3 align='center'>Lorenzo Valentini</h3>"
   ]
  },
  {
   "cell_type": "markdown",
   "id": "f6ad9eb3-45eb-4b56-bf4a-1ae8bcaf639c",
   "metadata": {},
   "source": [
    "## Table of contents: <a class=\"anchor\" id=\"index\"></a>\n",
    "- [Introduction](#Introduction)\n",
    "- [Naive Bayes](#Naive_Bayes)\n",
    "- [Data](#Data)\n",
    "- [Algorithm](#Algorithm)\n",
    "    - [Preprocessing - Stemming](#Preprocessing)\n",
    "    - [Features generation](#Features_generation)\n",
    "    - [Classifier](#Classifier)\n",
    "    - [Prediction](#Prediction)\n",
    "- [Single words](#Single_words)\n",
    "- [Higher order n-grams](#n-grams)\n",
    "- [Sentiment analysis](#Sentiment)\n",
    "- [Punctuation + higher order n-grams](#P+n-grams)\n",
    "- [Comparisons](#Comparisons)\n",
    "- [Binomial classifier](#P+n-grams)\n",
    "\n"
   ]
  },
  {
   "cell_type": "markdown",
   "id": "6434b25a-4b76-4293-8c38-70be0f66c807",
   "metadata": {},
   "source": [
    "## [Introduction](#index) <a class=\"anchor\" id=\"Introduction\"></a>\n",
    "\n",
    "Naive Bayes classifiers are powerful algorithms that are used for text data analysis and are connected to classification tasks of text in multiple classes.\n",
    "\n",
    "The goal of the project is to implement a Multinomial Naive Bayes classifier in R and test its performances in the classification of social media posts, in particular tweets. The classifier implemented has to detect fake news, determining the level of reliability of the tweets."
   ]
  },
  {
   "cell_type": "markdown",
   "id": "8f4b2e9e-40bb-433b-b383-e027b9e4d4c0",
   "metadata": {},
   "source": [
    "## [Naive Bayes](#index) <a class=\"anchor\" id=\"Naive_Bayes\"></a>\n",
    "\n",
    "Naive Bayes is a simple technique for constructing classifiers. This model assigns class labels to problem instances, represented as vectors of feature values, where the class labels are drawn from some finite set. There is not a single algorithm for training such classifiers, but a family of algorithms based on a common principle: all naive Bayes classifiers assume that the value of a particular feature is independent of the value of any other feature, given the class variable.\n",
    "For example, a fruit may be considered to be an apple if it is red, round, and about 10 cm in diameter. A naive Bayes classifier considers each of these features to contribute independently to the probability that this fruit is an apple, regardless of any possible correlations between the color, roundness, and diameter features.\n",
    "it is mostly used for text data analysis and is connected to classification tasks of text in multiple classes.\n",
    "\n",
    "The crux of this probabilistic machine learning model is based on the Bayes theorem: \n",
    "\n",
    "$$P(A|B,I)=\\frac{P(B|A,I)P(A|I)}{P(B|I)}$$\n",
    "\n",
    "In this project A is label for each news and B is set of words in that news.\n",
    "$$B=(b_{1},b_{2},...,b_{n})$$\n",
    "using chain rule and we will have: \n",
    "$$P(A|b_{1},b_{2},...,b_{n},I)=\\frac{P(b_{1}|A,I)P(b_{2}|A,I)...P(b_{n}|A,I)P(A|I)}{P(b_{1}|I)P(b_{2}|I)...P(b_{n}|I)}$$\n",
    "\n",
    "For all entries, the denominator does not change, it remain static. Therefore, the denominator can be removed and a proportionality can be introduced.\n",
    "\n",
    "$$P(A|b_{1},b_{2},...,b_{n},I)\\propto P(A|I)\\prod_{i=1}^{n}P(b_{i}|A)$$\n",
    "\n",
    "Finally, we need to find the class A with maximum probability:\n",
    "$$A = argmax P(A|I)\\prod_{i=1}^{n}P(b_{i}|A)$$\n",
    "\n",
    "#### More detail on Algorithm\n",
    "prepared train dataset is a matrix of all possible words as column names and and thier frequencies in each news.\n",
    "\n",
    "example 1:\n",
    "\n",
    "| label | abort | absolut | abus |accept | access | accid\n",
    "| --- | --- | --- | --- | --- | --- | --- |\n",
    "| 1 | 1 | 0 | 3 | 0 | 0 | 1 |\n",
    "| 1 | 1 | 1 | 5 | 0 | 1 | 2 |\n",
    "| 2 | 2 | 0 | 0 | 0 | 0 | 1 |\n",
    "| 1 | 0 | 0 | 2 | 0 | 1 | 0 |\n",
    "\n",
    "To build the model, we grouped data by labels and sum their words' frequencies. By normalizing them to the total sum in each group, we find the probability of each world in that label ($P(b_{i}|A)$). we also calculate $P(A|I)$ by finding the ratio of the number of each label to their total number.\n",
    "\n",
    "example 2:\n",
    "\n",
    "| label_prob | label | abort | absolut | abus |accept | access | accid|\n",
    "|---| --- | --- | --- | --- | --- | --- | --- |\n",
    "| 0.2 | 0 | 0.01 | 0 | 0.3 | 0 | 0.5 | 0.001 |\n",
    "| 0.19 | 1 | 0 | 0.004 | 0.02 | 0.1 | 0 | 0.003 |\n",
    "| 0.18 | 2 | 0.04 | 0.09 | 0.01 | 0 | 0| 0 |\n",
    "| 0.21 | 3 | 0 | 0.1 | 0.04 | 0.65 | 0.002 | 0.04 |\n",
    "| 0.23 | 4 | 0 | 0 | 0.2 | 0.16 | 0.87 | 0.002 |\n",
    "| 0.17 | 5 | 0.01 | 0 | 0 | 0.19 | 0.4 | 0.3 |\n",
    "\n",
    "\n",
    "\n",
    "The resulting data frame can be used as a model. In the next step, it will be used to determine prior and likelihood.\n",
    "\n",
    "The test dataset will be prepared the same as the train set. For each news, there are some words and their frequencies. we should calculate:\n",
    "\n",
    "\n",
    "$$P(A|I)\\prod_{\\text{all words of news}}(P(b_{i}|A))^{\\text{it's frequncy in test news}}$$\n",
    "\n",
    "now we just need find which label has the the maximum probabilty.\n",
    "\n",
    "\n",
    "$\\textbf{Notice:}$\n",
    "As it is mentioned, in the train set, each word's frequency is determined. if the frequency of a word in one label is zero the probability of that in the model data frame will be zero ($P(b_{i}|A)=0$). so in the calculation of test news when it contains that word, the final probability for that label will be zero, even if other words' probability is high. this cause the label is not chosen for the wrong reason.\n",
    "to solve this problem, we add 1 to all frequencies in the train data set and we won't have any zero probability for words in test news.\n",
    "\n",
    "example of the problem:\n",
    "\n",
    "if one news contains \"abort\" and \"abus\", according to tabel in example 2, $p(\\text{\"abort\"}|label_0) = 0$ , to classify this news no matter how $p(\\text{\"abus\"}|label_0)$ is bigger than other labels, $P(lable_0) = 0 $\n",
    "\n"
   ]
  },
  {
   "cell_type": "markdown",
   "id": "ca7ad567-e7c2-42e3-90ee-1ac1032d00ca",
   "metadata": {},
   "source": [
    "## [Data](#index) <a class=\"anchor\" id=\"Data\"></a>\n",
    "\n",
    "For the implementation of the classifier the Kaggle dataset has been used. It consists of a training set with 10,240 labelled instances and a test set wth 1,267 unlabelled instances (not used in this project).\n",
    "\n",
    "The labels used for classifying the text are identified by the following numbers in the dataset.\n",
    "\n",
    "| Labels         | Values |\n",
    "|----------------|:-----:|\n",
    "| True           | 5     |\n",
    "| Mostly True    | 3     |\n",
    "| Half True      | 2     |\n",
    "| Barely True    | 0     |\n",
    "| False          | 1     |\n",
    "| Not Known      | 4     |"
   ]
  },
  {
   "cell_type": "code",
   "execution_count": 1,
   "id": "5114e9e9-5bce-4949-999d-3eb2280c3ea8",
   "metadata": {},
   "outputs": [
    {
     "name": "stderr",
     "output_type": "stream",
     "text": [
      "Loading required package: ggplot2\n",
      "\n",
      "Loading required package: lattice\n",
      "\n",
      "\n",
      "Attaching package: ‘dplyr’\n",
      "\n",
      "\n",
      "The following objects are masked from ‘package:stats’:\n",
      "\n",
      "    filter, lag\n",
      "\n",
      "\n",
      "The following objects are masked from ‘package:base’:\n",
      "\n",
      "    intersect, setdiff, setequal, union\n",
      "\n",
      "\n",
      "Package version: 3.2.3\n",
      "Unicode version: 14.0\n",
      "ICU version: 71.1\n",
      "\n",
      "Parallel computing: 8 of 8 threads used.\n",
      "\n",
      "See https://quanteda.io for tutorials and examples.\n",
      "\n",
      "Loading required package: Matrix\n",
      "\n",
      "Loading required package: koRpus.lang.en\n",
      "\n",
      "Loading required package: koRpus\n",
      "\n",
      "Loading required package: sylly\n",
      "\n",
      "For information on available language packages for 'koRpus', run\n",
      "\n",
      "  available.koRpus.lang()\n",
      "\n",
      "and see ?install.koRpus.lang()\n",
      "\n",
      "\n",
      "\n",
      "Attaching package: ‘koRpus’\n",
      "\n",
      "\n",
      "The following objects are masked from ‘package:quanteda’:\n",
      "\n",
      "    tokens, types\n",
      "\n",
      "\n",
      "── \u001b[1mAttaching packages\u001b[22m ─────────────────────────────────────── tidyverse 1.3.2 ──\n",
      "\u001b[32m✔\u001b[39m \u001b[34mtibble \u001b[39m 3.1.8     \u001b[32m✔\u001b[39m \u001b[34mpurrr  \u001b[39m 0.3.4\n",
      "\u001b[32m✔\u001b[39m \u001b[34mtidyr  \u001b[39m 1.2.1     \u001b[32m✔\u001b[39m \u001b[34mforcats\u001b[39m 0.5.2\n",
      "\u001b[32m✔\u001b[39m \u001b[34mreadr  \u001b[39m 2.1.2     \n",
      "── \u001b[1mConflicts\u001b[22m ────────────────────────────────────────── tidyverse_conflicts() ──\n",
      "\u001b[31m✖\u001b[39m \u001b[34mtidyr\u001b[39m::\u001b[32mexpand()\u001b[39m    masks \u001b[34mMatrix\u001b[39m::expand()\n",
      "\u001b[31m✖\u001b[39m \u001b[34mtidyr\u001b[39m::\u001b[32mextract()\u001b[39m   masks \u001b[34mmagrittr\u001b[39m::extract()\n",
      "\u001b[31m✖\u001b[39m \u001b[34mdplyr\u001b[39m::\u001b[32mfilter()\u001b[39m    masks \u001b[34mstats\u001b[39m::filter()\n",
      "\u001b[31m✖\u001b[39m \u001b[34mdplyr\u001b[39m::\u001b[32mlag()\u001b[39m       masks \u001b[34mstats\u001b[39m::lag()\n",
      "\u001b[31m✖\u001b[39m \u001b[34mpurrr\u001b[39m::\u001b[32mlift()\u001b[39m      masks \u001b[34mcaret\u001b[39m::lift()\n",
      "\u001b[31m✖\u001b[39m \u001b[34mtidyr\u001b[39m::\u001b[32mpack()\u001b[39m      masks \u001b[34mMatrix\u001b[39m::pack()\n",
      "\u001b[31m✖\u001b[39m \u001b[34mpurrr\u001b[39m::\u001b[32mset_names()\u001b[39m masks \u001b[34mmagrittr\u001b[39m::set_names()\n",
      "\u001b[31m✖\u001b[39m \u001b[34mreadr\u001b[39m::\u001b[32mtokenize()\u001b[39m  masks \u001b[34mkoRpus\u001b[39m::tokenize()\n",
      "\u001b[31m✖\u001b[39m \u001b[34mtidyr\u001b[39m::\u001b[32munpack()\u001b[39m    masks \u001b[34mMatrix\u001b[39m::unpack()\n"
     ]
    }
   ],
   "source": [
    "library(magrittr)\n",
    "library(tidytext)\n",
    "library(stringr)\n",
    "library(syuzhet)\n",
    "library(caret)\n",
    "library(dplyr)\n",
    "library(quanteda)\n",
    "library(Matrix.utils)\n",
    "library(SnowballC)\n",
    "library(RColorBrewer)\n",
    "library(textstem)\n",
    "library(tidyverse)\n",
    "fig <- function(width, heigth){\n",
    " options(repr.plot.width = width, repr.plot.height = heigth)\n",
    " }"
   ]
  },
  {
   "cell_type": "code",
   "execution_count": 2,
   "id": "c2a98b98-97bc-4dd2-95d4-2c6d7ecb903b",
   "metadata": {},
   "outputs": [
    {
     "data": {
      "text/html": [
       "FALSE"
      ],
      "text/latex": [
       "FALSE"
      ],
      "text/markdown": [
       "FALSE"
      ],
      "text/plain": [
       "[1] FALSE"
      ]
     },
     "metadata": {},
     "output_type": "display_data"
    },
    {
     "data": {
      "text/html": [
       "<table class=\"dataframe\">\n",
       "<caption>A data.frame: 6 × 3</caption>\n",
       "<thead>\n",
       "\t<tr><th></th><th scope=col>Labels</th><th scope=col>Text</th><th scope=col>Text_Tag</th></tr>\n",
       "\t<tr><th></th><th scope=col>&lt;int&gt;</th><th scope=col>&lt;chr&gt;</th><th scope=col>&lt;chr&gt;</th></tr>\n",
       "</thead>\n",
       "<tbody>\n",
       "\t<tr><th scope=row>1</th><td>1</td><td>Says the Annies List political group supports third-trimester abortions on demand.                                                                         </td><td>abortion                          </td></tr>\n",
       "\t<tr><th scope=row>2</th><td>2</td><td>When did the decline of coal start? It started when natural gas took off that started to begin in (President George W.) Bushs administration.              </td><td>energy,history,job-accomplishments</td></tr>\n",
       "\t<tr><th scope=row>3</th><td>3</td><td>Hillary Clinton agrees with John McCain \"by voting to give George Bush the benefit of the doubt on Iran.\"                                                  </td><td>foreign-policy                    </td></tr>\n",
       "\t<tr><th scope=row>4</th><td>1</td><td>Health care reform legislation is likely to mandate free sex change surgeries.                                                                             </td><td>health-care                       </td></tr>\n",
       "\t<tr><th scope=row>5</th><td>2</td><td>The economic turnaround started at the end of my term.                                                                                                     </td><td>economy,jobs                      </td></tr>\n",
       "\t<tr><th scope=row>6</th><td>5</td><td>The Chicago Bears have had more starting quarterbacks in the last 10 years than the total number of tenured (UW) faculty fired during the last two decades.</td><td>education                         </td></tr>\n",
       "</tbody>\n",
       "</table>\n"
      ],
      "text/latex": [
       "A data.frame: 6 × 3\n",
       "\\begin{tabular}{r|lll}\n",
       "  & Labels & Text & Text\\_Tag\\\\\n",
       "  & <int> & <chr> & <chr>\\\\\n",
       "\\hline\n",
       "\t1 & 1 & Says the Annies List political group supports third-trimester abortions on demand.                                                                          & abortion                          \\\\\n",
       "\t2 & 2 & When did the decline of coal start? It started when natural gas took off that started to begin in (President George W.) Bushs administration.               & energy,history,job-accomplishments\\\\\n",
       "\t3 & 3 & Hillary Clinton agrees with John McCain \"by voting to give George Bush the benefit of the doubt on Iran.\"                                                   & foreign-policy                    \\\\\n",
       "\t4 & 1 & Health care reform legislation is likely to mandate free sex change surgeries.                                                                              & health-care                       \\\\\n",
       "\t5 & 2 & The economic turnaround started at the end of my term.                                                                                                      & economy,jobs                      \\\\\n",
       "\t6 & 5 & The Chicago Bears have had more starting quarterbacks in the last 10 years than the total number of tenured (UW) faculty fired during the last two decades. & education                         \\\\\n",
       "\\end{tabular}\n"
      ],
      "text/markdown": [
       "\n",
       "A data.frame: 6 × 3\n",
       "\n",
       "| <!--/--> | Labels &lt;int&gt; | Text &lt;chr&gt; | Text_Tag &lt;chr&gt; |\n",
       "|---|---|---|---|\n",
       "| 1 | 1 | Says the Annies List political group supports third-trimester abortions on demand.                                                                          | abortion                           |\n",
       "| 2 | 2 | When did the decline of coal start? It started when natural gas took off that started to begin in (President George W.) Bushs administration.               | energy,history,job-accomplishments |\n",
       "| 3 | 3 | Hillary Clinton agrees with John McCain \"by voting to give George Bush the benefit of the doubt on Iran.\"                                                   | foreign-policy                     |\n",
       "| 4 | 1 | Health care reform legislation is likely to mandate free sex change surgeries.                                                                              | health-care                        |\n",
       "| 5 | 2 | The economic turnaround started at the end of my term.                                                                                                      | economy,jobs                       |\n",
       "| 6 | 5 | The Chicago Bears have had more starting quarterbacks in the last 10 years than the total number of tenured (UW) faculty fired during the last two decades. | education                          |\n",
       "\n"
      ],
      "text/plain": [
       "  Labels\n",
       "1 1     \n",
       "2 2     \n",
       "3 3     \n",
       "4 1     \n",
       "5 2     \n",
       "6 5     \n",
       "  Text                                                                                                                                                       \n",
       "1 Says the Annies List political group supports third-trimester abortions on demand.                                                                         \n",
       "2 When did the decline of coal start? It started when natural gas took off that started to begin in (President George W.) Bushs administration.              \n",
       "3 Hillary Clinton agrees with John McCain \"by voting to give George Bush the benefit of the doubt on Iran.\"                                                  \n",
       "4 Health care reform legislation is likely to mandate free sex change surgeries.                                                                             \n",
       "5 The economic turnaround started at the end of my term.                                                                                                     \n",
       "6 The Chicago Bears have had more starting quarterbacks in the last 10 years than the total number of tenured (UW) faculty fired during the last two decades.\n",
       "  Text_Tag                          \n",
       "1 abortion                          \n",
       "2 energy,history,job-accomplishments\n",
       "3 foreign-policy                    \n",
       "4 health-care                       \n",
       "5 economy,jobs                      \n",
       "6 education                         "
      ]
     },
     "metadata": {},
     "output_type": "display_data"
    }
   ],
   "source": [
    "labelled_set_raw <- read.csv('./fake_news_db/train.csv')\n",
    "\n",
    "if(FALSE){unlabelled_set_raw <- read.csv('./fake_news_db/test.csv')\n",
    "    print(summary(unlabelled_set_raw))\n",
    "    anyNA(unlabelled_set_raw)}\n",
    "\n",
    "anyNA(labelled_set_raw)\n",
    "\n",
    "head(labelled_set_raw)"
   ]
  },
  {
   "cell_type": "markdown",
   "id": "3b87fe14-710a-454a-926a-52264e962e80",
   "metadata": {},
   "source": [
    "## [Algorithm](#index) <a class=\"anchor\" id=\"Algorithm\"></a>"
   ]
  },
  {
   "cell_type": "markdown",
   "id": "93789830-d2bc-4457-91fb-b61ffcf9be73",
   "metadata": {},
   "source": [
    "### [Preprocessing - Stemming](#index) <a class=\"anchor\" id=\"Preprocessing\"></a>\n",
    "\n",
    "Before being used, the tweets have to be  \n",
    "\n",
    "stemming is the process of reducing inflected (or sometimes derived) words to their word stem, base or root form—generally a written word form. The stem need not be identical to the morphological root of the word; it is usually sufficient that related words map to the same stem, even if this stem is not in itself a valid root."
   ]
  },
  {
   "cell_type": "code",
   "execution_count": 3,
   "id": "9a79a87e-cacf-4c26-add2-2d4cc18b572a",
   "metadata": {},
   "outputs": [],
   "source": [
    "stemming <- function(raw_set){\n",
    "    set <- unnest_tokens(\n",
    "      tbl = raw_set,\n",
    "      output = \"words\",\n",
    "      input = \"Text\",\n",
    "      token = \"words\",\n",
    "      format = c(\"text\", \"man\", \"latex\", \"html\", \"xml\"),\n",
    "      to_lower = TRUE,\n",
    "      drop = FALSE,\n",
    "      collapse = NULL\n",
    "    )\n",
    "    set <- mutate(set, word_stem = wordStem(words, language=\"english\"))\n",
    "    set <- set %>% group_by(Text)  %>%\n",
    "                        dplyr::summarise(doc_id = paste(word_stem, collapse = \" \"))\n",
    "    set <- merge(raw_set, set, by='Text')\n",
    "    return (set)}"
   ]
  },
  {
   "cell_type": "code",
   "execution_count": 4,
   "id": "ae4b5708-1b5e-4ec1-9b4b-15043307d207",
   "metadata": {
    "scrolled": true,
    "tags": []
   },
   "outputs": [
    {
     "data": {
      "text/html": [
       "<table class=\"dataframe\">\n",
       "<caption>A data.frame: 6 × 4</caption>\n",
       "<thead>\n",
       "\t<tr><th></th><th scope=col>Text</th><th scope=col>Labels</th><th scope=col>Text_Tag</th><th scope=col>doc_id</th></tr>\n",
       "\t<tr><th></th><th scope=col>&lt;chr&gt;</th><th scope=col>&lt;int&gt;</th><th scope=col>&lt;chr&gt;</th><th scope=col>&lt;chr&gt;</th></tr>\n",
       "</thead>\n",
       "<tbody>\n",
       "\t<tr><th scope=row>1</th><td>... study after study has shown that the death penalty deters murders.                                                                                </td><td>2</td><td>crime                   </td><td>studi after studi has shown that the death penalti deter murder                                                                   </td></tr>\n",
       "\t<tr><th scope=row>2</th><td>...Over 30 years, federal spending on education has grown by 375 percent, but test scores remain flat.                                                </td><td>3</td><td>education,federal-budget</td><td>over 30 year feder spend on educ has grown by 375 percent but test score remain flat                                              </td></tr>\n",
       "\t<tr><th scope=row>3</th><td>...some of those (tax increases) were either court-ordered, or they were voted on by the people and approved by the people for (such) things as roads.</td><td>2</td><td>taxes                   </td><td>some of those tax increas were either court order or they were vote on by the peopl and approv by the peopl for such thing as road</td></tr>\n",
       "\t<tr><th scope=row>4</th><td>''I have received more contributions than any other candidate in the race Republican or Democrat.''                                                   </td><td>1</td><td>elections               </td><td>i have receiv more contribut than ani other candid in the race republican or democrat                                             </td></tr>\n",
       "\t<tr><th scope=row>5</th><td>(After the auto bailout) General Motors is back on top as the worlds No. 1 automaker.                                                                 </td><td>2</td><td>economy,jobs            </td><td>after the auto bailout general motor is back on top as the world no 1 automak                                                     </td></tr>\n",
       "\t<tr><th scope=row>6</th><td>(Big banks) have invested over $300,000 in (Joe Heck), and Heck has sponsored $44 million dollars in tax breaks for banks.                            </td><td>0</td><td>campaign-finance        </td><td>big bank have invest over 300,000 in joe heck and heck has sponsor 44 million dollar in tax break for bank                        </td></tr>\n",
       "</tbody>\n",
       "</table>\n"
      ],
      "text/latex": [
       "A data.frame: 6 × 4\n",
       "\\begin{tabular}{r|llll}\n",
       "  & Text & Labels & Text\\_Tag & doc\\_id\\\\\n",
       "  & <chr> & <int> & <chr> & <chr>\\\\\n",
       "\\hline\n",
       "\t1 & ... study after study has shown that the death penalty deters murders.                                                                                 & 2 & crime                    & studi after studi has shown that the death penalti deter murder                                                                   \\\\\n",
       "\t2 & ...Over 30 years, federal spending on education has grown by 375 percent, but test scores remain flat.                                                 & 3 & education,federal-budget & over 30 year feder spend on educ has grown by 375 percent but test score remain flat                                              \\\\\n",
       "\t3 & ...some of those (tax increases) were either court-ordered, or they were voted on by the people and approved by the people for (such) things as roads. & 2 & taxes                    & some of those tax increas were either court order or they were vote on by the peopl and approv by the peopl for such thing as road\\\\\n",
       "\t4 & ''I have received more contributions than any other candidate in the race Republican or Democrat.''                                                    & 1 & elections                & i have receiv more contribut than ani other candid in the race republican or democrat                                             \\\\\n",
       "\t5 & (After the auto bailout) General Motors is back on top as the worlds No. 1 automaker.                                                                  & 2 & economy,jobs             & after the auto bailout general motor is back on top as the world no 1 automak                                                     \\\\\n",
       "\t6 & (Big banks) have invested over \\$300,000 in (Joe Heck), and Heck has sponsored \\$44 million dollars in tax breaks for banks.                             & 0 & campaign-finance         & big bank have invest over 300,000 in joe heck and heck has sponsor 44 million dollar in tax break for bank                        \\\\\n",
       "\\end{tabular}\n"
      ],
      "text/markdown": [
       "\n",
       "A data.frame: 6 × 4\n",
       "\n",
       "| <!--/--> | Text &lt;chr&gt; | Labels &lt;int&gt; | Text_Tag &lt;chr&gt; | doc_id &lt;chr&gt; |\n",
       "|---|---|---|---|---|\n",
       "| 1 | ... study after study has shown that the death penalty deters murders.                                                                                 | 2 | crime                    | studi after studi has shown that the death penalti deter murder                                                                    |\n",
       "| 2 | ...Over 30 years, federal spending on education has grown by 375 percent, but test scores remain flat.                                                 | 3 | education,federal-budget | over 30 year feder spend on educ has grown by 375 percent but test score remain flat                                               |\n",
       "| 3 | ...some of those (tax increases) were either court-ordered, or they were voted on by the people and approved by the people for (such) things as roads. | 2 | taxes                    | some of those tax increas were either court order or they were vote on by the peopl and approv by the peopl for such thing as road |\n",
       "| 4 | ''I have received more contributions than any other candidate in the race Republican or Democrat.''                                                    | 1 | elections                | i have receiv more contribut than ani other candid in the race republican or democrat                                              |\n",
       "| 5 | (After the auto bailout) General Motors is back on top as the worlds No. 1 automaker.                                                                  | 2 | economy,jobs             | after the auto bailout general motor is back on top as the world no 1 automak                                                      |\n",
       "| 6 | (Big banks) have invested over $300,000 in (Joe Heck), and Heck has sponsored $44 million dollars in tax breaks for banks.                             | 0 | campaign-finance         | big bank have invest over 300,000 in joe heck and heck has sponsor 44 million dollar in tax break for bank                         |\n",
       "\n"
      ],
      "text/plain": [
       "  Text                                                                                                                                                  \n",
       "1 ... study after study has shown that the death penalty deters murders.                                                                                \n",
       "2 ...Over 30 years, federal spending on education has grown by 375 percent, but test scores remain flat.                                                \n",
       "3 ...some of those (tax increases) were either court-ordered, or they were voted on by the people and approved by the people for (such) things as roads.\n",
       "4 ''I have received more contributions than any other candidate in the race Republican or Democrat.''                                                   \n",
       "5 (After the auto bailout) General Motors is back on top as the worlds No. 1 automaker.                                                                 \n",
       "6 (Big banks) have invested over $300,000 in (Joe Heck), and Heck has sponsored $44 million dollars in tax breaks for banks.                            \n",
       "  Labels Text_Tag                \n",
       "1 2      crime                   \n",
       "2 3      education,federal-budget\n",
       "3 2      taxes                   \n",
       "4 1      elections               \n",
       "5 2      economy,jobs            \n",
       "6 0      campaign-finance        \n",
       "  doc_id                                                                                                                            \n",
       "1 studi after studi has shown that the death penalti deter murder                                                                   \n",
       "2 over 30 year feder spend on educ has grown by 375 percent but test score remain flat                                              \n",
       "3 some of those tax increas were either court order or they were vote on by the peopl and approv by the peopl for such thing as road\n",
       "4 i have receiv more contribut than ani other candid in the race republican or democrat                                             \n",
       "5 after the auto bailout general motor is back on top as the world no 1 automak                                                     \n",
       "6 big bank have invest over 300,000 in joe heck and heck has sponsor 44 million dollar in tax break for bank                        "
      ]
     },
     "metadata": {},
     "output_type": "display_data"
    }
   ],
   "source": [
    "labelled_set_stemmed <- stemming(labelled_set_raw)\n",
    "head(labelled_set_stemmed)"
   ]
  },
  {
   "cell_type": "markdown",
   "id": "de9fd0d7-48f7-44aa-ad59-e21041b3a880",
   "metadata": {},
   "source": [
    "### [Features generation](#index) <a class=\"anchor\" id=\"Features_generation\"></a>\n"
   ]
  },
  {
   "cell_type": "code",
   "execution_count": 5,
   "id": "8a4339c8-4e42-4b85-8a27-ec2a8da55fd4",
   "metadata": {
    "scrolled": true,
    "tags": []
   },
   "outputs": [],
   "source": [
    "feature_generation <- function(set, emotion = TRUE, punctuation = TRUE, ngrams = TRUE, highest_gram, minimum_frequencies, toocommon){\n",
    "    \n",
    "    if(emotion){\n",
    "        detected_emotions <- get_nrc_sentiment(set$Text, cl = NULL, language = \"english\", lowercase = TRUE)\n",
    "        set <- cbind(set, detected_emotions)\n",
    "    }\n",
    "    \n",
    "    if(punctuation){\n",
    "        set$length <- nchar(set$Text)\n",
    "        set$esclam_mark <- str_count(set$Text, \"!\")\n",
    "        set$commas <- str_count(set$Text, \",\")\n",
    "        set$two_points <- str_count(set$Text, \":\")\n",
    "        set$semicolon <- str_count(set$Text, \";\")        \n",
    "    }\n",
    "    \n",
    "    if(ngrams){\n",
    "        set <- make_extended_dfm(set, highest_gram, minimum_frequencies, toocommon)\n",
    "    }\n",
    "    \n",
    "    set[is.na(set)] <- 0\n",
    "\n",
    "    return(set)}\n",
    "\n",
    "#-----------------------------------------------------------------------------------------------------------------------------------------\n",
    "\n",
    "gram_sparse_create <- function(dataset, rarity, toocommon){\n",
    "    tidy_tweets1 <- unnest_tokens(dataset, \"term\", \"doc_id\", token = \"words\", drop = FALSE)\n",
    "    tidy_tweets1 <- tidy_tweets1 %>% dplyr::count(Labels, doc_id, term) %>% filter(!(term %in% too_common))\n",
    "    too_rare <- (tidy_tweets1 %>% dplyr::count(term) %>% filter(!(term %in% too_common)) %>% filter(n < rarity))$term\n",
    "    tidy_tweets1 <- tidy_tweets1 %>% dplyr::count(Labels, doc_id, term) %>% filter(!(term %in% too_common)) %>% filter(!(term %in% too_rare))\n",
    "    cast_tweets1 <- tidy_tweets1 %>% cast_dfm(doc_id, term, n) %>% convert(to = \"data.frame\")\n",
    "    return(cast_tweets1)\n",
    "}\n",
    "\n",
    "#-----------------------------------------------------------------------------------------------------------------------------------------\n",
    "\n",
    "ngram_sparse_create <- function(dataset, nn, rarity){\n",
    "    tidy_tweetsn <- unnest_tokens(dataset, \"term\", \"doc_id\", token = \"ngrams\", n = nn, drop = FALSE)\n",
    "    tidy_tweetsn <- tidy_tweetsn %>% dplyr::count(Labels, doc_id, term) #%>% filter(!(term %in% too_common))\n",
    "    too_raren <- (tidy_tweetsn %>% dplyr::count(term) %>% filter(n < rarity))$term #%>% filter(!(term %in% too_common)) \n",
    "    tidy_tweetsn <- tidy_tweetsn %>% dplyr::count(Labels, doc_id, term) %>% filter(!(term %in% too_raren)) #%>% filter(!(term %in% too_common))\n",
    "    cast_tweetsn <- tidy_tweetsn %>% cast_dfm(doc_id, term, n) %>% convert(to = \"data.frame\") \n",
    "    return(cast_tweetsn)\n",
    "}\n",
    "\n",
    "#-----------------------------------------------------------------------------------------------------------------------------------------\n",
    "\n",
    "make_extended_dfm <- function(dframe, highest_gram, minimum_frequencies, toocommon){\n",
    "    dfm <- merge(x = dframe, \n",
    "                y = gram_sparse_create(dframe, minimum_frequencies[1], toocommon),\n",
    "                by = \"doc_id\", \n",
    "                all = TRUE)\n",
    "    for (i in 2:highest_gram) {\n",
    "        dfm <- merge(x = dfm, \n",
    "                     y = ngram_sparse_create(dframe, i, minimum_frequencies[i]),\n",
    "                     by = \"doc_id\", \n",
    "                     all = TRUE)\n",
    "    }\n",
    "    return(dfm)\n",
    " }"
   ]
  },
  {
   "cell_type": "code",
   "execution_count": 6,
   "id": "6c62b3f1-a8da-4464-9c42-dbc51e62a24e",
   "metadata": {
    "scrolled": true,
    "tags": []
   },
   "outputs": [
    {
     "name": "stderr",
     "output_type": "stream",
     "text": [
      "Warning message in merge.data.frame(x = dfm, y = ngram_sparse_create(dframe, i, :\n",
      "“column names ‘NA.x’, ‘NA.y’ are duplicated in the result”\n",
      "Warning message in merge.data.frame(x = dfm, y = ngram_sparse_create(dframe, i, :\n",
      "“column names ‘NA.x’, ‘NA.y’ are duplicated in the result”\n"
     ]
    },
    {
     "data": {
      "text/html": [
       "<table class=\"dataframe\">\n",
       "<caption>A data.frame: 6 × 13074</caption>\n",
       "<thead>\n",
       "\t<tr><th></th><th scope=col>doc_id</th><th scope=col>Text</th><th scope=col>Labels</th><th scope=col>Text_Tag</th><th scope=col>length</th><th scope=col>esclam_mark</th><th scope=col>commas</th><th scope=col>two_points</th><th scope=col>semicolon</th><th scope=col>1</th><th scope=col>⋯</th><th scope=col>the highest corpor tax rate in the</th><th scope=col>almost as much wealth as the bottom</th><th scope=col>as much wealth as the bottom 90</th><th scope=col>much wealth as the bottom 90 percent</th><th scope=col>own almost as much wealth as the</th><th scope=col>are open serv in the u congress</th><th scope=col>are socialist who are open serv in</th><th scope=col>socialist who are open serv in the</th><th scope=col>who are open serv in the u</th><th scope=col>under the new health care law the</th></tr>\n",
       "\t<tr><th></th><th scope=col>&lt;chr&gt;</th><th scope=col>&lt;chr&gt;</th><th scope=col>&lt;int&gt;</th><th scope=col>&lt;chr&gt;</th><th scope=col>&lt;int&gt;</th><th scope=col>&lt;int&gt;</th><th scope=col>&lt;int&gt;</th><th scope=col>&lt;int&gt;</th><th scope=col>&lt;int&gt;</th><th scope=col>&lt;dbl&gt;</th><th scope=col>⋯</th><th scope=col>&lt;dbl&gt;</th><th scope=col>&lt;dbl&gt;</th><th scope=col>&lt;dbl&gt;</th><th scope=col>&lt;dbl&gt;</th><th scope=col>&lt;dbl&gt;</th><th scope=col>&lt;dbl&gt;</th><th scope=col>&lt;dbl&gt;</th><th scope=col>&lt;dbl&gt;</th><th scope=col>&lt;dbl&gt;</th><th scope=col>&lt;dbl&gt;</th></tr>\n",
       "</thead>\n",
       "<tbody>\n",
       "\t<tr><th scope=row>1</th><td>1 3 of our kid drop out of high school cannot go to colleg or start a career</td><td>1/3 of our kids drop out (of high school), cannot go to college or start a career. </td><td>0</td><td>corrections-and-updates,education         </td><td>82</td><td>0</td><td>1</td><td>0</td><td>0</td><td>1</td><td>⋯</td><td>0</td><td>0</td><td>0</td><td>0</td><td>0</td><td>0</td><td>0</td><td>0</td><td>0</td><td>0</td></tr>\n",
       "\t<tr><th scope=row>2</th><td>1 in 4 rhode island under the age of 65 doe not have health insur           </td><td>1 in 4 Rhode Islanders under the age of 65 does not have health insurance.         </td><td>2</td><td>health-care                               </td><td>74</td><td>0</td><td>0</td><td>0</td><td>0</td><td>1</td><td>⋯</td><td>0</td><td>0</td><td>0</td><td>0</td><td>0</td><td>0</td><td>0</td><td>0</td><td>0</td><td>0</td></tr>\n",
       "\t<tr><th scope=row>3</th><td>1 percent of candid that the nation rifl associ endors in 2012 won          </td><td>1 percent of candidates that (the National Rifle Association) endorsed in 2012 won.</td><td>1</td><td>campaign-finance,guns,pundits             </td><td>83</td><td>0</td><td>0</td><td>0</td><td>0</td><td>1</td><td>⋯</td><td>0</td><td>0</td><td>0</td><td>0</td><td>0</td><td>0</td><td>0</td><td>0</td><td>0</td><td>0</td></tr>\n",
       "\t<tr><th scope=row>4</th><td>1.3 million peopl in america make their live off ebay                       </td><td>1.3-million people in America make their living off eBay.                          </td><td>1</td><td>economy                                   </td><td>57</td><td>0</td><td>0</td><td>0</td><td>0</td><td>0</td><td>⋯</td><td>0</td><td>0</td><td>0</td><td>0</td><td>0</td><td>0</td><td>0</td><td>0</td><td>0</td><td>0</td></tr>\n",
       "\t<tr><th scope=row>5</th><td>1.53 million job are at risk from potenti defens cut                        </td><td>1.53 million jobs are at risk (from potential defense cuts).                       </td><td>3</td><td>deficit,jobs,message-machine-2012,military</td><td>60</td><td>0</td><td>0</td><td>0</td><td>0</td><td>0</td><td>⋯</td><td>0</td><td>0</td><td>0</td><td>0</td><td>0</td><td>0</td><td>0</td><td>0</td><td>0</td><td>0</td></tr>\n",
       "\t<tr><th scope=row>6</th><td>10 cent on thedollar from the clinton foundat goe to charit caus            </td><td>10 cents on thedollar from the Clinton Foundation goes to charitable causes.       </td><td>1</td><td>candidates-biography                      </td><td>76</td><td>0</td><td>0</td><td>0</td><td>0</td><td>0</td><td>⋯</td><td>0</td><td>0</td><td>0</td><td>0</td><td>0</td><td>0</td><td>0</td><td>0</td><td>0</td><td>0</td></tr>\n",
       "</tbody>\n",
       "</table>\n"
      ],
      "text/latex": [
       "A data.frame: 6 × 13074\n",
       "\\begin{tabular}{r|lllllllllllllllllllll}\n",
       "  & doc\\_id & Text & Labels & Text\\_Tag & length & esclam\\_mark & commas & two\\_points & semicolon & 1 & ⋯ & the highest corpor tax rate in the & almost as much wealth as the bottom & as much wealth as the bottom 90 & much wealth as the bottom 90 percent & own almost as much wealth as the & are open serv in the u congress & are socialist who are open serv in & socialist who are open serv in the & who are open serv in the u & under the new health care law the\\\\\n",
       "  & <chr> & <chr> & <int> & <chr> & <int> & <int> & <int> & <int> & <int> & <dbl> & ⋯ & <dbl> & <dbl> & <dbl> & <dbl> & <dbl> & <dbl> & <dbl> & <dbl> & <dbl> & <dbl>\\\\\n",
       "\\hline\n",
       "\t1 & 1 3 of our kid drop out of high school cannot go to colleg or start a career & 1/3 of our kids drop out (of high school), cannot go to college or start a career.  & 0 & corrections-and-updates,education          & 82 & 0 & 1 & 0 & 0 & 1 & ⋯ & 0 & 0 & 0 & 0 & 0 & 0 & 0 & 0 & 0 & 0\\\\\n",
       "\t2 & 1 in 4 rhode island under the age of 65 doe not have health insur            & 1 in 4 Rhode Islanders under the age of 65 does not have health insurance.          & 2 & health-care                                & 74 & 0 & 0 & 0 & 0 & 1 & ⋯ & 0 & 0 & 0 & 0 & 0 & 0 & 0 & 0 & 0 & 0\\\\\n",
       "\t3 & 1 percent of candid that the nation rifl associ endors in 2012 won           & 1 percent of candidates that (the National Rifle Association) endorsed in 2012 won. & 1 & campaign-finance,guns,pundits              & 83 & 0 & 0 & 0 & 0 & 1 & ⋯ & 0 & 0 & 0 & 0 & 0 & 0 & 0 & 0 & 0 & 0\\\\\n",
       "\t4 & 1.3 million peopl in america make their live off ebay                        & 1.3-million people in America make their living off eBay.                           & 1 & economy                                    & 57 & 0 & 0 & 0 & 0 & 0 & ⋯ & 0 & 0 & 0 & 0 & 0 & 0 & 0 & 0 & 0 & 0\\\\\n",
       "\t5 & 1.53 million job are at risk from potenti defens cut                         & 1.53 million jobs are at risk (from potential defense cuts).                        & 3 & deficit,jobs,message-machine-2012,military & 60 & 0 & 0 & 0 & 0 & 0 & ⋯ & 0 & 0 & 0 & 0 & 0 & 0 & 0 & 0 & 0 & 0\\\\\n",
       "\t6 & 10 cent on thedollar from the clinton foundat goe to charit caus             & 10 cents on thedollar from the Clinton Foundation goes to charitable causes.        & 1 & candidates-biography                       & 76 & 0 & 0 & 0 & 0 & 0 & ⋯ & 0 & 0 & 0 & 0 & 0 & 0 & 0 & 0 & 0 & 0\\\\\n",
       "\\end{tabular}\n"
      ],
      "text/markdown": [
       "\n",
       "A data.frame: 6 × 13074\n",
       "\n",
       "| <!--/--> | doc_id &lt;chr&gt; | Text &lt;chr&gt; | Labels &lt;int&gt; | Text_Tag &lt;chr&gt; | length &lt;int&gt; | esclam_mark &lt;int&gt; | commas &lt;int&gt; | two_points &lt;int&gt; | semicolon &lt;int&gt; | 1 &lt;dbl&gt; | ⋯ ⋯ | the highest corpor tax rate in the &lt;dbl&gt; | almost as much wealth as the bottom &lt;dbl&gt; | as much wealth as the bottom 90 &lt;dbl&gt; | much wealth as the bottom 90 percent &lt;dbl&gt; | own almost as much wealth as the &lt;dbl&gt; | are open serv in the u congress &lt;dbl&gt; | are socialist who are open serv in &lt;dbl&gt; | socialist who are open serv in the &lt;dbl&gt; | who are open serv in the u &lt;dbl&gt; | under the new health care law the &lt;dbl&gt; |\n",
       "|---|---|---|---|---|---|---|---|---|---|---|---|---|---|---|---|---|---|---|---|---|---|\n",
       "| 1 | 1 3 of our kid drop out of high school cannot go to colleg or start a career | 1/3 of our kids drop out (of high school), cannot go to college or start a career.  | 0 | corrections-and-updates,education          | 82 | 0 | 1 | 0 | 0 | 1 | ⋯ | 0 | 0 | 0 | 0 | 0 | 0 | 0 | 0 | 0 | 0 |\n",
       "| 2 | 1 in 4 rhode island under the age of 65 doe not have health insur            | 1 in 4 Rhode Islanders under the age of 65 does not have health insurance.          | 2 | health-care                                | 74 | 0 | 0 | 0 | 0 | 1 | ⋯ | 0 | 0 | 0 | 0 | 0 | 0 | 0 | 0 | 0 | 0 |\n",
       "| 3 | 1 percent of candid that the nation rifl associ endors in 2012 won           | 1 percent of candidates that (the National Rifle Association) endorsed in 2012 won. | 1 | campaign-finance,guns,pundits              | 83 | 0 | 0 | 0 | 0 | 1 | ⋯ | 0 | 0 | 0 | 0 | 0 | 0 | 0 | 0 | 0 | 0 |\n",
       "| 4 | 1.3 million peopl in america make their live off ebay                        | 1.3-million people in America make their living off eBay.                           | 1 | economy                                    | 57 | 0 | 0 | 0 | 0 | 0 | ⋯ | 0 | 0 | 0 | 0 | 0 | 0 | 0 | 0 | 0 | 0 |\n",
       "| 5 | 1.53 million job are at risk from potenti defens cut                         | 1.53 million jobs are at risk (from potential defense cuts).                        | 3 | deficit,jobs,message-machine-2012,military | 60 | 0 | 0 | 0 | 0 | 0 | ⋯ | 0 | 0 | 0 | 0 | 0 | 0 | 0 | 0 | 0 | 0 |\n",
       "| 6 | 10 cent on thedollar from the clinton foundat goe to charit caus             | 10 cents on thedollar from the Clinton Foundation goes to charitable causes.        | 1 | candidates-biography                       | 76 | 0 | 0 | 0 | 0 | 0 | ⋯ | 0 | 0 | 0 | 0 | 0 | 0 | 0 | 0 | 0 | 0 |\n",
       "\n"
      ],
      "text/plain": [
       "  doc_id                                                                      \n",
       "1 1 3 of our kid drop out of high school cannot go to colleg or start a career\n",
       "2 1 in 4 rhode island under the age of 65 doe not have health insur           \n",
       "3 1 percent of candid that the nation rifl associ endors in 2012 won          \n",
       "4 1.3 million peopl in america make their live off ebay                       \n",
       "5 1.53 million job are at risk from potenti defens cut                        \n",
       "6 10 cent on thedollar from the clinton foundat goe to charit caus            \n",
       "  Text                                                                               \n",
       "1 1/3 of our kids drop out (of high school), cannot go to college or start a career. \n",
       "2 1 in 4 Rhode Islanders under the age of 65 does not have health insurance.         \n",
       "3 1 percent of candidates that (the National Rifle Association) endorsed in 2012 won.\n",
       "4 1.3-million people in America make their living off eBay.                          \n",
       "5 1.53 million jobs are at risk (from potential defense cuts).                       \n",
       "6 10 cents on thedollar from the Clinton Foundation goes to charitable causes.       \n",
       "  Labels Text_Tag                                   length esclam_mark commas\n",
       "1 0      corrections-and-updates,education          82     0           1     \n",
       "2 2      health-care                                74     0           0     \n",
       "3 1      campaign-finance,guns,pundits              83     0           0     \n",
       "4 1      economy                                    57     0           0     \n",
       "5 3      deficit,jobs,message-machine-2012,military 60     0           0     \n",
       "6 1      candidates-biography                       76     0           0     \n",
       "  two_points semicolon 1 ⋯ the highest corpor tax rate in the\n",
       "1 0          0         1 ⋯ 0                                 \n",
       "2 0          0         1 ⋯ 0                                 \n",
       "3 0          0         1 ⋯ 0                                 \n",
       "4 0          0         0 ⋯ 0                                 \n",
       "5 0          0         0 ⋯ 0                                 \n",
       "6 0          0         0 ⋯ 0                                 \n",
       "  almost as much wealth as the bottom as much wealth as the bottom 90\n",
       "1 0                                   0                              \n",
       "2 0                                   0                              \n",
       "3 0                                   0                              \n",
       "4 0                                   0                              \n",
       "5 0                                   0                              \n",
       "6 0                                   0                              \n",
       "  much wealth as the bottom 90 percent own almost as much wealth as the\n",
       "1 0                                    0                               \n",
       "2 0                                    0                               \n",
       "3 0                                    0                               \n",
       "4 0                                    0                               \n",
       "5 0                                    0                               \n",
       "6 0                                    0                               \n",
       "  are open serv in the u congress are socialist who are open serv in\n",
       "1 0                               0                                 \n",
       "2 0                               0                                 \n",
       "3 0                               0                                 \n",
       "4 0                               0                                 \n",
       "5 0                               0                                 \n",
       "6 0                               0                                 \n",
       "  socialist who are open serv in the who are open serv in the u\n",
       "1 0                                  0                         \n",
       "2 0                                  0                         \n",
       "3 0                                  0                         \n",
       "4 0                                  0                         \n",
       "5 0                                  0                         \n",
       "6 0                                  0                         \n",
       "  under the new health care law the\n",
       "1 0                                \n",
       "2 0                                \n",
       "3 0                                \n",
       "4 0                                \n",
       "5 0                                \n",
       "6 0                                "
      ]
     },
     "metadata": {},
     "output_type": "display_data"
    }
   ],
   "source": [
    "too_common <- c(\"in\", \"the\", \"of\", \"to\", \"a\", \"and\", \"they\", \"or\", \"for\", \"that\", \"says\", \"we\", \n",
    "             \"more\", \"at\", \"be\", \"about\", \"will\", \"one\", \"an\", \"his\", \"you\", \"their\", \"is\", \n",
    "             \"on\", \"has\", \"have\", \"are\", \"was\", \"by\", \"it\", \"from\", \"with\", \"as\", \"not\", \"our\", \n",
    "             \"I\", \"this\", \"he\", \"been\", \"NA\")\n",
    "\n",
    "\n",
    "labelled_set <- feature_generation(labelled_set_stemmed, emotion = FALSE, punctuation = TRUE, ngrams = TRUE, highest_gram = 7, minimum_frequencies = c(5, 5, 4, 3, 3, 3, 3), toocommon = toocommon)\n",
    "labelled_set <- labelled_set[!is.na(colnames(labelled_set))]\n",
    "head(labelled_set)"
   ]
  },
  {
   "cell_type": "code",
   "execution_count": 7,
   "id": "c0f97bd5-a0c5-46d5-b79f-3d109fd9e20b",
   "metadata": {
    "scrolled": true,
    "tags": []
   },
   "outputs": [
    {
     "name": "stdout",
     "output_type": "stream",
     "text": [
      "Training set:\n"
     ]
    },
    {
     "data": {
      "text/html": [
       "<table class=\"dataframe\">\n",
       "<caption>A data.frame: 6 × 13074</caption>\n",
       "<thead>\n",
       "\t<tr><th></th><th scope=col>doc_id</th><th scope=col>Text</th><th scope=col>Labels</th><th scope=col>Text_Tag</th><th scope=col>length</th><th scope=col>esclam_mark</th><th scope=col>commas</th><th scope=col>two_points</th><th scope=col>semicolon</th><th scope=col>1</th><th scope=col>⋯</th><th scope=col>the highest corpor tax rate in the</th><th scope=col>almost as much wealth as the bottom</th><th scope=col>as much wealth as the bottom 90</th><th scope=col>much wealth as the bottom 90 percent</th><th scope=col>own almost as much wealth as the</th><th scope=col>are open serv in the u congress</th><th scope=col>are socialist who are open serv in</th><th scope=col>socialist who are open serv in the</th><th scope=col>who are open serv in the u</th><th scope=col>under the new health care law the</th></tr>\n",
       "\t<tr><th></th><th scope=col>&lt;chr&gt;</th><th scope=col>&lt;chr&gt;</th><th scope=col>&lt;int&gt;</th><th scope=col>&lt;chr&gt;</th><th scope=col>&lt;int&gt;</th><th scope=col>&lt;int&gt;</th><th scope=col>&lt;int&gt;</th><th scope=col>&lt;int&gt;</th><th scope=col>&lt;int&gt;</th><th scope=col>&lt;dbl&gt;</th><th scope=col>⋯</th><th scope=col>&lt;dbl&gt;</th><th scope=col>&lt;dbl&gt;</th><th scope=col>&lt;dbl&gt;</th><th scope=col>&lt;dbl&gt;</th><th scope=col>&lt;dbl&gt;</th><th scope=col>&lt;dbl&gt;</th><th scope=col>&lt;dbl&gt;</th><th scope=col>&lt;dbl&gt;</th><th scope=col>&lt;dbl&gt;</th><th scope=col>&lt;dbl&gt;</th></tr>\n",
       "</thead>\n",
       "<tbody>\n",
       "\t<tr><th scope=row>1</th><td>1 3 of our kid drop out of high school cannot go to colleg or start a career</td><td>1/3 of our kids drop out (of high school), cannot go to college or start a career. </td><td>0</td><td>corrections-and-updates,education         </td><td>82</td><td>0</td><td>1</td><td>0</td><td>0</td><td>1</td><td>⋯</td><td>0</td><td>0</td><td>0</td><td>0</td><td>0</td><td>0</td><td>0</td><td>0</td><td>0</td><td>0</td></tr>\n",
       "\t<tr><th scope=row>2</th><td>1 in 4 rhode island under the age of 65 doe not have health insur           </td><td>1 in 4 Rhode Islanders under the age of 65 does not have health insurance.         </td><td>2</td><td>health-care                               </td><td>74</td><td>0</td><td>0</td><td>0</td><td>0</td><td>1</td><td>⋯</td><td>0</td><td>0</td><td>0</td><td>0</td><td>0</td><td>0</td><td>0</td><td>0</td><td>0</td><td>0</td></tr>\n",
       "\t<tr><th scope=row>3</th><td>1 percent of candid that the nation rifl associ endors in 2012 won          </td><td>1 percent of candidates that (the National Rifle Association) endorsed in 2012 won.</td><td>1</td><td>campaign-finance,guns,pundits             </td><td>83</td><td>0</td><td>0</td><td>0</td><td>0</td><td>1</td><td>⋯</td><td>0</td><td>0</td><td>0</td><td>0</td><td>0</td><td>0</td><td>0</td><td>0</td><td>0</td><td>0</td></tr>\n",
       "\t<tr><th scope=row>4</th><td>1.3 million peopl in america make their live off ebay                       </td><td>1.3-million people in America make their living off eBay.                          </td><td>1</td><td>economy                                   </td><td>57</td><td>0</td><td>0</td><td>0</td><td>0</td><td>0</td><td>⋯</td><td>0</td><td>0</td><td>0</td><td>0</td><td>0</td><td>0</td><td>0</td><td>0</td><td>0</td><td>0</td></tr>\n",
       "\t<tr><th scope=row>5</th><td>1.53 million job are at risk from potenti defens cut                        </td><td>1.53 million jobs are at risk (from potential defense cuts).                       </td><td>3</td><td>deficit,jobs,message-machine-2012,military</td><td>60</td><td>0</td><td>0</td><td>0</td><td>0</td><td>0</td><td>⋯</td><td>0</td><td>0</td><td>0</td><td>0</td><td>0</td><td>0</td><td>0</td><td>0</td><td>0</td><td>0</td></tr>\n",
       "\t<tr><th scope=row>6</th><td>10 cent on thedollar from the clinton foundat goe to charit caus            </td><td>10 cents on thedollar from the Clinton Foundation goes to charitable causes.       </td><td>1</td><td>candidates-biography                      </td><td>76</td><td>0</td><td>0</td><td>0</td><td>0</td><td>0</td><td>⋯</td><td>0</td><td>0</td><td>0</td><td>0</td><td>0</td><td>0</td><td>0</td><td>0</td><td>0</td><td>0</td></tr>\n",
       "</tbody>\n",
       "</table>\n"
      ],
      "text/latex": [
       "A data.frame: 6 × 13074\n",
       "\\begin{tabular}{r|lllllllllllllllllllll}\n",
       "  & doc\\_id & Text & Labels & Text\\_Tag & length & esclam\\_mark & commas & two\\_points & semicolon & 1 & ⋯ & the highest corpor tax rate in the & almost as much wealth as the bottom & as much wealth as the bottom 90 & much wealth as the bottom 90 percent & own almost as much wealth as the & are open serv in the u congress & are socialist who are open serv in & socialist who are open serv in the & who are open serv in the u & under the new health care law the\\\\\n",
       "  & <chr> & <chr> & <int> & <chr> & <int> & <int> & <int> & <int> & <int> & <dbl> & ⋯ & <dbl> & <dbl> & <dbl> & <dbl> & <dbl> & <dbl> & <dbl> & <dbl> & <dbl> & <dbl>\\\\\n",
       "\\hline\n",
       "\t1 & 1 3 of our kid drop out of high school cannot go to colleg or start a career & 1/3 of our kids drop out (of high school), cannot go to college or start a career.  & 0 & corrections-and-updates,education          & 82 & 0 & 1 & 0 & 0 & 1 & ⋯ & 0 & 0 & 0 & 0 & 0 & 0 & 0 & 0 & 0 & 0\\\\\n",
       "\t2 & 1 in 4 rhode island under the age of 65 doe not have health insur            & 1 in 4 Rhode Islanders under the age of 65 does not have health insurance.          & 2 & health-care                                & 74 & 0 & 0 & 0 & 0 & 1 & ⋯ & 0 & 0 & 0 & 0 & 0 & 0 & 0 & 0 & 0 & 0\\\\\n",
       "\t3 & 1 percent of candid that the nation rifl associ endors in 2012 won           & 1 percent of candidates that (the National Rifle Association) endorsed in 2012 won. & 1 & campaign-finance,guns,pundits              & 83 & 0 & 0 & 0 & 0 & 1 & ⋯ & 0 & 0 & 0 & 0 & 0 & 0 & 0 & 0 & 0 & 0\\\\\n",
       "\t4 & 1.3 million peopl in america make their live off ebay                        & 1.3-million people in America make their living off eBay.                           & 1 & economy                                    & 57 & 0 & 0 & 0 & 0 & 0 & ⋯ & 0 & 0 & 0 & 0 & 0 & 0 & 0 & 0 & 0 & 0\\\\\n",
       "\t5 & 1.53 million job are at risk from potenti defens cut                         & 1.53 million jobs are at risk (from potential defense cuts).                        & 3 & deficit,jobs,message-machine-2012,military & 60 & 0 & 0 & 0 & 0 & 0 & ⋯ & 0 & 0 & 0 & 0 & 0 & 0 & 0 & 0 & 0 & 0\\\\\n",
       "\t6 & 10 cent on thedollar from the clinton foundat goe to charit caus             & 10 cents on thedollar from the Clinton Foundation goes to charitable causes.        & 1 & candidates-biography                       & 76 & 0 & 0 & 0 & 0 & 0 & ⋯ & 0 & 0 & 0 & 0 & 0 & 0 & 0 & 0 & 0 & 0\\\\\n",
       "\\end{tabular}\n"
      ],
      "text/markdown": [
       "\n",
       "A data.frame: 6 × 13074\n",
       "\n",
       "| <!--/--> | doc_id &lt;chr&gt; | Text &lt;chr&gt; | Labels &lt;int&gt; | Text_Tag &lt;chr&gt; | length &lt;int&gt; | esclam_mark &lt;int&gt; | commas &lt;int&gt; | two_points &lt;int&gt; | semicolon &lt;int&gt; | 1 &lt;dbl&gt; | ⋯ ⋯ | the highest corpor tax rate in the &lt;dbl&gt; | almost as much wealth as the bottom &lt;dbl&gt; | as much wealth as the bottom 90 &lt;dbl&gt; | much wealth as the bottom 90 percent &lt;dbl&gt; | own almost as much wealth as the &lt;dbl&gt; | are open serv in the u congress &lt;dbl&gt; | are socialist who are open serv in &lt;dbl&gt; | socialist who are open serv in the &lt;dbl&gt; | who are open serv in the u &lt;dbl&gt; | under the new health care law the &lt;dbl&gt; |\n",
       "|---|---|---|---|---|---|---|---|---|---|---|---|---|---|---|---|---|---|---|---|---|---|\n",
       "| 1 | 1 3 of our kid drop out of high school cannot go to colleg or start a career | 1/3 of our kids drop out (of high school), cannot go to college or start a career.  | 0 | corrections-and-updates,education          | 82 | 0 | 1 | 0 | 0 | 1 | ⋯ | 0 | 0 | 0 | 0 | 0 | 0 | 0 | 0 | 0 | 0 |\n",
       "| 2 | 1 in 4 rhode island under the age of 65 doe not have health insur            | 1 in 4 Rhode Islanders under the age of 65 does not have health insurance.          | 2 | health-care                                | 74 | 0 | 0 | 0 | 0 | 1 | ⋯ | 0 | 0 | 0 | 0 | 0 | 0 | 0 | 0 | 0 | 0 |\n",
       "| 3 | 1 percent of candid that the nation rifl associ endors in 2012 won           | 1 percent of candidates that (the National Rifle Association) endorsed in 2012 won. | 1 | campaign-finance,guns,pundits              | 83 | 0 | 0 | 0 | 0 | 1 | ⋯ | 0 | 0 | 0 | 0 | 0 | 0 | 0 | 0 | 0 | 0 |\n",
       "| 4 | 1.3 million peopl in america make their live off ebay                        | 1.3-million people in America make their living off eBay.                           | 1 | economy                                    | 57 | 0 | 0 | 0 | 0 | 0 | ⋯ | 0 | 0 | 0 | 0 | 0 | 0 | 0 | 0 | 0 | 0 |\n",
       "| 5 | 1.53 million job are at risk from potenti defens cut                         | 1.53 million jobs are at risk (from potential defense cuts).                        | 3 | deficit,jobs,message-machine-2012,military | 60 | 0 | 0 | 0 | 0 | 0 | ⋯ | 0 | 0 | 0 | 0 | 0 | 0 | 0 | 0 | 0 | 0 |\n",
       "| 6 | 10 cent on thedollar from the clinton foundat goe to charit caus             | 10 cents on thedollar from the Clinton Foundation goes to charitable causes.        | 1 | candidates-biography                       | 76 | 0 | 0 | 0 | 0 | 0 | ⋯ | 0 | 0 | 0 | 0 | 0 | 0 | 0 | 0 | 0 | 0 |\n",
       "\n"
      ],
      "text/plain": [
       "  doc_id                                                                      \n",
       "1 1 3 of our kid drop out of high school cannot go to colleg or start a career\n",
       "2 1 in 4 rhode island under the age of 65 doe not have health insur           \n",
       "3 1 percent of candid that the nation rifl associ endors in 2012 won          \n",
       "4 1.3 million peopl in america make their live off ebay                       \n",
       "5 1.53 million job are at risk from potenti defens cut                        \n",
       "6 10 cent on thedollar from the clinton foundat goe to charit caus            \n",
       "  Text                                                                               \n",
       "1 1/3 of our kids drop out (of high school), cannot go to college or start a career. \n",
       "2 1 in 4 Rhode Islanders under the age of 65 does not have health insurance.         \n",
       "3 1 percent of candidates that (the National Rifle Association) endorsed in 2012 won.\n",
       "4 1.3-million people in America make their living off eBay.                          \n",
       "5 1.53 million jobs are at risk (from potential defense cuts).                       \n",
       "6 10 cents on thedollar from the Clinton Foundation goes to charitable causes.       \n",
       "  Labels Text_Tag                                   length esclam_mark commas\n",
       "1 0      corrections-and-updates,education          82     0           1     \n",
       "2 2      health-care                                74     0           0     \n",
       "3 1      campaign-finance,guns,pundits              83     0           0     \n",
       "4 1      economy                                    57     0           0     \n",
       "5 3      deficit,jobs,message-machine-2012,military 60     0           0     \n",
       "6 1      candidates-biography                       76     0           0     \n",
       "  two_points semicolon 1 ⋯ the highest corpor tax rate in the\n",
       "1 0          0         1 ⋯ 0                                 \n",
       "2 0          0         1 ⋯ 0                                 \n",
       "3 0          0         1 ⋯ 0                                 \n",
       "4 0          0         0 ⋯ 0                                 \n",
       "5 0          0         0 ⋯ 0                                 \n",
       "6 0          0         0 ⋯ 0                                 \n",
       "  almost as much wealth as the bottom as much wealth as the bottom 90\n",
       "1 0                                   0                              \n",
       "2 0                                   0                              \n",
       "3 0                                   0                              \n",
       "4 0                                   0                              \n",
       "5 0                                   0                              \n",
       "6 0                                   0                              \n",
       "  much wealth as the bottom 90 percent own almost as much wealth as the\n",
       "1 0                                    0                               \n",
       "2 0                                    0                               \n",
       "3 0                                    0                               \n",
       "4 0                                    0                               \n",
       "5 0                                    0                               \n",
       "6 0                                    0                               \n",
       "  are open serv in the u congress are socialist who are open serv in\n",
       "1 0                               0                                 \n",
       "2 0                               0                                 \n",
       "3 0                               0                                 \n",
       "4 0                               0                                 \n",
       "5 0                               0                                 \n",
       "6 0                               0                                 \n",
       "  socialist who are open serv in the who are open serv in the u\n",
       "1 0                                  0                         \n",
       "2 0                                  0                         \n",
       "3 0                                  0                         \n",
       "4 0                                  0                         \n",
       "5 0                                  0                         \n",
       "6 0                                  0                         \n",
       "  under the new health care law the\n",
       "1 0                                \n",
       "2 0                                \n",
       "3 0                                \n",
       "4 0                                \n",
       "5 0                                \n",
       "6 0                                "
      ]
     },
     "metadata": {},
     "output_type": "display_data"
    },
    {
     "name": "stdout",
     "output_type": "stream",
     "text": [
      "\n",
      "Test set:\n"
     ]
    },
    {
     "data": {
      "text/html": [
       "<table class=\"dataframe\">\n",
       "<caption>A data.frame: 6 × 13074</caption>\n",
       "<thead>\n",
       "\t<tr><th></th><th scope=col>doc_id</th><th scope=col>Text</th><th scope=col>Labels</th><th scope=col>Text_Tag</th><th scope=col>length</th><th scope=col>esclam_mark</th><th scope=col>commas</th><th scope=col>two_points</th><th scope=col>semicolon</th><th scope=col>1</th><th scope=col>⋯</th><th scope=col>the highest corpor tax rate in the</th><th scope=col>almost as much wealth as the bottom</th><th scope=col>as much wealth as the bottom 90</th><th scope=col>much wealth as the bottom 90 percent</th><th scope=col>own almost as much wealth as the</th><th scope=col>are open serv in the u congress</th><th scope=col>are socialist who are open serv in</th><th scope=col>socialist who are open serv in the</th><th scope=col>who are open serv in the u</th><th scope=col>under the new health care law the</th></tr>\n",
       "\t<tr><th></th><th scope=col>&lt;chr&gt;</th><th scope=col>&lt;chr&gt;</th><th scope=col>&lt;int&gt;</th><th scope=col>&lt;chr&gt;</th><th scope=col>&lt;int&gt;</th><th scope=col>&lt;int&gt;</th><th scope=col>&lt;int&gt;</th><th scope=col>&lt;int&gt;</th><th scope=col>&lt;int&gt;</th><th scope=col>&lt;dbl&gt;</th><th scope=col>⋯</th><th scope=col>&lt;dbl&gt;</th><th scope=col>&lt;dbl&gt;</th><th scope=col>&lt;dbl&gt;</th><th scope=col>&lt;dbl&gt;</th><th scope=col>&lt;dbl&gt;</th><th scope=col>&lt;dbl&gt;</th><th scope=col>&lt;dbl&gt;</th><th scope=col>&lt;dbl&gt;</th><th scope=col>&lt;dbl&gt;</th><th scope=col>&lt;dbl&gt;</th></tr>\n",
       "</thead>\n",
       "<tbody>\n",
       "\t<tr><th scope=row>8193</th><td>the media wide overlook comment made by former presid bill clinton that hillari clinton had a terribl concuss that took six month to recov from                 </td><td>The media widely overlooked comments made by former President Bill Clinton that Hillary Clinton had a terrible concussion that took six months to recover from.                    </td><td>1</td><td>candidates-biography                    </td><td>159</td><td>0</td><td>0</td><td>0</td><td>0</td><td>0</td><td>⋯</td><td>0</td><td>0</td><td>0</td><td>0</td><td>0</td><td>0</td><td>0</td><td>0</td><td>0</td><td>0</td></tr>\n",
       "\t<tr><th scope=row>8194</th><td>the media wont publish a real photo of trayvon martin with tattoo on his face                                                                                   </td><td>The media wont publish a real photo of Trayvon Martin with tattoos on his face.                                                                                                    </td><td>4</td><td>crime                                   </td><td> 79</td><td>0</td><td>0</td><td>0</td><td>0</td><td>0</td><td>⋯</td><td>0</td><td>0</td><td>0</td><td>0</td><td>0</td><td>0</td><td>0</td><td>0</td><td>0</td><td>0</td></tr>\n",
       "\t<tr><th scope=row>8195</th><td>the median incom in this countri has declin 10 percent in the last four year                                                                                    </td><td>The median income in this country has declined 10 percent in the last four years.                                                                                                  </td><td>2</td><td>economy                                 </td><td> 81</td><td>0</td><td>0</td><td>0</td><td>0</td><td>0</td><td>⋯</td><td>0</td><td>0</td><td>0</td><td>0</td><td>0</td><td>0</td><td>0</td><td>0</td><td>0</td><td>0</td></tr>\n",
       "\t<tr><th scope=row>8196</th><td>the median male worker in this countri has not seen a rais inflat adjust for 30 year basic                                                                      </td><td>The median male worker in this country has not seen a raise, inflation adjusted, for 30 years, basically.                                                                          </td><td>3</td><td>economy,jobs,labor,workers              </td><td>105</td><td>0</td><td>3</td><td>0</td><td>0</td><td>0</td><td>⋯</td><td>0</td><td>0</td><td>0</td><td>0</td><td>0</td><td>0</td><td>0</td><td>0</td><td>0</td><td>0</td></tr>\n",
       "\t<tr><th scope=row>8197</th><td>the median net worth of american household hasnt chang much over the past decad it about 20,000 but congress averag median net worth has balloon more than doubl</td><td>The median net worth of American households hasnt changed much over the past decades, its about $20,000 ... but Congress average median net worth has ballooned, more than doubled.</td><td>2</td><td>congress,wealth                         </td><td>179</td><td>0</td><td>3</td><td>0</td><td>0</td><td>0</td><td>⋯</td><td>0</td><td>0</td><td>0</td><td>0</td><td>0</td><td>0</td><td>0</td><td>0</td><td>0</td><td>0</td></tr>\n",
       "\t<tr><th scope=row>8198</th><td>the medic marijuana ballot initi doesnt requir a physician write a prescript and can be for condit like have a back that need to be scratch                     </td><td>The medical marijuana ballot initiative doesnt require a physician writing a prescription and can be for conditions like having a back that needs to be scratched.                 </td><td>2</td><td>florida-amendments,health-care,marijuana</td><td>162</td><td>0</td><td>0</td><td>0</td><td>0</td><td>0</td><td>⋯</td><td>0</td><td>0</td><td>0</td><td>0</td><td>0</td><td>0</td><td>0</td><td>0</td><td>0</td><td>0</td></tr>\n",
       "</tbody>\n",
       "</table>\n"
      ],
      "text/latex": [
       "A data.frame: 6 × 13074\n",
       "\\begin{tabular}{r|lllllllllllllllllllll}\n",
       "  & doc\\_id & Text & Labels & Text\\_Tag & length & esclam\\_mark & commas & two\\_points & semicolon & 1 & ⋯ & the highest corpor tax rate in the & almost as much wealth as the bottom & as much wealth as the bottom 90 & much wealth as the bottom 90 percent & own almost as much wealth as the & are open serv in the u congress & are socialist who are open serv in & socialist who are open serv in the & who are open serv in the u & under the new health care law the\\\\\n",
       "  & <chr> & <chr> & <int> & <chr> & <int> & <int> & <int> & <int> & <int> & <dbl> & ⋯ & <dbl> & <dbl> & <dbl> & <dbl> & <dbl> & <dbl> & <dbl> & <dbl> & <dbl> & <dbl>\\\\\n",
       "\\hline\n",
       "\t8193 & the media wide overlook comment made by former presid bill clinton that hillari clinton had a terribl concuss that took six month to recov from                  & The media widely overlooked comments made by former President Bill Clinton that Hillary Clinton had a terrible concussion that took six months to recover from.                     & 1 & candidates-biography                     & 159 & 0 & 0 & 0 & 0 & 0 & ⋯ & 0 & 0 & 0 & 0 & 0 & 0 & 0 & 0 & 0 & 0\\\\\n",
       "\t8194 & the media wont publish a real photo of trayvon martin with tattoo on his face                                                                                    & The media wont publish a real photo of Trayvon Martin with tattoos on his face.                                                                                                     & 4 & crime                                    &  79 & 0 & 0 & 0 & 0 & 0 & ⋯ & 0 & 0 & 0 & 0 & 0 & 0 & 0 & 0 & 0 & 0\\\\\n",
       "\t8195 & the median incom in this countri has declin 10 percent in the last four year                                                                                     & The median income in this country has declined 10 percent in the last four years.                                                                                                   & 2 & economy                                  &  81 & 0 & 0 & 0 & 0 & 0 & ⋯ & 0 & 0 & 0 & 0 & 0 & 0 & 0 & 0 & 0 & 0\\\\\n",
       "\t8196 & the median male worker in this countri has not seen a rais inflat adjust for 30 year basic                                                                       & The median male worker in this country has not seen a raise, inflation adjusted, for 30 years, basically.                                                                           & 3 & economy,jobs,labor,workers               & 105 & 0 & 3 & 0 & 0 & 0 & ⋯ & 0 & 0 & 0 & 0 & 0 & 0 & 0 & 0 & 0 & 0\\\\\n",
       "\t8197 & the median net worth of american household hasnt chang much over the past decad it about 20,000 but congress averag median net worth has balloon more than doubl & The median net worth of American households hasnt changed much over the past decades, its about \\$20,000 ... but Congress average median net worth has ballooned, more than doubled. & 2 & congress,wealth                          & 179 & 0 & 3 & 0 & 0 & 0 & ⋯ & 0 & 0 & 0 & 0 & 0 & 0 & 0 & 0 & 0 & 0\\\\\n",
       "\t8198 & the medic marijuana ballot initi doesnt requir a physician write a prescript and can be for condit like have a back that need to be scratch                      & The medical marijuana ballot initiative doesnt require a physician writing a prescription and can be for conditions like having a back that needs to be scratched.                  & 2 & florida-amendments,health-care,marijuana & 162 & 0 & 0 & 0 & 0 & 0 & ⋯ & 0 & 0 & 0 & 0 & 0 & 0 & 0 & 0 & 0 & 0\\\\\n",
       "\\end{tabular}\n"
      ],
      "text/markdown": [
       "\n",
       "A data.frame: 6 × 13074\n",
       "\n",
       "| <!--/--> | doc_id &lt;chr&gt; | Text &lt;chr&gt; | Labels &lt;int&gt; | Text_Tag &lt;chr&gt; | length &lt;int&gt; | esclam_mark &lt;int&gt; | commas &lt;int&gt; | two_points &lt;int&gt; | semicolon &lt;int&gt; | 1 &lt;dbl&gt; | ⋯ ⋯ | the highest corpor tax rate in the &lt;dbl&gt; | almost as much wealth as the bottom &lt;dbl&gt; | as much wealth as the bottom 90 &lt;dbl&gt; | much wealth as the bottom 90 percent &lt;dbl&gt; | own almost as much wealth as the &lt;dbl&gt; | are open serv in the u congress &lt;dbl&gt; | are socialist who are open serv in &lt;dbl&gt; | socialist who are open serv in the &lt;dbl&gt; | who are open serv in the u &lt;dbl&gt; | under the new health care law the &lt;dbl&gt; |\n",
       "|---|---|---|---|---|---|---|---|---|---|---|---|---|---|---|---|---|---|---|---|---|---|\n",
       "| 8193 | the media wide overlook comment made by former presid bill clinton that hillari clinton had a terribl concuss that took six month to recov from                  | The media widely overlooked comments made by former President Bill Clinton that Hillary Clinton had a terrible concussion that took six months to recover from.                     | 1 | candidates-biography                     | 159 | 0 | 0 | 0 | 0 | 0 | ⋯ | 0 | 0 | 0 | 0 | 0 | 0 | 0 | 0 | 0 | 0 |\n",
       "| 8194 | the media wont publish a real photo of trayvon martin with tattoo on his face                                                                                    | The media wont publish a real photo of Trayvon Martin with tattoos on his face.                                                                                                     | 4 | crime                                    |  79 | 0 | 0 | 0 | 0 | 0 | ⋯ | 0 | 0 | 0 | 0 | 0 | 0 | 0 | 0 | 0 | 0 |\n",
       "| 8195 | the median incom in this countri has declin 10 percent in the last four year                                                                                     | The median income in this country has declined 10 percent in the last four years.                                                                                                   | 2 | economy                                  |  81 | 0 | 0 | 0 | 0 | 0 | ⋯ | 0 | 0 | 0 | 0 | 0 | 0 | 0 | 0 | 0 | 0 |\n",
       "| 8196 | the median male worker in this countri has not seen a rais inflat adjust for 30 year basic                                                                       | The median male worker in this country has not seen a raise, inflation adjusted, for 30 years, basically.                                                                           | 3 | economy,jobs,labor,workers               | 105 | 0 | 3 | 0 | 0 | 0 | ⋯ | 0 | 0 | 0 | 0 | 0 | 0 | 0 | 0 | 0 | 0 |\n",
       "| 8197 | the median net worth of american household hasnt chang much over the past decad it about 20,000 but congress averag median net worth has balloon more than doubl | The median net worth of American households hasnt changed much over the past decades, its about $20,000 ... but Congress average median net worth has ballooned, more than doubled. | 2 | congress,wealth                          | 179 | 0 | 3 | 0 | 0 | 0 | ⋯ | 0 | 0 | 0 | 0 | 0 | 0 | 0 | 0 | 0 | 0 |\n",
       "| 8198 | the medic marijuana ballot initi doesnt requir a physician write a prescript and can be for condit like have a back that need to be scratch                      | The medical marijuana ballot initiative doesnt require a physician writing a prescription and can be for conditions like having a back that needs to be scratched.                  | 2 | florida-amendments,health-care,marijuana | 162 | 0 | 0 | 0 | 0 | 0 | ⋯ | 0 | 0 | 0 | 0 | 0 | 0 | 0 | 0 | 0 | 0 |\n",
       "\n"
      ],
      "text/plain": [
       "     doc_id                                                                                                                                                          \n",
       "8193 the media wide overlook comment made by former presid bill clinton that hillari clinton had a terribl concuss that took six month to recov from                 \n",
       "8194 the media wont publish a real photo of trayvon martin with tattoo on his face                                                                                   \n",
       "8195 the median incom in this countri has declin 10 percent in the last four year                                                                                    \n",
       "8196 the median male worker in this countri has not seen a rais inflat adjust for 30 year basic                                                                      \n",
       "8197 the median net worth of american household hasnt chang much over the past decad it about 20,000 but congress averag median net worth has balloon more than doubl\n",
       "8198 the medic marijuana ballot initi doesnt requir a physician write a prescript and can be for condit like have a back that need to be scratch                     \n",
       "     Text                                                                                                                                                                               \n",
       "8193 The media widely overlooked comments made by former President Bill Clinton that Hillary Clinton had a terrible concussion that took six months to recover from.                    \n",
       "8194 The media wont publish a real photo of Trayvon Martin with tattoos on his face.                                                                                                    \n",
       "8195 The median income in this country has declined 10 percent in the last four years.                                                                                                  \n",
       "8196 The median male worker in this country has not seen a raise, inflation adjusted, for 30 years, basically.                                                                          \n",
       "8197 The median net worth of American households hasnt changed much over the past decades, its about $20,000 ... but Congress average median net worth has ballooned, more than doubled.\n",
       "8198 The medical marijuana ballot initiative doesnt require a physician writing a prescription and can be for conditions like having a back that needs to be scratched.                 \n",
       "     Labels Text_Tag                                 length esclam_mark commas\n",
       "8193 1      candidates-biography                     159    0           0     \n",
       "8194 4      crime                                     79    0           0     \n",
       "8195 2      economy                                   81    0           0     \n",
       "8196 3      economy,jobs,labor,workers               105    0           3     \n",
       "8197 2      congress,wealth                          179    0           3     \n",
       "8198 2      florida-amendments,health-care,marijuana 162    0           0     \n",
       "     two_points semicolon 1 ⋯ the highest corpor tax rate in the\n",
       "8193 0          0         0 ⋯ 0                                 \n",
       "8194 0          0         0 ⋯ 0                                 \n",
       "8195 0          0         0 ⋯ 0                                 \n",
       "8196 0          0         0 ⋯ 0                                 \n",
       "8197 0          0         0 ⋯ 0                                 \n",
       "8198 0          0         0 ⋯ 0                                 \n",
       "     almost as much wealth as the bottom as much wealth as the bottom 90\n",
       "8193 0                                   0                              \n",
       "8194 0                                   0                              \n",
       "8195 0                                   0                              \n",
       "8196 0                                   0                              \n",
       "8197 0                                   0                              \n",
       "8198 0                                   0                              \n",
       "     much wealth as the bottom 90 percent own almost as much wealth as the\n",
       "8193 0                                    0                               \n",
       "8194 0                                    0                               \n",
       "8195 0                                    0                               \n",
       "8196 0                                    0                               \n",
       "8197 0                                    0                               \n",
       "8198 0                                    0                               \n",
       "     are open serv in the u congress are socialist who are open serv in\n",
       "8193 0                               0                                 \n",
       "8194 0                               0                                 \n",
       "8195 0                               0                                 \n",
       "8196 0                               0                                 \n",
       "8197 0                               0                                 \n",
       "8198 0                               0                                 \n",
       "     socialist who are open serv in the who are open serv in the u\n",
       "8193 0                                  0                         \n",
       "8194 0                                  0                         \n",
       "8195 0                                  0                         \n",
       "8196 0                                  0                         \n",
       "8197 0                                  0                         \n",
       "8198 0                                  0                         \n",
       "     under the new health care law the\n",
       "8193 0                                \n",
       "8194 0                                \n",
       "8195 0                                \n",
       "8196 0                                \n",
       "8197 0                                \n",
       "8198 0                                "
      ]
     },
     "metadata": {},
     "output_type": "display_data"
    },
    {
     "data": {
      "image/png": "[encoded data removed]",
      "text/plain": [
       "Plot with title “test”"
      ]
     },
     "metadata": {
      "image/png": {
       "height": 360,
       "width": 960
      }
     },
     "output_type": "display_data"
    }
   ],
   "source": [
    "N <- nrow(labelled_set)\n",
    "train_fraction <- 0.8\n",
    "limit <- N*train_fraction\n",
    "train_set <- labelled_set[1:limit,]\n",
    "test_set <- labelled_set[(1+limit):N,]\n",
    "cat(\"Training set:\\n\")\n",
    "head(train_set)\n",
    "cat(\"\\nTest set:\\n\")\n",
    "head(test_set)\n",
    "\n",
    "\n",
    "fig(16, 6)\n",
    "par(mfrow = c(1, 2))\n",
    "\n",
    "dataset <- list(training = train_set, test = test_set)\n",
    "for (i in 1:2) {\n",
    "    label_freq <- summarise(group_by(dataset[[i]], Labels), counts = length(Labels))\n",
    "    barplot(label_freq[[2]]/sum(label_freq[[2]]), names.arg = label_freq[[1]], col = brewer.pal(max(c(8, 2)), 'Dark2'), main = names(dataset)[i], xlab = 'label', ylab = '#tweets')\n",
    "}"
   ]
  },
  {
   "cell_type": "markdown",
   "id": "2c693230-f2f7-4ca3-852a-33738578f2f6",
   "metadata": {},
   "source": [
    "### [Classifier](#index) <a class=\"anchor\" id=\"Classifier\"></a>\n"
   ]
  },
  {
   "cell_type": "code",
   "execution_count": 6,
   "id": "63e5f4e6-1354-490c-9ec0-fdc57e6adb58",
   "metadata": {},
   "outputs": [],
   "source": [
    "classifier_assemble <- function(dfm){\n",
    "    df_probabilities <- aggregate(.~Labels, \n",
    "                      data = dfm[, -which(names(dfm) == \"Text\" | names(dfm) == \"Text_Tag\" | names(dfm) == \"doc_id\")], \n",
    "                      FUN = sum)\n",
    "    \n",
    "    df_probabilities <- df_probabilities + 1\n",
    "    df_probabilities$Labels <- df_probabilities$Labels - 1\n",
    "    label_densities <- dfm %>% group_by(Labels) %>% summarize(counts = n_distinct(doc_id))\n",
    "    label_densities$counts <- label_densities$counts/sum(label_densities$counts)\n",
    "    df_probabilities$label_densities <- label_densities$counts\n",
    "    df_probabilities$total.num <- rowSums(df_probabilities[, -which(names(df_probabilities) == \"Labels\" | names(df_probabilities) == \"label_densities\" )]) \n",
    "    \n",
    "    df_probabilities[, -which(names(df_probabilities) == \"Labels\" | names(df_probabilities) == \"label_densities\" | names(df_probabilities) == \"total.num\")] <- df_probabilities[, -which(names(df_probabilities) == \"Labels\" | names(df_probabilities) == \"label_densities\" | names(df_probabilities) == \"total.num\")]/df_probabilities$total.num #loop on 5 indexes\n",
    "\n",
    "    df_probabilities %>% select(-matches('^$'))\n",
    "    return(df_probabilities)\n",
    "}"
   ]
  },
  {
   "cell_type": "code",
   "execution_count": 9,
   "id": "1e1fe141-72bc-4971-8d0c-27dff7b60da4",
   "metadata": {
    "scrolled": true,
    "tags": []
   },
   "outputs": [
    {
     "data": {
      "text/html": [
       "<table class=\"dataframe\">\n",
       "<caption>A data.frame: 6 × 13073</caption>\n",
       "<thead>\n",
       "\t<tr><th scope=col>Labels</th><th scope=col>length</th><th scope=col>esclam_mark</th><th scope=col>commas</th><th scope=col>two_points</th><th scope=col>semicolon</th><th scope=col>1</th><th scope=col>3</th><th scope=col>cannot</th><th scope=col>career</th><th scope=col>⋯</th><th scope=col>as much wealth as the bottom 90</th><th scope=col>much wealth as the bottom 90 percent</th><th scope=col>own almost as much wealth as the</th><th scope=col>are open serv in the u congress</th><th scope=col>are socialist who are open serv in</th><th scope=col>socialist who are open serv in the</th><th scope=col>who are open serv in the u</th><th scope=col>under the new health care law the</th><th scope=col>label_densities</th><th scope=col>total.num</th></tr>\n",
       "\t<tr><th scope=col>&lt;dbl&gt;</th><th scope=col>&lt;dbl&gt;</th><th scope=col>&lt;dbl&gt;</th><th scope=col>&lt;dbl&gt;</th><th scope=col>&lt;dbl&gt;</th><th scope=col>&lt;dbl&gt;</th><th scope=col>&lt;dbl&gt;</th><th scope=col>&lt;dbl&gt;</th><th scope=col>&lt;dbl&gt;</th><th scope=col>&lt;dbl&gt;</th><th scope=col>⋯</th><th scope=col>&lt;dbl&gt;</th><th scope=col>&lt;dbl&gt;</th><th scope=col>&lt;dbl&gt;</th><th scope=col>&lt;dbl&gt;</th><th scope=col>&lt;dbl&gt;</th><th scope=col>&lt;dbl&gt;</th><th scope=col>&lt;dbl&gt;</th><th scope=col>&lt;dbl&gt;</th><th scope=col>&lt;dbl&gt;</th><th scope=col>&lt;dbl&gt;</th></tr>\n",
       "</thead>\n",
       "<tbody>\n",
       "\t<tr><td>0</td><td>0.7708854</td><td>5.292798e-05</td><td>0.004488292</td><td>9.527036e-05</td><td>3.175679e-05</td><td>0.0001270271</td><td>3.704958e-05</td><td>3.175679e-05</td><td>4.234238e-05</td><td>⋯</td><td>5.292798e-06</td><td>5.292798e-06</td><td>5.292798e-06</td><td>5.292798e-06</td><td>5.292798e-06</td><td>5.292798e-06</td><td>5.292798e-06</td><td>5.292798e-06</td><td>0.16442543</td><td>188936</td></tr>\n",
       "\t<tr><td>1</td><td>0.7763940</td><td>8.174492e-05</td><td>0.003760266</td><td>9.617049e-05</td><td>1.442557e-05</td><td>0.0001298302</td><td>5.770229e-05</td><td>9.617049e-06</td><td>1.923410e-05</td><td>⋯</td><td>4.808525e-06</td><td>4.808525e-06</td><td>4.808525e-06</td><td>4.808525e-06</td><td>4.808525e-06</td><td>4.808525e-06</td><td>4.808525e-06</td><td>4.808525e-06</td><td>0.19767726</td><td>207964</td></tr>\n",
       "\t<tr><td>2</td><td>0.7817450</td><td>4.142090e-05</td><td>0.004655709</td><td>2.899463e-05</td><td>1.242627e-05</td><td>0.0001822520</td><td>6.213135e-05</td><td>1.656836e-05</td><td>3.313672e-05</td><td>⋯</td><td>4.142090e-06</td><td>4.142090e-06</td><td>4.142090e-06</td><td>4.142090e-06</td><td>4.142090e-06</td><td>4.142090e-06</td><td>4.142090e-06</td><td>4.142090e-06</td><td>0.20770171</td><td>241424</td></tr>\n",
       "\t<tr><td>3</td><td>0.7758462</td><td>2.776300e-05</td><td>0.004844643</td><td>7.866182e-05</td><td>5.089883e-05</td><td>0.0001989681</td><td>5.552599e-05</td><td>1.850866e-05</td><td>2.313583e-05</td><td>⋯</td><td>4.627166e-06</td><td>4.627166e-06</td><td>4.627166e-06</td><td>4.627166e-06</td><td>4.627166e-06</td><td>4.627166e-06</td><td>4.627166e-06</td><td>4.627166e-06</td><td>0.18704156</td><td>216115</td></tr>\n",
       "\t<tr><td>4</td><td>0.7214905</td><td>1.352392e-04</td><td>0.003807503</td><td>1.664482e-04</td><td>3.120904e-05</td><td>0.0001144331</td><td>4.161205e-05</td><td>3.120904e-05</td><td>1.040301e-05</td><td>⋯</td><td>1.040301e-05</td><td>1.040301e-05</td><td>1.040301e-05</td><td>4.161205e-05</td><td>4.161205e-05</td><td>4.161205e-05</td><td>4.161205e-05</td><td>2.080603e-05</td><td>0.08325183</td><td> 96126</td></tr>\n",
       "\t<tr><td>5</td><td>0.7666484</td><td>6.099826e-05</td><td>0.004003704</td><td>7.763415e-05</td><td>5.545297e-06</td><td>0.0001663589</td><td>4.436237e-05</td><td>1.663589e-05</td><td>1.109059e-05</td><td>⋯</td><td>5.545297e-06</td><td>5.545297e-06</td><td>5.545297e-06</td><td>5.545297e-06</td><td>5.545297e-06</td><td>5.545297e-06</td><td>5.545297e-06</td><td>5.545297e-06</td><td>0.15990220</td><td>180333</td></tr>\n",
       "</tbody>\n",
       "</table>\n"
      ],
      "text/latex": [
       "A data.frame: 6 × 13073\n",
       "\\begin{tabular}{lllllllllllllllllllll}\n",
       " Labels & length & esclam\\_mark & commas & two\\_points & semicolon & 1 & 3 & cannot & career & ⋯ & as much wealth as the bottom 90 & much wealth as the bottom 90 percent & own almost as much wealth as the & are open serv in the u congress & are socialist who are open serv in & socialist who are open serv in the & who are open serv in the u & under the new health care law the & label\\_densities & total.num\\\\\n",
       " <dbl> & <dbl> & <dbl> & <dbl> & <dbl> & <dbl> & <dbl> & <dbl> & <dbl> & <dbl> & ⋯ & <dbl> & <dbl> & <dbl> & <dbl> & <dbl> & <dbl> & <dbl> & <dbl> & <dbl> & <dbl>\\\\\n",
       "\\hline\n",
       "\t 0 & 0.7708854 & 5.292798e-05 & 0.004488292 & 9.527036e-05 & 3.175679e-05 & 0.0001270271 & 3.704958e-05 & 3.175679e-05 & 4.234238e-05 & ⋯ & 5.292798e-06 & 5.292798e-06 & 5.292798e-06 & 5.292798e-06 & 5.292798e-06 & 5.292798e-06 & 5.292798e-06 & 5.292798e-06 & 0.16442543 & 188936\\\\\n",
       "\t 1 & 0.7763940 & 8.174492e-05 & 0.003760266 & 9.617049e-05 & 1.442557e-05 & 0.0001298302 & 5.770229e-05 & 9.617049e-06 & 1.923410e-05 & ⋯ & 4.808525e-06 & 4.808525e-06 & 4.808525e-06 & 4.808525e-06 & 4.808525e-06 & 4.808525e-06 & 4.808525e-06 & 4.808525e-06 & 0.19767726 & 207964\\\\\n",
       "\t 2 & 0.7817450 & 4.142090e-05 & 0.004655709 & 2.899463e-05 & 1.242627e-05 & 0.0001822520 & 6.213135e-05 & 1.656836e-05 & 3.313672e-05 & ⋯ & 4.142090e-06 & 4.142090e-06 & 4.142090e-06 & 4.142090e-06 & 4.142090e-06 & 4.142090e-06 & 4.142090e-06 & 4.142090e-06 & 0.20770171 & 241424\\\\\n",
       "\t 3 & 0.7758462 & 2.776300e-05 & 0.004844643 & 7.866182e-05 & 5.089883e-05 & 0.0001989681 & 5.552599e-05 & 1.850866e-05 & 2.313583e-05 & ⋯ & 4.627166e-06 & 4.627166e-06 & 4.627166e-06 & 4.627166e-06 & 4.627166e-06 & 4.627166e-06 & 4.627166e-06 & 4.627166e-06 & 0.18704156 & 216115\\\\\n",
       "\t 4 & 0.7214905 & 1.352392e-04 & 0.003807503 & 1.664482e-04 & 3.120904e-05 & 0.0001144331 & 4.161205e-05 & 3.120904e-05 & 1.040301e-05 & ⋯ & 1.040301e-05 & 1.040301e-05 & 1.040301e-05 & 4.161205e-05 & 4.161205e-05 & 4.161205e-05 & 4.161205e-05 & 2.080603e-05 & 0.08325183 &  96126\\\\\n",
       "\t 5 & 0.7666484 & 6.099826e-05 & 0.004003704 & 7.763415e-05 & 5.545297e-06 & 0.0001663589 & 4.436237e-05 & 1.663589e-05 & 1.109059e-05 & ⋯ & 5.545297e-06 & 5.545297e-06 & 5.545297e-06 & 5.545297e-06 & 5.545297e-06 & 5.545297e-06 & 5.545297e-06 & 5.545297e-06 & 0.15990220 & 180333\\\\\n",
       "\\end{tabular}\n"
      ],
      "text/markdown": [
       "\n",
       "A data.frame: 6 × 13073\n",
       "\n",
       "| Labels &lt;dbl&gt; | length &lt;dbl&gt; | esclam_mark &lt;dbl&gt; | commas &lt;dbl&gt; | two_points &lt;dbl&gt; | semicolon &lt;dbl&gt; | 1 &lt;dbl&gt; | 3 &lt;dbl&gt; | cannot &lt;dbl&gt; | career &lt;dbl&gt; | ⋯ ⋯ | as much wealth as the bottom 90 &lt;dbl&gt; | much wealth as the bottom 90 percent &lt;dbl&gt; | own almost as much wealth as the &lt;dbl&gt; | are open serv in the u congress &lt;dbl&gt; | are socialist who are open serv in &lt;dbl&gt; | socialist who are open serv in the &lt;dbl&gt; | who are open serv in the u &lt;dbl&gt; | under the new health care law the &lt;dbl&gt; | label_densities &lt;dbl&gt; | total.num &lt;dbl&gt; |\n",
       "|---|---|---|---|---|---|---|---|---|---|---|---|---|---|---|---|---|---|---|---|---|\n",
       "| 0 | 0.7708854 | 5.292798e-05 | 0.004488292 | 9.527036e-05 | 3.175679e-05 | 0.0001270271 | 3.704958e-05 | 3.175679e-05 | 4.234238e-05 | ⋯ | 5.292798e-06 | 5.292798e-06 | 5.292798e-06 | 5.292798e-06 | 5.292798e-06 | 5.292798e-06 | 5.292798e-06 | 5.292798e-06 | 0.16442543 | 188936 |\n",
       "| 1 | 0.7763940 | 8.174492e-05 | 0.003760266 | 9.617049e-05 | 1.442557e-05 | 0.0001298302 | 5.770229e-05 | 9.617049e-06 | 1.923410e-05 | ⋯ | 4.808525e-06 | 4.808525e-06 | 4.808525e-06 | 4.808525e-06 | 4.808525e-06 | 4.808525e-06 | 4.808525e-06 | 4.808525e-06 | 0.19767726 | 207964 |\n",
       "| 2 | 0.7817450 | 4.142090e-05 | 0.004655709 | 2.899463e-05 | 1.242627e-05 | 0.0001822520 | 6.213135e-05 | 1.656836e-05 | 3.313672e-05 | ⋯ | 4.142090e-06 | 4.142090e-06 | 4.142090e-06 | 4.142090e-06 | 4.142090e-06 | 4.142090e-06 | 4.142090e-06 | 4.142090e-06 | 0.20770171 | 241424 |\n",
       "| 3 | 0.7758462 | 2.776300e-05 | 0.004844643 | 7.866182e-05 | 5.089883e-05 | 0.0001989681 | 5.552599e-05 | 1.850866e-05 | 2.313583e-05 | ⋯ | 4.627166e-06 | 4.627166e-06 | 4.627166e-06 | 4.627166e-06 | 4.627166e-06 | 4.627166e-06 | 4.627166e-06 | 4.627166e-06 | 0.18704156 | 216115 |\n",
       "| 4 | 0.7214905 | 1.352392e-04 | 0.003807503 | 1.664482e-04 | 3.120904e-05 | 0.0001144331 | 4.161205e-05 | 3.120904e-05 | 1.040301e-05 | ⋯ | 1.040301e-05 | 1.040301e-05 | 1.040301e-05 | 4.161205e-05 | 4.161205e-05 | 4.161205e-05 | 4.161205e-05 | 2.080603e-05 | 0.08325183 |  96126 |\n",
       "| 5 | 0.7666484 | 6.099826e-05 | 0.004003704 | 7.763415e-05 | 5.545297e-06 | 0.0001663589 | 4.436237e-05 | 1.663589e-05 | 1.109059e-05 | ⋯ | 5.545297e-06 | 5.545297e-06 | 5.545297e-06 | 5.545297e-06 | 5.545297e-06 | 5.545297e-06 | 5.545297e-06 | 5.545297e-06 | 0.15990220 | 180333 |\n",
       "\n"
      ],
      "text/plain": [
       "  Labels length    esclam_mark  commas      two_points   semicolon   \n",
       "1 0      0.7708854 5.292798e-05 0.004488292 9.527036e-05 3.175679e-05\n",
       "2 1      0.7763940 8.174492e-05 0.003760266 9.617049e-05 1.442557e-05\n",
       "3 2      0.7817450 4.142090e-05 0.004655709 2.899463e-05 1.242627e-05\n",
       "4 3      0.7758462 2.776300e-05 0.004844643 7.866182e-05 5.089883e-05\n",
       "5 4      0.7214905 1.352392e-04 0.003807503 1.664482e-04 3.120904e-05\n",
       "6 5      0.7666484 6.099826e-05 0.004003704 7.763415e-05 5.545297e-06\n",
       "  1            3            cannot       career       ⋯\n",
       "1 0.0001270271 3.704958e-05 3.175679e-05 4.234238e-05 ⋯\n",
       "2 0.0001298302 5.770229e-05 9.617049e-06 1.923410e-05 ⋯\n",
       "3 0.0001822520 6.213135e-05 1.656836e-05 3.313672e-05 ⋯\n",
       "4 0.0001989681 5.552599e-05 1.850866e-05 2.313583e-05 ⋯\n",
       "5 0.0001144331 4.161205e-05 3.120904e-05 1.040301e-05 ⋯\n",
       "6 0.0001663589 4.436237e-05 1.663589e-05 1.109059e-05 ⋯\n",
       "  as much wealth as the bottom 90 much wealth as the bottom 90 percent\n",
       "1 5.292798e-06                    5.292798e-06                        \n",
       "2 4.808525e-06                    4.808525e-06                        \n",
       "3 4.142090e-06                    4.142090e-06                        \n",
       "4 4.627166e-06                    4.627166e-06                        \n",
       "5 1.040301e-05                    1.040301e-05                        \n",
       "6 5.545297e-06                    5.545297e-06                        \n",
       "  own almost as much wealth as the are open serv in the u congress\n",
       "1 5.292798e-06                     5.292798e-06                   \n",
       "2 4.808525e-06                     4.808525e-06                   \n",
       "3 4.142090e-06                     4.142090e-06                   \n",
       "4 4.627166e-06                     4.627166e-06                   \n",
       "5 1.040301e-05                     4.161205e-05                   \n",
       "6 5.545297e-06                     5.545297e-06                   \n",
       "  are socialist who are open serv in socialist who are open serv in the\n",
       "1 5.292798e-06                       5.292798e-06                      \n",
       "2 4.808525e-06                       4.808525e-06                      \n",
       "3 4.142090e-06                       4.142090e-06                      \n",
       "4 4.627166e-06                       4.627166e-06                      \n",
       "5 4.161205e-05                       4.161205e-05                      \n",
       "6 5.545297e-06                       5.545297e-06                      \n",
       "  who are open serv in the u under the new health care law the label_densities\n",
       "1 5.292798e-06               5.292798e-06                      0.16442543     \n",
       "2 4.808525e-06               4.808525e-06                      0.19767726     \n",
       "3 4.142090e-06               4.142090e-06                      0.20770171     \n",
       "4 4.627166e-06               4.627166e-06                      0.18704156     \n",
       "5 4.161205e-05               2.080603e-05                      0.08325183     \n",
       "6 5.545297e-06               5.545297e-06                      0.15990220     \n",
       "  total.num\n",
       "1 188936   \n",
       "2 207964   \n",
       "3 241424   \n",
       "4 216115   \n",
       "5  96126   \n",
       "6 180333   "
      ]
     },
     "metadata": {},
     "output_type": "display_data"
    }
   ],
   "source": [
    "df_probabilities <- classifier_assemble(train_set)\n",
    "df_probabilities"
   ]
  },
  {
   "cell_type": "markdown",
   "id": "e46f95ea-ee9a-40c6-aa89-8a58f48c6f1c",
   "metadata": {},
   "source": [
    "### [Prediction](#index) <a class=\"anchor\" id=\"Prediction\"></a>"
   ]
  },
  {
   "cell_type": "code",
   "execution_count": 7,
   "id": "534a45e5-e033-4e38-80ab-287eb0fffacf",
   "metadata": {
    "scrolled": true,
    "tags": []
   },
   "outputs": [],
   "source": [
    "predictor <- function(df_probabilities, X_set){\n",
    "    df_a <- df_probabilities[,-which(names(df_probabilities) == \"total.num\" | names(df_probabilities) == \"label_densities\")]\n",
    "    df_compute <- function(x){\n",
    "        dim <- dim(as.matrix(x[which(x != 0)]))[1]\n",
    "        #print(dim)\n",
    "        if(dim > 2) {\n",
    "            a <- t(as.matrix(x[which(x != 0)]))\n",
    "            b <- (as.matrix(df_a[,which(x != 0)]))\n",
    "            powerf  <- function(y){return(y <- y**a[,-1])} #each prob to the power of repeatence\n",
    "            c <- as.matrix(t(apply(b[,-1] ,1, powerf)))  #applyting the power function\n",
    "            c <- cbind(c, df_probabilities$label_densities)\n",
    "\n",
    "            prob.finder <- function(x){return(prod(x))}  #a function which stores the product of all probs.  \n",
    "            df_updated <- cbind(c, Label.Prob = apply(c, 1, prob.finder)) #dataframe of porbs for each sample\n",
    "            df_updated <- cbind(df_updated, Label = 0:5) #dataframe of porbs for each sample \n",
    "            df_updated <- data.frame(df_updated)\n",
    "\n",
    "            predicted_label  <- df_updated$Label[which(df_updated$Label.Prob == max(df_updated$Label.Prob))] #%>% print()\n",
    "            return(predicted_label)\n",
    "        } else {\n",
    "            return(NA)\n",
    "        }\n",
    "    }\n",
    "    predicted_label = t(apply(X_set[,-which(names(X_set) == \"doc_id\" | names(X_set) == \"Text\" | names(X_set) == \"Text_Tag\")], 1, df_compute))\n",
    "    #print(\"done\")\n",
    "    #X_set_all<- cbind(X_set, predicted_label)\n",
    "    return(data.frame(t(predicted_label)))}\n",
    "\n",
    "score <- function(Y, Y_pred){length(Y[Y == Y_pred])/length(Y)}"
   ]
  },
  {
   "cell_type": "code",
   "execution_count": 11,
   "id": "3e28b419-a401-4787-a66f-96eb2e85fb2e",
   "metadata": {
    "scrolled": true,
    "tags": []
   },
   "outputs": [
    {
     "name": "stderr",
     "output_type": "stream",
     "text": [
      "Warning message in replace_na(., 7):\n",
      "“NAs introduced by coercion”\n"
     ]
    }
   ],
   "source": [
    "Y_train_pred <- predictor(df_probabilities, train_set)\n",
    "Y_train_pred <- as.integer(as.character(Y_train_pred$t.predicted_label)) %>% replace_na(7)\n",
    "Y_train <- as.integer(as.character(train_set$Labels))"
   ]
  },
  {
   "cell_type": "code",
   "execution_count": 12,
   "id": "63972946-d57b-42c5-9200-57b05bd99650",
   "metadata": {},
   "outputs": [
    {
     "name": "stderr",
     "output_type": "stream",
     "text": [
      "Warning message in replace_na(., 7):\n",
      "“NAs introduced by coercion”\n"
     ]
    }
   ],
   "source": [
    "Y_test_pred <- predictor(df_probabilities, test_set)\n",
    "Y_test_pred <- as.integer(as.character(Y_test_pred$t.predicted_label)) %>% replace_na(7)\n",
    "Y_test <- as.integer(as.character(test_set$Labels))"
   ]
  },
  {
   "cell_type": "code",
   "execution_count": 13,
   "id": "c4734296-e353-4cad-b83c-34f8ef2f1d25",
   "metadata": {},
   "outputs": [
    {
     "name": "stdout",
     "output_type": "stream",
     "text": [
      "[1] 0.6905518\n",
      "[1] 0.2446289\n"
     ]
    }
   ],
   "source": [
    "train_score <- score(Y_train, Y_train_pred) %>% print()\n",
    "test_score <- score(Y_test, Y_test_pred) %>% print()"
   ]
  },
  {
   "cell_type": "markdown",
   "id": "2b71f3a9-c48f-4cb7-bbd8-48a504f520dd",
   "metadata": {},
   "source": [
    "## [Single words](#index) <a class=\"anchor\" id=\"Single_words\"></a>"
   ]
  },
  {
   "cell_type": "code",
   "execution_count": 16,
   "id": "1851a91d-ce26-442c-992d-0773bccfefc8",
   "metadata": {},
   "outputs": [
    {
     "name": "stderr",
     "output_type": "stream",
     "text": [
      "Warning message in replace_na(., 2):\n",
      "“NAs introduced by coercion”\n",
      "Warning message in replace_na(., 2):\n",
      "“NAs introduced by coercion”\n"
     ]
    }
   ],
   "source": [
    "too_common <- c(\"in\", \"the\", \"of\", \"to\", \"a\", \"and\", \"they\", \"or\", \"for\", \"that\", \"says\", \"we\", \n",
    "             \"more\", \"at\", \"be\", \"about\", \"will\", \"one\", \"an\", \"his\", \"you\", \"their\", \"is\", \n",
    "             \"on\", \"has\", \"have\", \"are\", \"was\", \"by\", \"it\", \"from\", \"with\", \"as\", \"not\", \"our\", \n",
    "             \"I\", \"this\", \"he\", \"been\", \"NA\")\n",
    "labelled_set <- feature_generation(labelled_set_stemmed, emotion = FALSE, punctuation = FALSE, ngrams = TRUE, highest_gram = 1, minimum_frequencies = c(20, 10, 5, 5, 5), toocommon = toocommon)\n",
    "labelled_set <- labelled_set[!is.na(colnames(labelled_set))]\n",
    "\n",
    "N <- nrow(labelled_set)\n",
    "train_fraction <- 0.8\n",
    "limit <- N*train_fraction\n",
    "train_set <- labelled_set[1:limit,]\n",
    "test_set <- labelled_set[(1+limit):N,]\n",
    "\n",
    "df_probabilities <- classifier_assemble(train_set)\n",
    "\n",
    "Y_train_pred <- predictor(df_probabilities, train_set)\n",
    "Y_train_pred <- as.integer(as.character(Y_train_pred$t.predicted_label)) %>% replace_na(2)\n",
    "Y_train <- as.integer(as.character(train_set$Labels))\n",
    "\n",
    "Y_test_pred <- predictor(df_probabilities, test_set)\n",
    "Y_test_pred <- as.integer(as.character(Y_test_pred$t.predicted_label)) %>% replace_na(2)\n",
    "Y_test <- as.integer(as.character(test_set$Labels))"
   ]
  },
  {
   "cell_type": "code",
   "execution_count": 17,
   "id": "c8508b49-4796-44d5-b96c-5f508d37a595",
   "metadata": {},
   "outputs": [
    {
     "name": "stdout",
     "output_type": "stream",
     "text": [
      "\n",
      "SCORES\n",
      "\n",
      "Training score:\t\t0.4865723 \n",
      "Test score:\t\t0.2446289"
     ]
    }
   ],
   "source": [
    "cat(\"\\nSCORES\\n\\n\")\n",
    "cat(\"Training score:\\t\\t\")\n",
    "train_score <- score(Y_train, Y_train_pred) %>% cat(\"\\n\")\n",
    "cat(\"Test score:\\t\\t\")\n",
    "test_score <- score(Y_test, Y_test_pred) %>% cat()"
   ]
  },
  {
   "cell_type": "markdown",
   "id": "fbf6e8a2-6216-40a9-9741-daf5568a9a6d",
   "metadata": {},
   "source": [
    "## [Higher order n-grams](#index) <a class=\"anchor\" id=\"n-grams\"></a>\n"
   ]
  },
  {
   "cell_type": "code",
   "execution_count": 14,
   "id": "b5cc20e1-1b05-44a8-af29-1ffdba5690f6",
   "metadata": {},
   "outputs": [
    {
     "name": "stderr",
     "output_type": "stream",
     "text": [
      "Warning message in replace_na(., 2):\n",
      "“NAs introduced by coercion”\n",
      "Warning message in replace_na(., 2):\n",
      "“NAs introduced by coercion”\n"
     ]
    }
   ],
   "source": [
    "too_common <- c(\"in\", \"the\", \"of\", \"to\", \"a\", \"and\", \"they\", \"or\", \"for\", \"that\", \"says\", \"we\", \n",
    "             \"more\", \"at\", \"be\", \"about\", \"will\", \"one\", \"an\", \"his\", \"you\", \"their\", \"is\", \n",
    "             \"on\", \"has\", \"have\", \"are\", \"was\", \"by\", \"it\", \"from\", \"with\", \"as\", \"not\", \"our\", \n",
    "             \"I\", \"this\", \"he\", \"been\", \"NA\")\n",
    "labelled_set <- feature_generation(labelled_set_stemmed, emotion = FALSE, punctuation = FALSE, ngrams = TRUE, highest_gram = 2, minimum_frequencies = c(15, 5, 10, 10, 10), toocommon = toocommon)#15 5\n",
    "labelled_set <- labelled_set[!is.na(colnames(labelled_set))]\n",
    "\n",
    "N <- nrow(labelled_set)\n",
    "train_fraction <- 0.8\n",
    "limit <- N*train_fraction\n",
    "train_set <- labelled_set[1:limit,]\n",
    "test_set <- labelled_set[(1+limit):N,]\n",
    "\n",
    "df_probabilities <- classifier_assemble(train_set)\n",
    "\n",
    "Y_train_pred <- predictor(df_probabilities, train_set)\n",
    "Y_train_pred <- as.integer(as.character(Y_train_pred$t.predicted_label)) %>% replace_na(2)\n",
    "Y_train <- as.integer(as.character(train_set$Labels))\n",
    "\n",
    "Y_test_pred <- predictor(df_probabilities, test_set)\n",
    "Y_test_pred <- as.integer(as.character(Y_test_pred$t.predicted_label)) %>% replace_na(2)\n",
    "Y_test <- as.integer(as.character(test_set$Labels))"
   ]
  },
  {
   "cell_type": "code",
   "execution_count": 15,
   "id": "3d33c5f2-1d1e-4e8d-b034-f7b07171444a",
   "metadata": {},
   "outputs": [
    {
     "name": "stdout",
     "output_type": "stream",
     "text": [
      "\n",
      "SCORES\n",
      "\n",
      "Training score:\t\t0.6386719 \n",
      "Test score:\t\t0.2548828"
     ]
    }
   ],
   "source": [
    "cat(\"\\nSCORES\\n\\n\")\n",
    "cat(\"Training score:\\t\\t\")\n",
    "train_score <- score(Y_train, Y_train_pred) %>% cat(\"\\n\")\n",
    "cat(\"Test score:\\t\\t\")\n",
    "test_score <- score(Y_test, Y_test_pred) %>% cat()"
   ]
  },
  {
   "cell_type": "markdown",
   "id": "2d3d265f-fd76-42e5-85e7-ce46550b8435",
   "metadata": {},
   "source": [
    "## [Sentiment analysis](#index) <a class=\"anchor\" id=\"Sentiment\"></a>\n"
   ]
  },
  {
   "cell_type": "code",
   "execution_count": 20,
   "id": "4809aefb-55c6-4e50-88db-9e5ed4bd1c87",
   "metadata": {},
   "outputs": [],
   "source": [
    "too_common <- c(\"in\", \"the\", \"of\", \"to\", \"a\", \"and\", \"they\", \"or\", \"for\", \"that\", \"says\", \"we\", \n",
    "             \"more\", \"at\", \"be\", \"about\", \"will\", \"one\", \"an\", \"his\", \"you\", \"their\", \"is\", \n",
    "             \"on\", \"has\", \"have\", \"are\", \"was\", \"by\", \"it\", \"from\", \"with\", \"as\", \"not\", \"our\", \n",
    "             \"I\", \"this\", \"he\", \"been\", \"NA\")\n",
    "labelled_set <- feature_generation(labelled_set_stemmed, emotion = TRUE, punctuation = FALSE, ngrams = FALSE, highest_gram = 1, minimum_frequencies = c(20, 10, 5, 5, 5), toocommon = toocommon)\n",
    "labelled_set <- labelled_set[!is.na(colnames(labelled_set))]\n",
    "\n",
    "N <- nrow(labelled_set)\n",
    "train_fraction <- 0.8\n",
    "limit <- N*train_fraction\n",
    "train_set <- labelled_set[1:limit,]\n",
    "test_set <- labelled_set[(1+limit):N,]\n",
    "\n",
    "df_probabilities <- classifier_assemble(train_set)\n",
    "\n",
    "Y_train_pred <- predictor(df_probabilities, train_set)\n",
    "Y_train_pred <- as.integer(as.character(Y_train_pred$t.predicted_label)) %>% replace_na(2)\n",
    "Y_train <- as.integer(as.character(train_set$Labels))\n",
    "\n",
    "Y_test_pred <- predictor(df_probabilities, test_set)\n",
    "Y_test_pred <- as.integer(as.character(Y_test_pred$t.predicted_label)) %>% replace_na(2)\n",
    "Y_test <- as.integer(as.character(test_set$Labels))"
   ]
  },
  {
   "cell_type": "code",
   "execution_count": 21,
   "id": "4c4e62fb-89f9-4c87-a2f2-45754a6dbbb7",
   "metadata": {},
   "outputs": [
    {
     "name": "stdout",
     "output_type": "stream",
     "text": [
      "\n",
      "SCORES\n",
      "\n",
      "Training score:\t\t0.2053223 \n",
      "Test score:\t\t0.190918"
     ]
    }
   ],
   "source": [
    "cat(\"\\nSCORES\\n\\n\")\n",
    "cat(\"Training score:\\t\\t\")\n",
    "train_score <- score(Y_train, Y_train_pred) %>% cat(\"\\n\")\n",
    "cat(\"Test score:\\t\\t\")\n",
    "test_score <- score(Y_test, Y_test_pred) %>% cat()"
   ]
  },
  {
   "cell_type": "markdown",
   "id": "1a007436-cbdd-49b0-91d7-2244b37086b4",
   "metadata": {},
   "source": [
    "## [Sentiment + higher order n-grams](#index) <a class=\"anchor\" id=\"P+n-grams\"></a>\n"
   ]
  },
  {
   "cell_type": "code",
   "execution_count": 71,
   "id": "688c2e14-2b62-4163-808a-37b5ff8ca47c",
   "metadata": {},
   "outputs": [
    {
     "name": "stderr",
     "output_type": "stream",
     "text": [
      "Warning message in replace_na(., 2):\n",
      "“NAs introduced by coercion”\n",
      "Warning message in replace_na(., 2):\n",
      "“NAs introduced by coercion”\n"
     ]
    }
   ],
   "source": [
    "too_common <- c(\"in\", \"the\", \"of\", \"to\", \"a\", \"and\", \"they\", \"or\", \"for\", \"that\", \"says\", \"we\", \n",
    "             \"more\", \"at\", \"be\", \"about\", \"will\", \"one\", \"an\", \"his\", \"you\", \"their\", \"is\", \n",
    "             \"on\", \"has\", \"have\", \"are\", \"was\", \"by\", \"it\", \"from\", \"with\", \"as\", \"not\", \"our\", \n",
    "             \"I\", \"this\", \"he\", \"been\", \"NA\")\n",
    "labelled_set <- feature_generation(labelled_set_stemmed, emotion = TRUE, punctuation = FALSE, ngrams = TRUE, highest_gram = 2, minimum_frequencies = c(15, 10, 5, 5, 5), toocommon = toocommon)\n",
    "labelled_set <- labelled_set[!is.na(colnames(labelled_set))]\n",
    "\n",
    "N <- nrow(labelled_set)\n",
    "train_fraction <- 0.8\n",
    "limit <- N*train_fraction\n",
    "train_set <- labelled_set[1:limit,]\n",
    "test_set <- labelled_set[(1+limit):N,]\n",
    "\n",
    "df_probabilities <- classifier_assemble(train_set)\n",
    "\n",
    "Y_train_pred <- predictor(df_probabilities, train_set)\n",
    "Y_train_pred <- as.integer(as.character(Y_train_pred$t.predicted_label)) %>% replace_na(2)\n",
    "Y_train <- as.integer(as.character(train_set$Labels))\n",
    "\n",
    "Y_test_pred <- predictor(df_probabilities, test_set)\n",
    "Y_test_pred <- as.integer(as.character(Y_test_pred$t.predicted_label)) %>% replace_na(2)\n",
    "Y_test <- as.integer(as.character(test_set$Labels))"
   ]
  },
  {
   "cell_type": "code",
   "execution_count": 72,
   "id": "adada093-ec5d-4c3a-adf0-e67a486e349e",
   "metadata": {},
   "outputs": [
    {
     "name": "stdout",
     "output_type": "stream",
     "text": [
      "\n",
      "SCORES\n",
      "\n",
      "Training score:\t\t0.5297852 \n",
      "Test score:\t\t0.2426758\n",
      "\n",
      "-----------------------------------------------------\n"
     ]
    },
    {
     "data": {
      "text/plain": [
       "Confusion Matrix and Statistics\n",
       "\n",
       "          Reference\n",
       "Prediction   0   1   2   3   4   5\n",
       "         0 698 162 141 146  77 121\n",
       "         1 166 880 157 169  92 161\n",
       "         2 197 223 819 200  89 173\n",
       "         3 169 153 137 829  81 161\n",
       "         4  54  97  43  43 403  41\n",
       "         5 100 144 120 170  65 711\n",
       "\n",
       "Overall Statistics\n",
       "                                          \n",
       "               Accuracy : 0.5298          \n",
       "                 95% CI : (0.5189, 0.5406)\n",
       "    No Information Rate : 0.2025          \n",
       "    P-Value [Acc > NIR] : < 2.2e-16       \n",
       "                                          \n",
       "                  Kappa : 0.4306          \n",
       "                                          \n",
       " Mcnemar's Test P-Value : 8.074e-12       \n",
       "\n",
       "Statistics by Class:\n",
       "\n",
       "                     Class: 0 Class: 1 Class: 2 Class: 3 Class: 4 Class: 5\n",
       "Sensitivity           0.50434   0.5304  0.57798   0.5324  0.49938  0.51974\n",
       "Specificity           0.90496   0.8860  0.86982   0.8943  0.96236  0.91222\n",
       "Pos Pred Value        0.51896   0.5415  0.48148   0.5418  0.59178  0.54275\n",
       "Neg Pred Value        0.89981   0.8814  0.90787   0.8907  0.94621  0.90453\n",
       "Prevalence            0.16895   0.2025  0.17297   0.1901  0.09851  0.16699\n",
       "Detection Rate        0.08521   0.1074  0.09998   0.1012  0.04919  0.08679\n",
       "Detection Prevalence  0.16418   0.1984  0.20764   0.1868  0.08313  0.15991\n",
       "Balanced Accuracy     0.70465   0.7082  0.72390   0.7134  0.73087  0.71598"
      ]
     },
     "metadata": {},
     "output_type": "display_data"
    }
   ],
   "source": [
    "cat(\"\\nSCORES\\n\\n\")\n",
    "cat(\"Training score:\\t\\t\")\n",
    "train_score <- score(Y_train, Y_train_pred) %>% cat(\"\\n\")\n",
    "cat(\"Test score:\\t\\t\")\n",
    "test_score <- score(Y_test, Y_test_pred) %>% cat()\n",
    "cat(\"\\n\\n-----------------------------------------------------\\n\")\n",
    "confusionMatrix(as.factor(Y_train), as.factor(Y_train_pred))"
   ]
  },
  {
   "cell_type": "markdown",
   "id": "63e83737-f3be-4689-ad27-fb13d837f91c",
   "metadata": {},
   "source": [
    "## [Binomial classifier](#index) <a class=\"anchor\" id=\"Binomial\"></a>"
   ]
  },
  {
   "cell_type": "code",
   "execution_count": 8,
   "id": "2b2c128a-8673-4764-8992-b2c80b6fa57e",
   "metadata": {},
   "outputs": [],
   "source": [
    "predictor <- function(df_probabilities, X_set){\n",
    "    df_a <- df_probabilities[,-which(names(df_probabilities) == \"total.num\" | names(df_probabilities) == \"label_densities\")]\n",
    "    df_compute <- function(x){\n",
    "        dim <- dim(as.matrix(x[which(x != 0)]))[1]\n",
    "        #print(dim)\n",
    "        if(dim > 2) {\n",
    "            a <- t(as.matrix(x[which(x != 0)]))\n",
    "            b <- (as.matrix(df_a[,which(x != 0)]))\n",
    "            powerf  <- function(y){return(y <- y**a[,-1])} #each prob to the power of repeatence\n",
    "            c <- as.matrix(t(apply(b[,-1] ,1, powerf)))  #applyting the power function\n",
    "            c <- cbind(c, df_probabilities$label_densities)\n",
    "\n",
    "            prob.finder <- function(x){return(prod(x))}  #a function which stores the product of all probs.  \n",
    "            df_updated <- cbind(c, Label.Prob = apply(c, 1, prob.finder)) #dataframe of porbs for each sample\n",
    "            df_updated <- cbind(df_updated, Label = c(1, 5)) #dataframe of porbs for each sample \n",
    "            df_updated <- data.frame(df_updated)\n",
    "\n",
    "            predicted_label  <- df_updated$Label[which(df_updated$Label.Prob == max(df_updated$Label.Prob))] #%>% print()\n",
    "            return(predicted_label)\n",
    "        } else {\n",
    "            return(NA)\n",
    "        }\n",
    "    }\n",
    "    predicted_label = t(apply(X_set[,-which(names(X_set) == \"doc_id\" | names(X_set) == \"Text\" | names(X_set) == \"Text_Tag\")], 1, df_compute))\n",
    "    #print(\"done\")\n",
    "    #X_set_all<- cbind(X_set, predicted_label)\n",
    "    return(data.frame(t(predicted_label)))}"
   ]
  },
  {
   "cell_type": "code",
   "execution_count": 13,
   "id": "d59d9ba7-218d-472f-93b9-8a81cdb91bc0",
   "metadata": {},
   "outputs": [
    {
     "data": {
      "text/html": [
       "<table class=\"dataframe\">\n",
       "<caption>A data.frame: 6 × 4</caption>\n",
       "<thead>\n",
       "\t<tr><th></th><th scope=col>Text</th><th scope=col>Labels</th><th scope=col>Text_Tag</th><th scope=col>doc_id</th></tr>\n",
       "\t<tr><th></th><th scope=col>&lt;chr&gt;</th><th scope=col>&lt;dbl&gt;</th><th scope=col>&lt;chr&gt;</th><th scope=col>&lt;chr&gt;</th></tr>\n",
       "</thead>\n",
       "<tbody>\n",
       "\t<tr><th scope=row>2</th><td>...Over 30 years, federal spending on education has grown by 375 percent, but test scores remain flat.                                                                                                                </td><td>5</td><td>education,federal-budget                           </td><td>over 30 year feder spend on educ has grown by 375 percent but test score remain flat                                                                                            </td></tr>\n",
       "\t<tr><th scope=row>4</th><td>''I have received more contributions than any other candidate in the race Republican or Democrat.''                                                                                                                   </td><td>1</td><td>elections                                          </td><td>i have receiv more contribut than ani other candid in the race republican or democrat                                                                                           </td></tr>\n",
       "\t<tr><th scope=row>6</th><td>(Big banks) have invested over $300,000 in (Joe Heck), and Heck has sponsored $44 million dollars in tax breaks for banks.                                                                                            </td><td>1</td><td>campaign-finance                                   </td><td>big bank have invest over 300,000 in joe heck and heck has sponsor 44 million dollar in tax break for bank                                                                      </td></tr>\n",
       "\t<tr><th scope=row>7</th><td>(Bill) McCollum also voted for numerous amendments to weaken the legislation, even voting to make trains less accessible to those in wheelchairs.                                                                     </td><td>5</td><td>disability                                         </td><td>bill mccollum also vote for numer amend to weaken the legisl even vote to make train less access to those in wheelchair                                                         </td></tr>\n",
       "\t<tr><th scope=row>8</th><td>(Birmingham, Ala.) is the cradle of the civil rights movement.                                                                                                                                                        </td><td>1</td><td>civil-rights,history                               </td><td>birmingham ala is the cradl of the civil right movement                                                                                                                         </td></tr>\n",
       "\t<tr><th scope=row>9</th><td>(Brendan) Doherty wants to raise the eligibility age for Social Security benefits for anyone born after 1960, with no regard for the challenges it would cause for people working in physically demanding occupations.</td><td>1</td><td>federal-budget,health-care,medicare,social-security</td><td>brendan doherti want to rais the elig age for social secur benefit for anyon born after 1960 with no regard for the challeng it would caus for peopl work in physic demand occup</td></tr>\n",
       "</tbody>\n",
       "</table>\n"
      ],
      "text/latex": [
       "A data.frame: 6 × 4\n",
       "\\begin{tabular}{r|llll}\n",
       "  & Text & Labels & Text\\_Tag & doc\\_id\\\\\n",
       "  & <chr> & <dbl> & <chr> & <chr>\\\\\n",
       "\\hline\n",
       "\t2 & ...Over 30 years, federal spending on education has grown by 375 percent, but test scores remain flat.                                                                                                                 & 5 & education,federal-budget                            & over 30 year feder spend on educ has grown by 375 percent but test score remain flat                                                                                            \\\\\n",
       "\t4 & ''I have received more contributions than any other candidate in the race Republican or Democrat.''                                                                                                                    & 1 & elections                                           & i have receiv more contribut than ani other candid in the race republican or democrat                                                                                           \\\\\n",
       "\t6 & (Big banks) have invested over \\$300,000 in (Joe Heck), and Heck has sponsored \\$44 million dollars in tax breaks for banks.                                                                                             & 1 & campaign-finance                                    & big bank have invest over 300,000 in joe heck and heck has sponsor 44 million dollar in tax break for bank                                                                      \\\\\n",
       "\t7 & (Bill) McCollum also voted for numerous amendments to weaken the legislation, even voting to make trains less accessible to those in wheelchairs.                                                                      & 5 & disability                                          & bill mccollum also vote for numer amend to weaken the legisl even vote to make train less access to those in wheelchair                                                         \\\\\n",
       "\t8 & (Birmingham, Ala.) is the cradle of the civil rights movement.                                                                                                                                                         & 1 & civil-rights,history                                & birmingham ala is the cradl of the civil right movement                                                                                                                         \\\\\n",
       "\t9 & (Brendan) Doherty wants to raise the eligibility age for Social Security benefits for anyone born after 1960, with no regard for the challenges it would cause for people working in physically demanding occupations. & 1 & federal-budget,health-care,medicare,social-security & brendan doherti want to rais the elig age for social secur benefit for anyon born after 1960 with no regard for the challeng it would caus for peopl work in physic demand occup\\\\\n",
       "\\end{tabular}\n"
      ],
      "text/markdown": [
       "\n",
       "A data.frame: 6 × 4\n",
       "\n",
       "| <!--/--> | Text &lt;chr&gt; | Labels &lt;dbl&gt; | Text_Tag &lt;chr&gt; | doc_id &lt;chr&gt; |\n",
       "|---|---|---|---|---|\n",
       "| 2 | ...Over 30 years, federal spending on education has grown by 375 percent, but test scores remain flat.                                                                                                                 | 5 | education,federal-budget                            | over 30 year feder spend on educ has grown by 375 percent but test score remain flat                                                                                             |\n",
       "| 4 | ''I have received more contributions than any other candidate in the race Republican or Democrat.''                                                                                                                    | 1 | elections                                           | i have receiv more contribut than ani other candid in the race republican or democrat                                                                                            |\n",
       "| 6 | (Big banks) have invested over $300,000 in (Joe Heck), and Heck has sponsored $44 million dollars in tax breaks for banks.                                                                                             | 1 | campaign-finance                                    | big bank have invest over 300,000 in joe heck and heck has sponsor 44 million dollar in tax break for bank                                                                       |\n",
       "| 7 | (Bill) McCollum also voted for numerous amendments to weaken the legislation, even voting to make trains less accessible to those in wheelchairs.                                                                      | 5 | disability                                          | bill mccollum also vote for numer amend to weaken the legisl even vote to make train less access to those in wheelchair                                                          |\n",
       "| 8 | (Birmingham, Ala.) is the cradle of the civil rights movement.                                                                                                                                                         | 1 | civil-rights,history                                | birmingham ala is the cradl of the civil right movement                                                                                                                          |\n",
       "| 9 | (Brendan) Doherty wants to raise the eligibility age for Social Security benefits for anyone born after 1960, with no regard for the challenges it would cause for people working in physically demanding occupations. | 1 | federal-budget,health-care,medicare,social-security | brendan doherti want to rais the elig age for social secur benefit for anyon born after 1960 with no regard for the challeng it would caus for peopl work in physic demand occup |\n",
       "\n"
      ],
      "text/plain": [
       "  Text                                                                                                                                                                                                                  \n",
       "2 ...Over 30 years, federal spending on education has grown by 375 percent, but test scores remain flat.                                                                                                                \n",
       "4 ''I have received more contributions than any other candidate in the race Republican or Democrat.''                                                                                                                   \n",
       "6 (Big banks) have invested over $300,000 in (Joe Heck), and Heck has sponsored $44 million dollars in tax breaks for banks.                                                                                            \n",
       "7 (Bill) McCollum also voted for numerous amendments to weaken the legislation, even voting to make trains less accessible to those in wheelchairs.                                                                     \n",
       "8 (Birmingham, Ala.) is the cradle of the civil rights movement.                                                                                                                                                        \n",
       "9 (Brendan) Doherty wants to raise the eligibility age for Social Security benefits for anyone born after 1960, with no regard for the challenges it would cause for people working in physically demanding occupations.\n",
       "  Labels Text_Tag                                           \n",
       "2 5      education,federal-budget                           \n",
       "4 1      elections                                          \n",
       "6 1      campaign-finance                                   \n",
       "7 5      disability                                         \n",
       "8 1      civil-rights,history                               \n",
       "9 1      federal-budget,health-care,medicare,social-security\n",
       "  doc_id                                                                                                                                                                          \n",
       "2 over 30 year feder spend on educ has grown by 375 percent but test score remain flat                                                                                            \n",
       "4 i have receiv more contribut than ani other candid in the race republican or democrat                                                                                           \n",
       "6 big bank have invest over 300,000 in joe heck and heck has sponsor 44 million dollar in tax break for bank                                                                      \n",
       "7 bill mccollum also vote for numer amend to weaken the legisl even vote to make train less access to those in wheelchair                                                         \n",
       "8 birmingham ala is the cradl of the civil right movement                                                                                                                         \n",
       "9 brendan doherti want to rais the elig age for social secur benefit for anyon born after 1960 with no regard for the challeng it would caus for peopl work in physic demand occup"
      ]
     },
     "metadata": {},
     "output_type": "display_data"
    }
   ],
   "source": [
    "reduced_set_stemmed <- labelled_set_stemmed\n",
    "reduced_set_stemmed$Labels[reduced_set_stemmed$Labels == 0] <- 1\n",
    "reduced_set_stemmed$Labels[reduced_set_stemmed$Labels == 3] <- 5\n",
    "reduced_set_stemmed$Labels[reduced_set_stemmed$Labels == 5] <- 5\n",
    "reduced_set_stemmed <- subset(reduced_set_stemmed, (5%%Labels == 0))\n",
    "head(reduced_set_stemmed)"
   ]
  },
  {
   "cell_type": "code",
   "execution_count": 16,
   "id": "1bfb94c5-66d0-418a-9d6f-25e4581ba9e6",
   "metadata": {
    "scrolled": true,
    "tags": []
   },
   "outputs": [
    {
     "data": {
      "text/html": [
       "<table class=\"dataframe\">\n",
       "<caption>A data.frame: 6 × 3548</caption>\n",
       "<thead>\n",
       "\t<tr><th></th><th scope=col>doc_id</th><th scope=col>Text</th><th scope=col>Labels</th><th scope=col>Text_Tag</th><th scope=col>1.x</th><th scope=col>3.x</th><th scope=col>cannot.x</th><th scope=col>career.x</th><th scope=col>colleg.x</th><th scope=col>drop.x</th><th scope=col>⋯</th><th scope=col>palin.y</th><th scope=col>photo.y</th><th scope=col>russia.y</th><th scope=col>wrong.y</th><th scope=col>affect.y</th><th scope=col>produc.y</th><th scope=col>35.y</th><th scope=col>attend.y</th><th scope=col>sherrod.y</th><th scope=col>worth.y</th></tr>\n",
       "\t<tr><th></th><th scope=col>&lt;chr&gt;</th><th scope=col>&lt;chr&gt;</th><th scope=col>&lt;dbl&gt;</th><th scope=col>&lt;chr&gt;</th><th scope=col>&lt;dbl&gt;</th><th scope=col>&lt;dbl&gt;</th><th scope=col>&lt;dbl&gt;</th><th scope=col>&lt;dbl&gt;</th><th scope=col>&lt;dbl&gt;</th><th scope=col>&lt;dbl&gt;</th><th scope=col>⋯</th><th scope=col>&lt;dbl&gt;</th><th scope=col>&lt;dbl&gt;</th><th scope=col>&lt;dbl&gt;</th><th scope=col>&lt;dbl&gt;</th><th scope=col>&lt;dbl&gt;</th><th scope=col>&lt;dbl&gt;</th><th scope=col>&lt;dbl&gt;</th><th scope=col>&lt;dbl&gt;</th><th scope=col>&lt;dbl&gt;</th><th scope=col>&lt;dbl&gt;</th></tr>\n",
       "</thead>\n",
       "<tbody>\n",
       "\t<tr><th scope=row>1</th><td>1 3 of our kid drop out of high school cannot go to colleg or start a career</td><td>1/3 of our kids drop out (of high school), cannot go to college or start a career. </td><td>1</td><td>corrections-and-updates,education         </td><td>1</td><td>1</td><td>1</td><td>1</td><td>1</td><td>1</td><td>⋯</td><td>0</td><td>0</td><td>0</td><td>0</td><td>0</td><td>0</td><td>0</td><td>0</td><td>0</td><td>0</td></tr>\n",
       "\t<tr><th scope=row>2</th><td>1 percent of candid that the nation rifl associ endors in 2012 won          </td><td>1 percent of candidates that (the National Rifle Association) endorsed in 2012 won.</td><td>1</td><td>campaign-finance,guns,pundits             </td><td>1</td><td>0</td><td>0</td><td>0</td><td>0</td><td>0</td><td>⋯</td><td>0</td><td>0</td><td>0</td><td>0</td><td>0</td><td>0</td><td>0</td><td>0</td><td>0</td><td>0</td></tr>\n",
       "\t<tr><th scope=row>3</th><td>1.3 million peopl in america make their live off ebay                       </td><td>1.3-million people in America make their living off eBay.                          </td><td>1</td><td>economy                                   </td><td>0</td><td>0</td><td>0</td><td>0</td><td>0</td><td>0</td><td>⋯</td><td>0</td><td>0</td><td>0</td><td>0</td><td>0</td><td>0</td><td>0</td><td>0</td><td>0</td><td>0</td></tr>\n",
       "\t<tr><th scope=row>4</th><td>1.53 million job are at risk from potenti defens cut                        </td><td>1.53 million jobs are at risk (from potential defense cuts).                       </td><td>5</td><td>deficit,jobs,message-machine-2012,military</td><td>0</td><td>0</td><td>0</td><td>0</td><td>0</td><td>0</td><td>⋯</td><td>0</td><td>0</td><td>0</td><td>0</td><td>0</td><td>0</td><td>0</td><td>0</td><td>0</td><td>0</td></tr>\n",
       "\t<tr><th scope=row>5</th><td>10 cent on thedollar from the clinton foundat goe to charit caus            </td><td>10 cents on thedollar from the Clinton Foundation goes to charitable causes.       </td><td>1</td><td>candidates-biography                      </td><td>0</td><td>0</td><td>0</td><td>0</td><td>0</td><td>0</td><td>⋯</td><td>0</td><td>0</td><td>0</td><td>0</td><td>0</td><td>0</td><td>0</td><td>0</td><td>0</td><td>0</td></tr>\n",
       "\t<tr><th scope=row>6</th><td>100,000 in stimulus fund were use for a martini bar and brazilian steakhous </td><td>$100,000 in stimulus funds (were) used for a Martini Bar and Brazilian Steakhouse. </td><td>5</td><td>stimulus                                  </td><td>0</td><td>0</td><td>0</td><td>0</td><td>0</td><td>0</td><td>⋯</td><td>0</td><td>0</td><td>0</td><td>0</td><td>0</td><td>0</td><td>0</td><td>0</td><td>0</td><td>0</td></tr>\n",
       "</tbody>\n",
       "</table>\n"
      ],
      "text/latex": [
       "A data.frame: 6 × 3548\n",
       "\\begin{tabular}{r|lllllllllllllllllllll}\n",
       "  & doc\\_id & Text & Labels & Text\\_Tag & 1.x & 3.x & cannot.x & career.x & colleg.x & drop.x & ⋯ & palin.y & photo.y & russia.y & wrong.y & affect.y & produc.y & 35.y & attend.y & sherrod.y & worth.y\\\\\n",
       "  & <chr> & <chr> & <dbl> & <chr> & <dbl> & <dbl> & <dbl> & <dbl> & <dbl> & <dbl> & ⋯ & <dbl> & <dbl> & <dbl> & <dbl> & <dbl> & <dbl> & <dbl> & <dbl> & <dbl> & <dbl>\\\\\n",
       "\\hline\n",
       "\t1 & 1 3 of our kid drop out of high school cannot go to colleg or start a career & 1/3 of our kids drop out (of high school), cannot go to college or start a career.  & 1 & corrections-and-updates,education          & 1 & 1 & 1 & 1 & 1 & 1 & ⋯ & 0 & 0 & 0 & 0 & 0 & 0 & 0 & 0 & 0 & 0\\\\\n",
       "\t2 & 1 percent of candid that the nation rifl associ endors in 2012 won           & 1 percent of candidates that (the National Rifle Association) endorsed in 2012 won. & 1 & campaign-finance,guns,pundits              & 1 & 0 & 0 & 0 & 0 & 0 & ⋯ & 0 & 0 & 0 & 0 & 0 & 0 & 0 & 0 & 0 & 0\\\\\n",
       "\t3 & 1.3 million peopl in america make their live off ebay                        & 1.3-million people in America make their living off eBay.                           & 1 & economy                                    & 0 & 0 & 0 & 0 & 0 & 0 & ⋯ & 0 & 0 & 0 & 0 & 0 & 0 & 0 & 0 & 0 & 0\\\\\n",
       "\t4 & 1.53 million job are at risk from potenti defens cut                         & 1.53 million jobs are at risk (from potential defense cuts).                        & 5 & deficit,jobs,message-machine-2012,military & 0 & 0 & 0 & 0 & 0 & 0 & ⋯ & 0 & 0 & 0 & 0 & 0 & 0 & 0 & 0 & 0 & 0\\\\\n",
       "\t5 & 10 cent on thedollar from the clinton foundat goe to charit caus             & 10 cents on thedollar from the Clinton Foundation goes to charitable causes.        & 1 & candidates-biography                       & 0 & 0 & 0 & 0 & 0 & 0 & ⋯ & 0 & 0 & 0 & 0 & 0 & 0 & 0 & 0 & 0 & 0\\\\\n",
       "\t6 & 100,000 in stimulus fund were use for a martini bar and brazilian steakhous  & \\$100,000 in stimulus funds (were) used for a Martini Bar and Brazilian Steakhouse.  & 5 & stimulus                                   & 0 & 0 & 0 & 0 & 0 & 0 & ⋯ & 0 & 0 & 0 & 0 & 0 & 0 & 0 & 0 & 0 & 0\\\\\n",
       "\\end{tabular}\n"
      ],
      "text/markdown": [
       "\n",
       "A data.frame: 6 × 3548\n",
       "\n",
       "| <!--/--> | doc_id &lt;chr&gt; | Text &lt;chr&gt; | Labels &lt;dbl&gt; | Text_Tag &lt;chr&gt; | 1.x &lt;dbl&gt; | 3.x &lt;dbl&gt; | cannot.x &lt;dbl&gt; | career.x &lt;dbl&gt; | colleg.x &lt;dbl&gt; | drop.x &lt;dbl&gt; | ⋯ ⋯ | palin.y &lt;dbl&gt; | photo.y &lt;dbl&gt; | russia.y &lt;dbl&gt; | wrong.y &lt;dbl&gt; | affect.y &lt;dbl&gt; | produc.y &lt;dbl&gt; | 35.y &lt;dbl&gt; | attend.y &lt;dbl&gt; | sherrod.y &lt;dbl&gt; | worth.y &lt;dbl&gt; |\n",
       "|---|---|---|---|---|---|---|---|---|---|---|---|---|---|---|---|---|---|---|---|---|---|\n",
       "| 1 | 1 3 of our kid drop out of high school cannot go to colleg or start a career | 1/3 of our kids drop out (of high school), cannot go to college or start a career.  | 1 | corrections-and-updates,education          | 1 | 1 | 1 | 1 | 1 | 1 | ⋯ | 0 | 0 | 0 | 0 | 0 | 0 | 0 | 0 | 0 | 0 |\n",
       "| 2 | 1 percent of candid that the nation rifl associ endors in 2012 won           | 1 percent of candidates that (the National Rifle Association) endorsed in 2012 won. | 1 | campaign-finance,guns,pundits              | 1 | 0 | 0 | 0 | 0 | 0 | ⋯ | 0 | 0 | 0 | 0 | 0 | 0 | 0 | 0 | 0 | 0 |\n",
       "| 3 | 1.3 million peopl in america make their live off ebay                        | 1.3-million people in America make their living off eBay.                           | 1 | economy                                    | 0 | 0 | 0 | 0 | 0 | 0 | ⋯ | 0 | 0 | 0 | 0 | 0 | 0 | 0 | 0 | 0 | 0 |\n",
       "| 4 | 1.53 million job are at risk from potenti defens cut                         | 1.53 million jobs are at risk (from potential defense cuts).                        | 5 | deficit,jobs,message-machine-2012,military | 0 | 0 | 0 | 0 | 0 | 0 | ⋯ | 0 | 0 | 0 | 0 | 0 | 0 | 0 | 0 | 0 | 0 |\n",
       "| 5 | 10 cent on thedollar from the clinton foundat goe to charit caus             | 10 cents on thedollar from the Clinton Foundation goes to charitable causes.        | 1 | candidates-biography                       | 0 | 0 | 0 | 0 | 0 | 0 | ⋯ | 0 | 0 | 0 | 0 | 0 | 0 | 0 | 0 | 0 | 0 |\n",
       "| 6 | 100,000 in stimulus fund were use for a martini bar and brazilian steakhous  | $100,000 in stimulus funds (were) used for a Martini Bar and Brazilian Steakhouse.  | 5 | stimulus                                   | 0 | 0 | 0 | 0 | 0 | 0 | ⋯ | 0 | 0 | 0 | 0 | 0 | 0 | 0 | 0 | 0 | 0 |\n",
       "\n"
      ],
      "text/plain": [
       "  doc_id                                                                      \n",
       "1 1 3 of our kid drop out of high school cannot go to colleg or start a career\n",
       "2 1 percent of candid that the nation rifl associ endors in 2012 won          \n",
       "3 1.3 million peopl in america make their live off ebay                       \n",
       "4 1.53 million job are at risk from potenti defens cut                        \n",
       "5 10 cent on thedollar from the clinton foundat goe to charit caus            \n",
       "6 100,000 in stimulus fund were use for a martini bar and brazilian steakhous \n",
       "  Text                                                                               \n",
       "1 1/3 of our kids drop out (of high school), cannot go to college or start a career. \n",
       "2 1 percent of candidates that (the National Rifle Association) endorsed in 2012 won.\n",
       "3 1.3-million people in America make their living off eBay.                          \n",
       "4 1.53 million jobs are at risk (from potential defense cuts).                       \n",
       "5 10 cents on thedollar from the Clinton Foundation goes to charitable causes.       \n",
       "6 $100,000 in stimulus funds (were) used for a Martini Bar and Brazilian Steakhouse. \n",
       "  Labels Text_Tag                                   1.x 3.x cannot.x career.x\n",
       "1 1      corrections-and-updates,education          1   1   1        1       \n",
       "2 1      campaign-finance,guns,pundits              1   0   0        0       \n",
       "3 1      economy                                    0   0   0        0       \n",
       "4 5      deficit,jobs,message-machine-2012,military 0   0   0        0       \n",
       "5 1      candidates-biography                       0   0   0        0       \n",
       "6 5      stimulus                                   0   0   0        0       \n",
       "  colleg.x drop.x ⋯ palin.y photo.y russia.y wrong.y affect.y produc.y 35.y\n",
       "1 1        1      ⋯ 0       0       0        0       0        0        0   \n",
       "2 0        0      ⋯ 0       0       0        0       0        0        0   \n",
       "3 0        0      ⋯ 0       0       0        0       0        0        0   \n",
       "4 0        0      ⋯ 0       0       0        0       0        0        0   \n",
       "5 0        0      ⋯ 0       0       0        0       0        0        0   \n",
       "6 0        0      ⋯ 0       0       0        0       0        0        0   \n",
       "  attend.y sherrod.y worth.y\n",
       "1 0        0         0      \n",
       "2 0        0         0      \n",
       "3 0        0         0      \n",
       "4 0        0         0      \n",
       "5 0        0         0      \n",
       "6 0        0         0      "
      ]
     },
     "metadata": {},
     "output_type": "display_data"
    },
    {
     "data": {
      "text/html": [
       "<table class=\"dataframe\">\n",
       "<caption>A data.frame: 2 × 3547</caption>\n",
       "<thead>\n",
       "\t<tr><th></th><th scope=col>Labels</th><th scope=col>1.x</th><th scope=col>3.x</th><th scope=col>cannot.x</th><th scope=col>career.x</th><th scope=col>colleg.x</th><th scope=col>drop.x</th><th scope=col>go.x</th><th scope=col>high.x</th><th scope=col>kid.x</th><th scope=col>⋯</th><th scope=col>russia.y</th><th scope=col>wrong.y</th><th scope=col>affect.y</th><th scope=col>produc.y</th><th scope=col>35.y</th><th scope=col>attend.y</th><th scope=col>sherrod.y</th><th scope=col>worth.y</th><th scope=col>label_densities</th><th scope=col>total.num</th></tr>\n",
       "\t<tr><th></th><th scope=col>&lt;dbl&gt;</th><th scope=col>&lt;dbl&gt;</th><th scope=col>&lt;dbl&gt;</th><th scope=col>&lt;dbl&gt;</th><th scope=col>&lt;dbl&gt;</th><th scope=col>&lt;dbl&gt;</th><th scope=col>&lt;dbl&gt;</th><th scope=col>&lt;dbl&gt;</th><th scope=col>&lt;dbl&gt;</th><th scope=col>&lt;dbl&gt;</th><th scope=col>⋯</th><th scope=col>&lt;dbl&gt;</th><th scope=col>&lt;dbl&gt;</th><th scope=col>&lt;dbl&gt;</th><th scope=col>&lt;dbl&gt;</th><th scope=col>&lt;dbl&gt;</th><th scope=col>&lt;dbl&gt;</th><th scope=col>&lt;dbl&gt;</th><th scope=col>&lt;dbl&gt;</th><th scope=col>&lt;dbl&gt;</th><th scope=col>&lt;dbl&gt;</th></tr>\n",
       "</thead>\n",
       "<tbody>\n",
       "\t<tr><th scope=row>1</th><td>1</td><td>0.0006154793</td><td>0.0002130505</td><td>8.285298e-05</td><td>0.0001301975</td><td>0.0003314119</td><td>0.0001657060</td><td>0.0010652526</td><td>0.0003669204</td><td>0.0001775421</td><td>⋯</td><td>8.285298e-05</td><td>7.101684e-05</td><td>3.550842e-05</td><td>3.550842e-05</td><td>8.285298e-05</td><td>0.0000591807</td><td>0.0001301975</td><td>3.550842e-05</td><td>0.5105688</td><td>84487</td></tr>\n",
       "\t<tr><th scope=row>2</th><td>5</td><td>0.0008487864</td><td>0.0002239853</td><td>7.073220e-05</td><td>0.0000707322</td><td>0.0005894350</td><td>0.0001886192</td><td>0.0007426881</td><td>0.0004597593</td><td>0.0002239853</td><td>⋯</td><td>1.178870e-04</td><td>7.073220e-05</td><td>1.060983e-04</td><td>1.768305e-04</td><td>1.768305e-04</td><td>0.0001532531</td><td>0.0000707322</td><td>1.532531e-04</td><td>0.4894312</td><td>84827</td></tr>\n",
       "</tbody>\n",
       "</table>\n"
      ],
      "text/latex": [
       "A data.frame: 2 × 3547\n",
       "\\begin{tabular}{r|lllllllllllllllllllll}\n",
       "  & Labels & 1.x & 3.x & cannot.x & career.x & colleg.x & drop.x & go.x & high.x & kid.x & ⋯ & russia.y & wrong.y & affect.y & produc.y & 35.y & attend.y & sherrod.y & worth.y & label\\_densities & total.num\\\\\n",
       "  & <dbl> & <dbl> & <dbl> & <dbl> & <dbl> & <dbl> & <dbl> & <dbl> & <dbl> & <dbl> & ⋯ & <dbl> & <dbl> & <dbl> & <dbl> & <dbl> & <dbl> & <dbl> & <dbl> & <dbl> & <dbl>\\\\\n",
       "\\hline\n",
       "\t1 & 1 & 0.0006154793 & 0.0002130505 & 8.285298e-05 & 0.0001301975 & 0.0003314119 & 0.0001657060 & 0.0010652526 & 0.0003669204 & 0.0001775421 & ⋯ & 8.285298e-05 & 7.101684e-05 & 3.550842e-05 & 3.550842e-05 & 8.285298e-05 & 0.0000591807 & 0.0001301975 & 3.550842e-05 & 0.5105688 & 84487\\\\\n",
       "\t2 & 5 & 0.0008487864 & 0.0002239853 & 7.073220e-05 & 0.0000707322 & 0.0005894350 & 0.0001886192 & 0.0007426881 & 0.0004597593 & 0.0002239853 & ⋯ & 1.178870e-04 & 7.073220e-05 & 1.060983e-04 & 1.768305e-04 & 1.768305e-04 & 0.0001532531 & 0.0000707322 & 1.532531e-04 & 0.4894312 & 84827\\\\\n",
       "\\end{tabular}\n"
      ],
      "text/markdown": [
       "\n",
       "A data.frame: 2 × 3547\n",
       "\n",
       "| <!--/--> | Labels &lt;dbl&gt; | 1.x &lt;dbl&gt; | 3.x &lt;dbl&gt; | cannot.x &lt;dbl&gt; | career.x &lt;dbl&gt; | colleg.x &lt;dbl&gt; | drop.x &lt;dbl&gt; | go.x &lt;dbl&gt; | high.x &lt;dbl&gt; | kid.x &lt;dbl&gt; | ⋯ ⋯ | russia.y &lt;dbl&gt; | wrong.y &lt;dbl&gt; | affect.y &lt;dbl&gt; | produc.y &lt;dbl&gt; | 35.y &lt;dbl&gt; | attend.y &lt;dbl&gt; | sherrod.y &lt;dbl&gt; | worth.y &lt;dbl&gt; | label_densities &lt;dbl&gt; | total.num &lt;dbl&gt; |\n",
       "|---|---|---|---|---|---|---|---|---|---|---|---|---|---|---|---|---|---|---|---|---|---|\n",
       "| 1 | 1 | 0.0006154793 | 0.0002130505 | 8.285298e-05 | 0.0001301975 | 0.0003314119 | 0.0001657060 | 0.0010652526 | 0.0003669204 | 0.0001775421 | ⋯ | 8.285298e-05 | 7.101684e-05 | 3.550842e-05 | 3.550842e-05 | 8.285298e-05 | 0.0000591807 | 0.0001301975 | 3.550842e-05 | 0.5105688 | 84487 |\n",
       "| 2 | 5 | 0.0008487864 | 0.0002239853 | 7.073220e-05 | 0.0000707322 | 0.0005894350 | 0.0001886192 | 0.0007426881 | 0.0004597593 | 0.0002239853 | ⋯ | 1.178870e-04 | 7.073220e-05 | 1.060983e-04 | 1.768305e-04 | 1.768305e-04 | 0.0001532531 | 0.0000707322 | 1.532531e-04 | 0.4894312 | 84827 |\n",
       "\n"
      ],
      "text/plain": [
       "  Labels 1.x          3.x          cannot.x     career.x     colleg.x    \n",
       "1 1      0.0006154793 0.0002130505 8.285298e-05 0.0001301975 0.0003314119\n",
       "2 5      0.0008487864 0.0002239853 7.073220e-05 0.0000707322 0.0005894350\n",
       "  drop.x       go.x         high.x       kid.x        ⋯ russia.y    \n",
       "1 0.0001657060 0.0010652526 0.0003669204 0.0001775421 ⋯ 8.285298e-05\n",
       "2 0.0001886192 0.0007426881 0.0004597593 0.0002239853 ⋯ 1.178870e-04\n",
       "  wrong.y      affect.y     produc.y     35.y         attend.y     sherrod.y   \n",
       "1 7.101684e-05 3.550842e-05 3.550842e-05 8.285298e-05 0.0000591807 0.0001301975\n",
       "2 7.073220e-05 1.060983e-04 1.768305e-04 1.768305e-04 0.0001532531 0.0000707322\n",
       "  worth.y      label_densities total.num\n",
       "1 3.550842e-05 0.5105688       84487    \n",
       "2 1.532531e-04 0.4894312       84827    "
      ]
     },
     "metadata": {},
     "output_type": "display_data"
    },
    {
     "name": "stderr",
     "output_type": "stream",
     "text": [
      "Warning message in replace_na(., 1):\n",
      "“NAs introduced by coercion”\n",
      "Warning message in replace_na(., 1):\n",
      "“NAs introduced by coercion”\n"
     ]
    }
   ],
   "source": [
    "too_common <- c(\"in\", \"the\", \"of\", \"to\", \"a\", \"and\", \"they\", \"or\", \"for\", \"that\", \"says\", \"we\", \n",
    "             \"more\", \"at\", \"be\", \"about\", \"will\", \"one\", \"an\", \"his\", \"you\", \"their\", \"is\", \n",
    "             \"on\", \"has\", \"have\", \"are\", \"was\", \"by\", \"it\", \"from\", \"with\", \"as\", \"not\", \"our\", \n",
    "             \"I\", \"this\", \"he\", \"been\", \"NA\")\n",
    "reduced_set <- feature_generation(reduced_set_stemmed, emotion = FALSE, punctuation = FALSE, ngrams = TRUE, highest_gram = 1, minimum_frequencies = c(15, 10, 5, 5, 5), toocommon = toocommon)\n",
    "reduced_set <- reduced_set[!is.na(colnames(reduced_set))]\n",
    "head(reduced_set)\n",
    "\n",
    "N <- nrow(reduced_set)\n",
    "train_fraction <- 0.8\n",
    "limit <- N*train_fraction\n",
    "train_set <- reduced_set[1:limit,]\n",
    "test_set <- reduced_set[(1+limit):N,]\n",
    "\n",
    "df_probabilities <- classifier_assemble(train_set)\n",
    "head(df_probabilities)\n",
    "\n",
    "Y_train_pred <- predictor(df_probabilities, train_set)\n",
    "Y_train_pred <- as.integer(as.character(Y_train_pred$t.predicted_label)) %>% replace_na(1)\n",
    "Y_train <- as.integer(as.character(train_set$Labels))\n",
    "\n",
    "Y_test_pred <- predictor(df_probabilities, test_set)\n",
    "Y_test_pred <- as.integer(as.character(Y_test_pred$t.predicted_label)) %>% replace_na(1)\n",
    "Y_test <- as.integer(as.character(test_set$Labels))"
   ]
  },
  {
   "cell_type": "code",
   "execution_count": 17,
   "id": "c4a7f9db-1db1-4eff-bfc9-eb2f4839fe5e",
   "metadata": {},
   "outputs": [
    {
     "name": "stdout",
     "output_type": "stream",
     "text": [
      "\n",
      "SCORES\n",
      "\n",
      "Training score:\t\t0.7068108 \n",
      "Test score:\t\t0.6211393\n",
      "\n",
      "-----------------------------------------------------\n"
     ]
    },
    {
     "data": {
      "text/plain": [
       "Confusion Matrix and Statistics\n",
       "\n",
       "          Reference\n",
       "Prediction    1    5\n",
       "         1 2141  838\n",
       "         5  871 1979\n",
       "                                          \n",
       "               Accuracy : 0.7068          \n",
       "                 95% CI : (0.6949, 0.7185)\n",
       "    No Information Rate : 0.5167          \n",
       "    P-Value [Acc > NIR] : <2e-16          \n",
       "                                          \n",
       "                  Kappa : 0.4132          \n",
       "                                          \n",
       " Mcnemar's Test P-Value : 0.4389          \n",
       "                                          \n",
       "            Sensitivity : 0.7108          \n",
       "            Specificity : 0.7025          \n",
       "         Pos Pred Value : 0.7187          \n",
       "         Neg Pred Value : 0.6944          \n",
       "             Prevalence : 0.5167          \n",
       "         Detection Rate : 0.3673          \n",
       "   Detection Prevalence : 0.5111          \n",
       "      Balanced Accuracy : 0.7067          \n",
       "                                          \n",
       "       'Positive' Class : 1               \n",
       "                                          "
      ]
     },
     "metadata": {},
     "output_type": "display_data"
    }
   ],
   "source": [
    "cat(\"\\nSCORES\\n\\n\")\n",
    "cat(\"Training score:\\t\\t\")\n",
    "train_score <- score(Y_train, Y_train_pred) %>% cat(\"\\n\")\n",
    "cat(\"Test score:\\t\\t\")\n",
    "test_score <- score(Y_test, Y_test_pred) %>% cat()\n",
    "cat(\"\\n\\n-----------------------------------------------------\\n\")\n",
    "confusionMatrix(as.factor(Y_train), as.factor(Y_train_pred))"
   ]
  },
  {
   "cell_type": "code",
   "execution_count": null,
   "id": "8a7fcf81-4e86-48d5-a556-c39b4e90a4fe",
   "metadata": {},
   "outputs": [],
   "source": []
  }
 ],
 "metadata": {
  "kernelspec": {
   "display_name": "R",
   "language": "R",
   "name": "ir"
  },
  "language_info": {
   "codemirror_mode": "r",
   "file_extension": ".r",
   "mimetype": "text/x-r-source",
   "name": "R",
   "pygments_lexer": "r",
   "version": "4.2.1"
  }
 },
 "nbformat": 4,
 "nbformat_minor": 5
}
