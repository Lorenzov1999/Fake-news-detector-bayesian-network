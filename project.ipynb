{
 "cells": [
  {
   "cell_type": "markdown",
   "id": "46959044-c372-4166-ad6b-fee4a954e508",
   "metadata": {},
   "source": [
    "# **Fake News**"
   ]
  },
  {
   "cell_type": "markdown",
   "id": "7838f576-6c43-4223-bae3-6b7fd9c862c0",
   "metadata": {},
   "source": [
    "### **libraries - load data - splitting**"
   ]
  },
  {
   "cell_type": "code",
   "execution_count": 1,
   "id": "5114e9e9-5bce-4949-999d-3eb2280c3ea8",
   "metadata": {},
   "outputs": [
    {
     "name": "stderr",
     "output_type": "stream",
     "text": [
      "\n",
      "Attaching package: ‘dplyr’\n",
      "\n",
      "\n",
      "The following objects are masked from ‘package:stats’:\n",
      "\n",
      "    filter, lag\n",
      "\n",
      "\n",
      "The following objects are masked from ‘package:base’:\n",
      "\n",
      "    intersect, setdiff, setequal, union\n",
      "\n",
      "\n",
      "Package version: 3.2.3\n",
      "Unicode version: 14.0\n",
      "ICU version: 71.1\n",
      "\n",
      "Parallel computing: 8 of 8 threads used.\n",
      "\n",
      "See https://quanteda.io for tutorials and examples.\n",
      "\n",
      "Loading required package: Matrix\n",
      "\n",
      "Loading required package: koRpus.lang.en\n",
      "\n",
      "Loading required package: koRpus\n",
      "\n",
      "Loading required package: sylly\n",
      "\n",
      "For information on available language packages for 'koRpus', run\n",
      "\n",
      "  available.koRpus.lang()\n",
      "\n",
      "and see ?install.koRpus.lang()\n",
      "\n",
      "\n",
      "\n",
      "Attaching package: ‘koRpus’\n",
      "\n",
      "\n",
      "The following objects are masked from ‘package:quanteda’:\n",
      "\n",
      "    tokens, types\n",
      "\n",
      "\n",
      "── \u001b[1mAttaching packages\u001b[22m ─────────────────────────────────────── tidyverse 1.3.2 ──\n",
      "\u001b[32m✔\u001b[39m \u001b[34mggplot2\u001b[39m 3.3.6     \u001b[32m✔\u001b[39m \u001b[34mreadr  \u001b[39m 2.1.2\n",
      "\u001b[32m✔\u001b[39m \u001b[34mtibble \u001b[39m 3.1.8     \u001b[32m✔\u001b[39m \u001b[34mpurrr  \u001b[39m 0.3.4\n",
      "\u001b[32m✔\u001b[39m \u001b[34mtidyr  \u001b[39m 1.2.1     \u001b[32m✔\u001b[39m \u001b[34mforcats\u001b[39m 0.5.2\n",
      "── \u001b[1mConflicts\u001b[22m ────────────────────────────────────────── tidyverse_conflicts() ──\n",
      "\u001b[31m✖\u001b[39m \u001b[34mtidyr\u001b[39m::\u001b[32mexpand()\u001b[39m    masks \u001b[34mMatrix\u001b[39m::expand()\n",
      "\u001b[31m✖\u001b[39m \u001b[34mtidyr\u001b[39m::\u001b[32mextract()\u001b[39m   masks \u001b[34mmagrittr\u001b[39m::extract()\n",
      "\u001b[31m✖\u001b[39m \u001b[34mdplyr\u001b[39m::\u001b[32mfilter()\u001b[39m    masks \u001b[34mstats\u001b[39m::filter()\n",
      "\u001b[31m✖\u001b[39m \u001b[34mdplyr\u001b[39m::\u001b[32mlag()\u001b[39m       masks \u001b[34mstats\u001b[39m::lag()\n",
      "\u001b[31m✖\u001b[39m \u001b[34mtidyr\u001b[39m::\u001b[32mpack()\u001b[39m      masks \u001b[34mMatrix\u001b[39m::pack()\n",
      "\u001b[31m✖\u001b[39m \u001b[34mpurrr\u001b[39m::\u001b[32mset_names()\u001b[39m masks \u001b[34mmagrittr\u001b[39m::set_names()\n",
      "\u001b[31m✖\u001b[39m \u001b[34mreadr\u001b[39m::\u001b[32mtokenize()\u001b[39m  masks \u001b[34mkoRpus\u001b[39m::tokenize()\n",
      "\u001b[31m✖\u001b[39m \u001b[34mtidyr\u001b[39m::\u001b[32munpack()\u001b[39m    masks \u001b[34mMatrix\u001b[39m::unpack()\n"
     ]
    }
   ],
   "source": [
    "#library(bnclassify)\n",
    "#library(bnlearn)\n",
    "#library(glmnet)\n",
    "#library(bnviewer)\n",
    "library(magrittr)\n",
    "library(tidytext)\n",
    "library(stringr)\n",
    "library(syuzhet)\n",
    "library(dplyr)\n",
    "library(quanteda)\n",
    "library(Matrix.utils)\n",
    "#library(ggplot2)\n",
    "library(SnowballC)\n",
    "library(RColorBrewer)\n",
    "#library(stopwords)\n",
    "library(textstem)\n",
    "library(tidyverse)\n",
    "#library(caret)\n",
    "fig <- function(width, heigth){\n",
    " options(repr.plot.width = width, repr.plot.height = heigth)\n",
    " };\n",
    "# Always load bnlearn after bnclassify, otherwise we get some objects masked when we need them"
   ]
  },
  {
   "cell_type": "markdown",
   "id": "444298b5-c670-4b29-ba5b-52d1ab17d2f1",
   "metadata": {},
   "source": [
    "# Loading the data and splitting"
   ]
  },
  {
   "cell_type": "code",
   "execution_count": 2,
   "id": "c2a98b98-97bc-4dd2-95d4-2c6d7ecb903b",
   "metadata": {},
   "outputs": [
    {
     "data": {
      "text/html": [
       "FALSE"
      ],
      "text/latex": [
       "FALSE"
      ],
      "text/markdown": [
       "FALSE"
      ],
      "text/plain": [
       "[1] FALSE"
      ]
     },
     "metadata": {},
     "output_type": "display_data"
    },
    {
     "data": {
      "text/html": [
       "<table class=\"dataframe\">\n",
       "<caption>A data.frame: 6 × 3</caption>\n",
       "<thead>\n",
       "\t<tr><th></th><th scope=col>Labels</th><th scope=col>Text</th><th scope=col>Text_Tag</th></tr>\n",
       "\t<tr><th></th><th scope=col>&lt;int&gt;</th><th scope=col>&lt;chr&gt;</th><th scope=col>&lt;chr&gt;</th></tr>\n",
       "</thead>\n",
       "<tbody>\n",
       "\t<tr><th scope=row>1</th><td>1</td><td>Says the Annies List political group supports third-trimester abortions on demand.                                                                         </td><td>abortion                          </td></tr>\n",
       "\t<tr><th scope=row>2</th><td>2</td><td>When did the decline of coal start? It started when natural gas took off that started to begin in (President George W.) Bushs administration.              </td><td>energy,history,job-accomplishments</td></tr>\n",
       "\t<tr><th scope=row>3</th><td>3</td><td>Hillary Clinton agrees with John McCain \"by voting to give George Bush the benefit of the doubt on Iran.\"                                                  </td><td>foreign-policy                    </td></tr>\n",
       "\t<tr><th scope=row>4</th><td>1</td><td>Health care reform legislation is likely to mandate free sex change surgeries.                                                                             </td><td>health-care                       </td></tr>\n",
       "\t<tr><th scope=row>5</th><td>2</td><td>The economic turnaround started at the end of my term.                                                                                                     </td><td>economy,jobs                      </td></tr>\n",
       "\t<tr><th scope=row>6</th><td>5</td><td>The Chicago Bears have had more starting quarterbacks in the last 10 years than the total number of tenured (UW) faculty fired during the last two decades.</td><td>education                         </td></tr>\n",
       "</tbody>\n",
       "</table>\n"
      ],
      "text/latex": [
       "A data.frame: 6 × 3\n",
       "\\begin{tabular}{r|lll}\n",
       "  & Labels & Text & Text\\_Tag\\\\\n",
       "  & <int> & <chr> & <chr>\\\\\n",
       "\\hline\n",
       "\t1 & 1 & Says the Annies List political group supports third-trimester abortions on demand.                                                                          & abortion                          \\\\\n",
       "\t2 & 2 & When did the decline of coal start? It started when natural gas took off that started to begin in (President George W.) Bushs administration.               & energy,history,job-accomplishments\\\\\n",
       "\t3 & 3 & Hillary Clinton agrees with John McCain \"by voting to give George Bush the benefit of the doubt on Iran.\"                                                   & foreign-policy                    \\\\\n",
       "\t4 & 1 & Health care reform legislation is likely to mandate free sex change surgeries.                                                                              & health-care                       \\\\\n",
       "\t5 & 2 & The economic turnaround started at the end of my term.                                                                                                      & economy,jobs                      \\\\\n",
       "\t6 & 5 & The Chicago Bears have had more starting quarterbacks in the last 10 years than the total number of tenured (UW) faculty fired during the last two decades. & education                         \\\\\n",
       "\\end{tabular}\n"
      ],
      "text/markdown": [
       "\n",
       "A data.frame: 6 × 3\n",
       "\n",
       "| <!--/--> | Labels &lt;int&gt; | Text &lt;chr&gt; | Text_Tag &lt;chr&gt; |\n",
       "|---|---|---|---|\n",
       "| 1 | 1 | Says the Annies List political group supports third-trimester abortions on demand.                                                                          | abortion                           |\n",
       "| 2 | 2 | When did the decline of coal start? It started when natural gas took off that started to begin in (President George W.) Bushs administration.               | energy,history,job-accomplishments |\n",
       "| 3 | 3 | Hillary Clinton agrees with John McCain \"by voting to give George Bush the benefit of the doubt on Iran.\"                                                   | foreign-policy                     |\n",
       "| 4 | 1 | Health care reform legislation is likely to mandate free sex change surgeries.                                                                              | health-care                        |\n",
       "| 5 | 2 | The economic turnaround started at the end of my term.                                                                                                      | economy,jobs                       |\n",
       "| 6 | 5 | The Chicago Bears have had more starting quarterbacks in the last 10 years than the total number of tenured (UW) faculty fired during the last two decades. | education                          |\n",
       "\n"
      ],
      "text/plain": [
       "  Labels\n",
       "1 1     \n",
       "2 2     \n",
       "3 3     \n",
       "4 1     \n",
       "5 2     \n",
       "6 5     \n",
       "  Text                                                                                                                                                       \n",
       "1 Says the Annies List political group supports third-trimester abortions on demand.                                                                         \n",
       "2 When did the decline of coal start? It started when natural gas took off that started to begin in (President George W.) Bushs administration.              \n",
       "3 Hillary Clinton agrees with John McCain \"by voting to give George Bush the benefit of the doubt on Iran.\"                                                  \n",
       "4 Health care reform legislation is likely to mandate free sex change surgeries.                                                                             \n",
       "5 The economic turnaround started at the end of my term.                                                                                                     \n",
       "6 The Chicago Bears have had more starting quarterbacks in the last 10 years than the total number of tenured (UW) faculty fired during the last two decades.\n",
       "  Text_Tag                          \n",
       "1 abortion                          \n",
       "2 energy,history,job-accomplishments\n",
       "3 foreign-policy                    \n",
       "4 health-care                       \n",
       "5 economy,jobs                      \n",
       "6 education                         "
      ]
     },
     "metadata": {},
     "output_type": "display_data"
    }
   ],
   "source": [
    "labelled_set <- read.csv('./fake_news_db/train.csv')\n",
    "\n",
    "if(FALSE){unlabelled_set <- read.csv('./fake_news_db/test.csv')\n",
    "    print(summary(unlabelled_set))\n",
    "    anyNA(unlabelled_set)}\n",
    "\n",
    "anyNA(labelled_set)\n",
    "\n",
    "head(labelled_set)"
   ]
  },
  {
   "cell_type": "markdown",
   "id": "fb0d081c-c538-4458-bc5e-2a88d539dc05",
   "metadata": {},
   "source": [
    "### Attribute description\n",
    "The labels used for classifying the text are:\n",
    "\n",
    "| Labels         | Values |\n",
    "|----------------|:-----:|\n",
    "| True           | 5     |\n",
    "| Mostly True    | 3     |\n",
    "| Half True      | 2     |\n",
    "| Barely True    | 0     |\n",
    "| False          | 1     |\n",
    "| Not Known      | 4     |\n",
    "\n",
    "<br>\n",
    "The numerical values assigned to the labels are not sorted according to truthfulness in the training set. In our classification, we keep the same labels.\n"
   ]
  },
  {
   "cell_type": "code",
   "execution_count": 3,
   "id": "29bf72d2-26b6-4a1d-9238-7c3ba0142aad",
   "metadata": {},
   "outputs": [
    {
     "name": "stdout",
     "output_type": "stream",
     "text": [
      "\tTraining set:\n"
     ]
    },
    {
     "data": {
      "text/plain": [
       "     Labels          Text             Text_Tag        \n",
       " Min.   :0.000   Length:8192        Length:8192       \n",
       " 1st Qu.:1.000   Class :character   Class :character  \n",
       " Median :2.000   Mode  :character   Mode  :character  \n",
       " Mean   :2.333                                        \n",
       " 3rd Qu.:3.000                                        \n",
       " Max.   :5.000                                        "
      ]
     },
     "metadata": {},
     "output_type": "display_data"
    },
    {
     "name": "stdout",
     "output_type": "stream",
     "text": [
      "\n",
      "\tTest set:\n"
     ]
    },
    {
     "data": {
      "text/plain": [
       "     Labels          Text             Text_Tag        \n",
       " Min.   :0.000   Length:2048        Length:2048       \n",
       " 1st Qu.:1.000   Class :character   Class :character  \n",
       " Median :2.000   Mode  :character   Mode  :character  \n",
       " Mean   :2.309                                        \n",
       " 3rd Qu.:3.000                                        \n",
       " Max.   :5.000                                        "
      ]
     },
     "metadata": {},
     "output_type": "display_data"
    },
    {
     "data": {
      "image/png": "[encoded data removed]",
      "text/plain": [
       "Plot with title “test”"
      ]
     },
     "metadata": {
      "image/png": {
       "height": 480,
       "width": 1200
      }
     },
     "output_type": "display_data"
    }
   ],
   "source": [
    "N <- length(labelled_set[,1])\n",
    "train_fraction <- 0.8\n",
    "limit <- N*train_fraction\n",
    "train_set_raw <- labelled_set[1:limit,]\n",
    "test_set_raw <- labelled_set[(1+limit):N,]\n",
    "cat(\"\\tTraining set:\\n\")\n",
    "summary(train_set_raw)\n",
    "cat(\"\\n\\tTest set:\\n\")\n",
    "summary(test_set_raw)\n",
    "\n",
    "\n",
    "fig(20, 8)\n",
    "par(mfrow = c(1, 2))\n",
    "\n",
    "dataset <- list(training = train_set_raw, test = test_set_raw)\n",
    "for (i in 1:2) {\n",
    "    label_freq <- summarise(group_by(dataset[[i]], Labels), counts = length(Labels))\n",
    "    barplot(label_freq[[2]]/sum(label_freq[[2]]), names.arg = label_freq[[1]], col = brewer.pal(max(c(8, 2)), 'Dark2'), main = names(dataset)[i], xlab = 'label', ylab = '#tweets')\n",
    "}"
   ]
  },
  {
   "cell_type": "markdown",
   "id": "fb9d6853-eca0-4ee3-8895-aecb43ec80c8",
   "metadata": {},
   "source": [
    "## Stemming"
   ]
  },
  {
   "cell_type": "code",
   "execution_count": 4,
   "id": "9a79a87e-cacf-4c26-add2-2d4cc18b572a",
   "metadata": {},
   "outputs": [],
   "source": [
    "stemming <- function(raw_set){\n",
    "    set <- unnest_tokens(\n",
    "      tbl = raw_set,\n",
    "      output = \"words\",\n",
    "      input = \"Text\",\n",
    "      token = \"words\",\n",
    "      format = c(\"text\", \"man\", \"latex\", \"html\", \"xml\"),\n",
    "      to_lower = TRUE,\n",
    "      drop = FALSE,\n",
    "      collapse = NULL\n",
    "    )\n",
    "    set <- mutate(set, word_stem = wordStem(words, language=\"english\"))\n",
    "    set <- set %>% group_by(Text)  %>%\n",
    "                        dplyr::summarise(doc_id = paste(word_stem, collapse = \" \"))\n",
    "    set <- merge(raw_set, set, by='Text')\n",
    "    return (set)}"
   ]
  },
  {
   "cell_type": "code",
   "execution_count": 5,
   "id": "ae4b5708-1b5e-4ec1-9b4b-15043307d207",
   "metadata": {
    "scrolled": true,
    "tags": []
   },
   "outputs": [
    {
     "data": {
      "text/html": [
       "<table class=\"dataframe\">\n",
       "<caption>A data.frame: 6 × 4</caption>\n",
       "<thead>\n",
       "\t<tr><th></th><th scope=col>Text</th><th scope=col>Labels</th><th scope=col>Text_Tag</th><th scope=col>doc_id</th></tr>\n",
       "\t<tr><th></th><th scope=col>&lt;chr&gt;</th><th scope=col>&lt;int&gt;</th><th scope=col>&lt;chr&gt;</th><th scope=col>&lt;chr&gt;</th></tr>\n",
       "</thead>\n",
       "<tbody>\n",
       "\t<tr><th scope=row>1</th><td>... study after study has shown that the death penalty deters murders.                                                                                </td><td>2</td><td>crime                   </td><td>studi after studi has shown that the death penalti deter murder                                                                   </td></tr>\n",
       "\t<tr><th scope=row>2</th><td>...Over 30 years, federal spending on education has grown by 375 percent, but test scores remain flat.                                                </td><td>3</td><td>education,federal-budget</td><td>over 30 year feder spend on educ has grown by 375 percent but test score remain flat                                              </td></tr>\n",
       "\t<tr><th scope=row>3</th><td>...some of those (tax increases) were either court-ordered, or they were voted on by the people and approved by the people for (such) things as roads.</td><td>2</td><td>taxes                   </td><td>some of those tax increas were either court order or they were vote on by the peopl and approv by the peopl for such thing as road</td></tr>\n",
       "\t<tr><th scope=row>4</th><td>''I have received more contributions than any other candidate in the race Republican or Democrat.''                                                   </td><td>1</td><td>elections               </td><td>i have receiv more contribut than ani other candid in the race republican or democrat                                             </td></tr>\n",
       "\t<tr><th scope=row>5</th><td>(After the auto bailout) General Motors is back on top as the worlds No. 1 automaker.                                                                 </td><td>2</td><td>economy,jobs            </td><td>after the auto bailout general motor is back on top as the world no 1 automak                                                     </td></tr>\n",
       "\t<tr><th scope=row>6</th><td>(Big banks) have invested over $300,000 in (Joe Heck), and Heck has sponsored $44 million dollars in tax breaks for banks.                            </td><td>0</td><td>campaign-finance        </td><td>big bank have invest over 300,000 in joe heck and heck has sponsor 44 million dollar in tax break for bank                        </td></tr>\n",
       "</tbody>\n",
       "</table>\n"
      ],
      "text/latex": [
       "A data.frame: 6 × 4\n",
       "\\begin{tabular}{r|llll}\n",
       "  & Text & Labels & Text\\_Tag & doc\\_id\\\\\n",
       "  & <chr> & <int> & <chr> & <chr>\\\\\n",
       "\\hline\n",
       "\t1 & ... study after study has shown that the death penalty deters murders.                                                                                 & 2 & crime                    & studi after studi has shown that the death penalti deter murder                                                                   \\\\\n",
       "\t2 & ...Over 30 years, federal spending on education has grown by 375 percent, but test scores remain flat.                                                 & 3 & education,federal-budget & over 30 year feder spend on educ has grown by 375 percent but test score remain flat                                              \\\\\n",
       "\t3 & ...some of those (tax increases) were either court-ordered, or they were voted on by the people and approved by the people for (such) things as roads. & 2 & taxes                    & some of those tax increas were either court order or they were vote on by the peopl and approv by the peopl for such thing as road\\\\\n",
       "\t4 & ''I have received more contributions than any other candidate in the race Republican or Democrat.''                                                    & 1 & elections                & i have receiv more contribut than ani other candid in the race republican or democrat                                             \\\\\n",
       "\t5 & (After the auto bailout) General Motors is back on top as the worlds No. 1 automaker.                                                                  & 2 & economy,jobs             & after the auto bailout general motor is back on top as the world no 1 automak                                                     \\\\\n",
       "\t6 & (Big banks) have invested over \\$300,000 in (Joe Heck), and Heck has sponsored \\$44 million dollars in tax breaks for banks.                             & 0 & campaign-finance         & big bank have invest over 300,000 in joe heck and heck has sponsor 44 million dollar in tax break for bank                        \\\\\n",
       "\\end{tabular}\n"
      ],
      "text/markdown": [
       "\n",
       "A data.frame: 6 × 4\n",
       "\n",
       "| <!--/--> | Text &lt;chr&gt; | Labels &lt;int&gt; | Text_Tag &lt;chr&gt; | doc_id &lt;chr&gt; |\n",
       "|---|---|---|---|---|\n",
       "| 1 | ... study after study has shown that the death penalty deters murders.                                                                                 | 2 | crime                    | studi after studi has shown that the death penalti deter murder                                                                    |\n",
       "| 2 | ...Over 30 years, federal spending on education has grown by 375 percent, but test scores remain flat.                                                 | 3 | education,federal-budget | over 30 year feder spend on educ has grown by 375 percent but test score remain flat                                               |\n",
       "| 3 | ...some of those (tax increases) were either court-ordered, or they were voted on by the people and approved by the people for (such) things as roads. | 2 | taxes                    | some of those tax increas were either court order or they were vote on by the peopl and approv by the peopl for such thing as road |\n",
       "| 4 | ''I have received more contributions than any other candidate in the race Republican or Democrat.''                                                    | 1 | elections                | i have receiv more contribut than ani other candid in the race republican or democrat                                              |\n",
       "| 5 | (After the auto bailout) General Motors is back on top as the worlds No. 1 automaker.                                                                  | 2 | economy,jobs             | after the auto bailout general motor is back on top as the world no 1 automak                                                      |\n",
       "| 6 | (Big banks) have invested over $300,000 in (Joe Heck), and Heck has sponsored $44 million dollars in tax breaks for banks.                             | 0 | campaign-finance         | big bank have invest over 300,000 in joe heck and heck has sponsor 44 million dollar in tax break for bank                         |\n",
       "\n"
      ],
      "text/plain": [
       "  Text                                                                                                                                                  \n",
       "1 ... study after study has shown that the death penalty deters murders.                                                                                \n",
       "2 ...Over 30 years, federal spending on education has grown by 375 percent, but test scores remain flat.                                                \n",
       "3 ...some of those (tax increases) were either court-ordered, or they were voted on by the people and approved by the people for (such) things as roads.\n",
       "4 ''I have received more contributions than any other candidate in the race Republican or Democrat.''                                                   \n",
       "5 (After the auto bailout) General Motors is back on top as the worlds No. 1 automaker.                                                                 \n",
       "6 (Big banks) have invested over $300,000 in (Joe Heck), and Heck has sponsored $44 million dollars in tax breaks for banks.                            \n",
       "  Labels Text_Tag                \n",
       "1 2      crime                   \n",
       "2 3      education,federal-budget\n",
       "3 2      taxes                   \n",
       "4 1      elections               \n",
       "5 2      economy,jobs            \n",
       "6 0      campaign-finance        \n",
       "  doc_id                                                                                                                            \n",
       "1 studi after studi has shown that the death penalti deter murder                                                                   \n",
       "2 over 30 year feder spend on educ has grown by 375 percent but test score remain flat                                              \n",
       "3 some of those tax increas were either court order or they were vote on by the peopl and approv by the peopl for such thing as road\n",
       "4 i have receiv more contribut than ani other candid in the race republican or democrat                                             \n",
       "5 after the auto bailout general motor is back on top as the world no 1 automak                                                     \n",
       "6 big bank have invest over 300,000 in joe heck and heck has sponsor 44 million dollar in tax break for bank                        "
      ]
     },
     "metadata": {},
     "output_type": "display_data"
    },
    {
     "data": {
      "text/html": [
       "<table class=\"dataframe\">\n",
       "<caption>A data.frame: 6 × 4</caption>\n",
       "<thead>\n",
       "\t<tr><th></th><th scope=col>Text</th><th scope=col>Labels</th><th scope=col>Text_Tag</th><th scope=col>doc_id</th></tr>\n",
       "\t<tr><th></th><th scope=col>&lt;chr&gt;</th><th scope=col>&lt;int&gt;</th><th scope=col>&lt;chr&gt;</th><th scope=col>&lt;chr&gt;</th></tr>\n",
       "</thead>\n",
       "<tbody>\n",
       "\t<tr><th scope=row>1</th><td>(Bill) McCollum also voted for numerous amendments to weaken the legislation, even voting to make trains less accessible to those in wheelchairs.             </td><td>5</td><td>disability                                                                        </td><td>bill mccollum also vote for numer amend to weaken the legisl even vote to make train less access to those in wheelchair                        </td></tr>\n",
       "\t<tr><th scope=row>2</th><td>(I) helped to invent a system that saved over a billion dollars on welfare.                                                                                   </td><td>5</td><td>candidates-biography,economy,families,federal-budget,government-efficiency,poverty</td><td>i help to invent a system that save over a billion dollar on welfar                                                                            </td></tr>\n",
       "\t<tr><th scope=row>3</th><td>(Mary) Burkes company, Trek Bicycles, makes 99% of their bikes overseas.                                                                                      </td><td>3</td><td>labor,workers                                                                     </td><td>mari burk compani trek bicycl make 99 of their bike oversea                                                                                    </td></tr>\n",
       "\t<tr><th scope=row>4</th><td>(Pete) Sessions has held at least two fundraisers at adult-themed clubs and made no apologies.                                                                </td><td>2</td><td>ethics                                                                            </td><td>pete session has held at least two fundrais at adult theme club and made no apolog                                                             </td></tr>\n",
       "\t<tr><th scope=row>5</th><td>(President Barack Obama gave) half a billion in taxpayer money to help his friends at Solyndra, a business the White House knew was on the path to bankruptcy.</td><td>0</td><td>campaign-finance,corporations,energy,ethics,jobs,stimulus                         </td><td>presid barack obama gave half a billion in taxpay money to help his friend at solyndra a busi the white hous knew was on the path to bankruptci</td></tr>\n",
       "\t<tr><th scope=row>6</th><td>(Rep. Bob Goodlattes) balanced budgetamendment does not require a balanced budget.                                                                            </td><td>0</td><td>deficit,federal-budget                                                            </td><td>rep bob goodlatt balanc budgetamend doe not requir a balanc budget                                                                             </td></tr>\n",
       "</tbody>\n",
       "</table>\n"
      ],
      "text/latex": [
       "A data.frame: 6 × 4\n",
       "\\begin{tabular}{r|llll}\n",
       "  & Text & Labels & Text\\_Tag & doc\\_id\\\\\n",
       "  & <chr> & <int> & <chr> & <chr>\\\\\n",
       "\\hline\n",
       "\t1 & (Bill) McCollum also voted for numerous amendments to weaken the legislation, even voting to make trains less accessible to those in wheelchairs.              & 5 & disability                                                                         & bill mccollum also vote for numer amend to weaken the legisl even vote to make train less access to those in wheelchair                        \\\\\n",
       "\t2 & (I) helped to invent a system that saved over a billion dollars on welfare.                                                                                    & 5 & candidates-biography,economy,families,federal-budget,government-efficiency,poverty & i help to invent a system that save over a billion dollar on welfar                                                                            \\\\\n",
       "\t3 & (Mary) Burkes company, Trek Bicycles, makes 99\\% of their bikes overseas.                                                                                       & 3 & labor,workers                                                                      & mari burk compani trek bicycl make 99 of their bike oversea                                                                                    \\\\\n",
       "\t4 & (Pete) Sessions has held at least two fundraisers at adult-themed clubs and made no apologies.                                                                 & 2 & ethics                                                                             & pete session has held at least two fundrais at adult theme club and made no apolog                                                             \\\\\n",
       "\t5 & (President Barack Obama gave) half a billion in taxpayer money to help his friends at Solyndra, a business the White House knew was on the path to bankruptcy. & 0 & campaign-finance,corporations,energy,ethics,jobs,stimulus                          & presid barack obama gave half a billion in taxpay money to help his friend at solyndra a busi the white hous knew was on the path to bankruptci\\\\\n",
       "\t6 & (Rep. Bob Goodlattes) balanced budgetamendment does not require a balanced budget.                                                                             & 0 & deficit,federal-budget                                                             & rep bob goodlatt balanc budgetamend doe not requir a balanc budget                                                                             \\\\\n",
       "\\end{tabular}\n"
      ],
      "text/markdown": [
       "\n",
       "A data.frame: 6 × 4\n",
       "\n",
       "| <!--/--> | Text &lt;chr&gt; | Labels &lt;int&gt; | Text_Tag &lt;chr&gt; | doc_id &lt;chr&gt; |\n",
       "|---|---|---|---|---|\n",
       "| 1 | (Bill) McCollum also voted for numerous amendments to weaken the legislation, even voting to make trains less accessible to those in wheelchairs.              | 5 | disability                                                                         | bill mccollum also vote for numer amend to weaken the legisl even vote to make train less access to those in wheelchair                         |\n",
       "| 2 | (I) helped to invent a system that saved over a billion dollars on welfare.                                                                                    | 5 | candidates-biography,economy,families,federal-budget,government-efficiency,poverty | i help to invent a system that save over a billion dollar on welfar                                                                             |\n",
       "| 3 | (Mary) Burkes company, Trek Bicycles, makes 99% of their bikes overseas.                                                                                       | 3 | labor,workers                                                                      | mari burk compani trek bicycl make 99 of their bike oversea                                                                                     |\n",
       "| 4 | (Pete) Sessions has held at least two fundraisers at adult-themed clubs and made no apologies.                                                                 | 2 | ethics                                                                             | pete session has held at least two fundrais at adult theme club and made no apolog                                                              |\n",
       "| 5 | (President Barack Obama gave) half a billion in taxpayer money to help his friends at Solyndra, a business the White House knew was on the path to bankruptcy. | 0 | campaign-finance,corporations,energy,ethics,jobs,stimulus                          | presid barack obama gave half a billion in taxpay money to help his friend at solyndra a busi the white hous knew was on the path to bankruptci |\n",
       "| 6 | (Rep. Bob Goodlattes) balanced budgetamendment does not require a balanced budget.                                                                             | 0 | deficit,federal-budget                                                             | rep bob goodlatt balanc budgetamend doe not requir a balanc budget                                                                              |\n",
       "\n"
      ],
      "text/plain": [
       "  Text                                                                                                                                                          \n",
       "1 (Bill) McCollum also voted for numerous amendments to weaken the legislation, even voting to make trains less accessible to those in wheelchairs.             \n",
       "2 (I) helped to invent a system that saved over a billion dollars on welfare.                                                                                   \n",
       "3 (Mary) Burkes company, Trek Bicycles, makes 99% of their bikes overseas.                                                                                      \n",
       "4 (Pete) Sessions has held at least two fundraisers at adult-themed clubs and made no apologies.                                                                \n",
       "5 (President Barack Obama gave) half a billion in taxpayer money to help his friends at Solyndra, a business the White House knew was on the path to bankruptcy.\n",
       "6 (Rep. Bob Goodlattes) balanced budgetamendment does not require a balanced budget.                                                                            \n",
       "  Labels\n",
       "1 5     \n",
       "2 5     \n",
       "3 3     \n",
       "4 2     \n",
       "5 0     \n",
       "6 0     \n",
       "  Text_Tag                                                                          \n",
       "1 disability                                                                        \n",
       "2 candidates-biography,economy,families,federal-budget,government-efficiency,poverty\n",
       "3 labor,workers                                                                     \n",
       "4 ethics                                                                            \n",
       "5 campaign-finance,corporations,energy,ethics,jobs,stimulus                         \n",
       "6 deficit,federal-budget                                                            \n",
       "  doc_id                                                                                                                                         \n",
       "1 bill mccollum also vote for numer amend to weaken the legisl even vote to make train less access to those in wheelchair                        \n",
       "2 i help to invent a system that save over a billion dollar on welfar                                                                            \n",
       "3 mari burk compani trek bicycl make 99 of their bike oversea                                                                                    \n",
       "4 pete session has held at least two fundrais at adult theme club and made no apolog                                                             \n",
       "5 presid barack obama gave half a billion in taxpay money to help his friend at solyndra a busi the white hous knew was on the path to bankruptci\n",
       "6 rep bob goodlatt balanc budgetamend doe not requir a balanc budget                                                                             "
      ]
     },
     "metadata": {},
     "output_type": "display_data"
    }
   ],
   "source": [
    "train_set_stemmed <- stemming(train_set_raw)\n",
    "head(train_set_stemmed)\n",
    "\n",
    "test_set_stemmed <- stemming(test_set_raw)\n",
    "head(test_set_stemmed)\n"
   ]
  },
  {
   "cell_type": "markdown",
   "id": "de9fd0d7-48f7-44aa-ad59-e21041b3a880",
   "metadata": {},
   "source": [
    "## Feature generation"
   ]
  },
  {
   "cell_type": "code",
   "execution_count": 6,
   "id": "8a4339c8-4e42-4b85-8a27-ec2a8da55fd4",
   "metadata": {
    "scrolled": true,
    "tags": []
   },
   "outputs": [],
   "source": [
    "feature_generation <- function(set, emotion = TRUE, punctuation = TRUE, ngrams = TRUE, highest_gram, minimum_frequencies, toocommon){\n",
    "    \n",
    "    if(emotion){\n",
    "        detected_emotions <- get_nrc_sentiment(set$Text, cl = NULL, language = \"english\", lowercase = TRUE)\n",
    "        set <- cbind(set, detected_emotions)\n",
    "    }\n",
    "    \n",
    "    if(punctuation){\n",
    "        set$length <- nchar(set$Text)\n",
    "        set$esclam_mark <- str_count(set$Text, \"!\")\n",
    "        set$commas <- str_count(set$Text, \",\")\n",
    "        set$two_points <- str_count(set$Text, \":\")\n",
    "        set$semicolon <- str_count(set$Text, \";\")        \n",
    "    }\n",
    "    \n",
    "    if(ngrams){\n",
    "        set <- make_extended_dfm(set, highest_gram, minimum_frequencies, toocommon)\n",
    "    }\n",
    "    \n",
    "    set[is.na(set)] <- 0\n",
    "\n",
    "    return(set)}\n",
    "\n",
    "#-----------------------------------------------------------------------------------------------------------------------------------------\n",
    "\n",
    "gram_sparse_create <- function(dataset, rarity, toocommon){\n",
    "    tidy_tweets1 <- unnest_tokens(dataset, \"term\", \"doc_id\", token = \"words\", drop = FALSE)\n",
    "    tidy_tweets1 <- tidy_tweets1 %>% dplyr::count(Labels, doc_id, term) %>% filter(!(term %in% too_common))\n",
    "    too_rare <- (tidy_tweets1 %>% dplyr::count(term) %>% filter(!(term %in% too_common)) %>% filter(n < rarity))$term\n",
    "    tidy_tweets1 <- tidy_tweets1 %>% dplyr::count(Labels, doc_id, term) %>% filter(!(term %in% too_common)) %>% filter(!(term %in% too_rare))\n",
    "    cast_tweets1 <- tidy_tweets1 %>% cast_dfm(doc_id, term, n) %>% convert(to = \"data.frame\")\n",
    "    return(cast_tweets1)\n",
    "}\n",
    "\n",
    "#-----------------------------------------------------------------------------------------------------------------------------------------\n",
    "\n",
    "ngram_sparse_create <- function(dataset, nn, rarity){\n",
    "    tidy_tweetsn <- unnest_tokens(dataset, \"term\", \"doc_id\", token = \"ngrams\", n = nn, drop = FALSE)\n",
    "    tidy_tweetsn <- tidy_tweetsn %>% dplyr::count(Labels, doc_id, term) #%>% filter(!(term %in% too_common))\n",
    "    too_raren <- (tidy_tweetsn %>% dplyr::count(term) %>% filter(n < rarity))$term #%>% filter(!(term %in% too_common)) \n",
    "    tidy_tweetsn <- tidy_tweetsn %>% dplyr::count(Labels, doc_id, term) %>% filter(!(term %in% too_raren)) #%>% filter(!(term %in% too_common))\n",
    "    cast_tweetsn <- tidy_tweetsn %>% cast_dfm(doc_id, term, n) %>% convert(to = \"data.frame\") \n",
    "    return(cast_tweetsn)\n",
    "}\n",
    "\n",
    "#-----------------------------------------------------------------------------------------------------------------------------------------\n",
    "\n",
    "make_extended_dfm <- function(dframe, highest_gram, minimum_frequencies, toocommon){\n",
    "    dfm <- merge(x = dframe, \n",
    "                y = gram_sparse_create(dframe, minimum_frequencies[1], toocommon),\n",
    "                by = \"doc_id\", \n",
    "                all = TRUE)\n",
    "    for (i in 2:highest_gram) {\n",
    "        dfm <- merge(x = dfm, \n",
    "                     y = ngram_sparse_create(dframe, i, minimum_frequencies[i]),\n",
    "                     by = \"doc_id\", \n",
    "                     all = TRUE)\n",
    "    }\n",
    "    return(dfm)\n",
    " }"
   ]
  },
  {
   "cell_type": "code",
   "execution_count": 23,
   "id": "6c62b3f1-a8da-4464-9c42-dbc51e62a24e",
   "metadata": {
    "scrolled": true,
    "tags": []
   },
   "outputs": [
    {
     "data": {
      "text/html": [
       "<table class=\"dataframe\">\n",
       "<caption>A data.frame: 6 × 2429</caption>\n",
       "<thead>\n",
       "\t<tr><th></th><th scope=col>doc_id</th><th scope=col>Text</th><th scope=col>Labels</th><th scope=col>Text_Tag</th><th scope=col>1.x</th><th scope=col>3.x</th><th scope=col>colleg.x</th><th scope=col>go.x</th><th scope=col>high.x</th><th scope=col>kid.x</th><th scope=col>⋯</th><th scope=col>sign.y</th><th scope=col>build.y</th><th scope=col>polit.y</th><th scope=col>teacher.y</th><th scope=col>paul.y</th><th scope=col>combin.y</th><th scope=col>oregon.y</th><th scope=col>doubl.y</th><th scope=col>earn.y</th><th scope=col>5.y</th></tr>\n",
       "\t<tr><th></th><th scope=col>&lt;chr&gt;</th><th scope=col>&lt;chr&gt;</th><th scope=col>&lt;int&gt;</th><th scope=col>&lt;chr&gt;</th><th scope=col>&lt;dbl&gt;</th><th scope=col>&lt;dbl&gt;</th><th scope=col>&lt;dbl&gt;</th><th scope=col>&lt;dbl&gt;</th><th scope=col>&lt;dbl&gt;</th><th scope=col>&lt;dbl&gt;</th><th scope=col>⋯</th><th scope=col>&lt;dbl&gt;</th><th scope=col>&lt;dbl&gt;</th><th scope=col>&lt;dbl&gt;</th><th scope=col>&lt;dbl&gt;</th><th scope=col>&lt;dbl&gt;</th><th scope=col>&lt;dbl&gt;</th><th scope=col>&lt;dbl&gt;</th><th scope=col>&lt;dbl&gt;</th><th scope=col>&lt;dbl&gt;</th><th scope=col>&lt;dbl&gt;</th></tr>\n",
       "</thead>\n",
       "<tbody>\n",
       "\t<tr><th scope=row>1</th><td>1 3 of our kid drop out of high school cannot go to colleg or start a career</td><td>1/3 of our kids drop out (of high school), cannot go to college or start a career.        </td><td>0</td><td>corrections-and-updates,education                        </td><td>1</td><td>1</td><td>1</td><td>1</td><td>1</td><td>1</td><td>⋯</td><td>0</td><td>0</td><td>0</td><td>0</td><td>0</td><td>0</td><td>0</td><td>0</td><td>0</td><td>0</td></tr>\n",
       "\t<tr><th scope=row>2</th><td>1 percent of candid that the nation rifl associ endors in 2012 won          </td><td>1 percent of candidates that (the National Rifle Association) endorsed in 2012 won.       </td><td>1</td><td>campaign-finance,guns,pundits                            </td><td>1</td><td>0</td><td>0</td><td>0</td><td>0</td><td>0</td><td>⋯</td><td>0</td><td>0</td><td>0</td><td>0</td><td>0</td><td>0</td><td>0</td><td>0</td><td>0</td><td>0</td></tr>\n",
       "\t<tr><th scope=row>3</th><td>1.53 million job are at risk from potenti defens cut                        </td><td>1.53 million jobs are at risk (from potential defense cuts).                              </td><td>3</td><td>deficit,jobs,message-machine-2012,military               </td><td>0</td><td>0</td><td>0</td><td>0</td><td>0</td><td>0</td><td>⋯</td><td>0</td><td>0</td><td>0</td><td>0</td><td>0</td><td>0</td><td>0</td><td>0</td><td>0</td><td>0</td></tr>\n",
       "\t<tr><th scope=row>4</th><td>10 cent on thedollar from the clinton foundat goe to charit caus            </td><td>10 cents on thedollar from the Clinton Foundation goes to charitable causes.              </td><td>1</td><td>candidates-biography                                     </td><td>0</td><td>0</td><td>0</td><td>0</td><td>0</td><td>0</td><td>⋯</td><td>0</td><td>0</td><td>0</td><td>0</td><td>0</td><td>0</td><td>0</td><td>0</td><td>0</td><td>0</td></tr>\n",
       "\t<tr><th scope=row>5</th><td>100 percent of the crime is commit in estim by about 15 percent of the popul</td><td>100 percent of the crime is committed, in estimate, by about 15 percent of the population.</td><td>4</td><td>corrections-and-updates,crime,criminal-justice,population</td><td>0</td><td>0</td><td>0</td><td>0</td><td>0</td><td>0</td><td>⋯</td><td>0</td><td>0</td><td>0</td><td>0</td><td>0</td><td>0</td><td>0</td><td>0</td><td>0</td><td>0</td></tr>\n",
       "\t<tr><th scope=row>6</th><td>100,000 in stimulus fund were use for a martini bar and brazilian steakhous </td><td>$100,000 in stimulus funds (were) used for a Martini Bar and Brazilian Steakhouse.        </td><td>3</td><td>stimulus                                                 </td><td>0</td><td>0</td><td>0</td><td>0</td><td>0</td><td>0</td><td>⋯</td><td>0</td><td>0</td><td>0</td><td>0</td><td>0</td><td>0</td><td>0</td><td>0</td><td>0</td><td>0</td></tr>\n",
       "</tbody>\n",
       "</table>\n"
      ],
      "text/latex": [
       "A data.frame: 6 × 2429\n",
       "\\begin{tabular}{r|lllllllllllllllllllll}\n",
       "  & doc\\_id & Text & Labels & Text\\_Tag & 1.x & 3.x & colleg.x & go.x & high.x & kid.x & ⋯ & sign.y & build.y & polit.y & teacher.y & paul.y & combin.y & oregon.y & doubl.y & earn.y & 5.y\\\\\n",
       "  & <chr> & <chr> & <int> & <chr> & <dbl> & <dbl> & <dbl> & <dbl> & <dbl> & <dbl> & ⋯ & <dbl> & <dbl> & <dbl> & <dbl> & <dbl> & <dbl> & <dbl> & <dbl> & <dbl> & <dbl>\\\\\n",
       "\\hline\n",
       "\t1 & 1 3 of our kid drop out of high school cannot go to colleg or start a career & 1/3 of our kids drop out (of high school), cannot go to college or start a career.         & 0 & corrections-and-updates,education                         & 1 & 1 & 1 & 1 & 1 & 1 & ⋯ & 0 & 0 & 0 & 0 & 0 & 0 & 0 & 0 & 0 & 0\\\\\n",
       "\t2 & 1 percent of candid that the nation rifl associ endors in 2012 won           & 1 percent of candidates that (the National Rifle Association) endorsed in 2012 won.        & 1 & campaign-finance,guns,pundits                             & 1 & 0 & 0 & 0 & 0 & 0 & ⋯ & 0 & 0 & 0 & 0 & 0 & 0 & 0 & 0 & 0 & 0\\\\\n",
       "\t3 & 1.53 million job are at risk from potenti defens cut                         & 1.53 million jobs are at risk (from potential defense cuts).                               & 3 & deficit,jobs,message-machine-2012,military                & 0 & 0 & 0 & 0 & 0 & 0 & ⋯ & 0 & 0 & 0 & 0 & 0 & 0 & 0 & 0 & 0 & 0\\\\\n",
       "\t4 & 10 cent on thedollar from the clinton foundat goe to charit caus             & 10 cents on thedollar from the Clinton Foundation goes to charitable causes.               & 1 & candidates-biography                                      & 0 & 0 & 0 & 0 & 0 & 0 & ⋯ & 0 & 0 & 0 & 0 & 0 & 0 & 0 & 0 & 0 & 0\\\\\n",
       "\t5 & 100 percent of the crime is commit in estim by about 15 percent of the popul & 100 percent of the crime is committed, in estimate, by about 15 percent of the population. & 4 & corrections-and-updates,crime,criminal-justice,population & 0 & 0 & 0 & 0 & 0 & 0 & ⋯ & 0 & 0 & 0 & 0 & 0 & 0 & 0 & 0 & 0 & 0\\\\\n",
       "\t6 & 100,000 in stimulus fund were use for a martini bar and brazilian steakhous  & \\$100,000 in stimulus funds (were) used for a Martini Bar and Brazilian Steakhouse.         & 3 & stimulus                                                  & 0 & 0 & 0 & 0 & 0 & 0 & ⋯ & 0 & 0 & 0 & 0 & 0 & 0 & 0 & 0 & 0 & 0\\\\\n",
       "\\end{tabular}\n"
      ],
      "text/markdown": [
       "\n",
       "A data.frame: 6 × 2429\n",
       "\n",
       "| <!--/--> | doc_id &lt;chr&gt; | Text &lt;chr&gt; | Labels &lt;int&gt; | Text_Tag &lt;chr&gt; | 1.x &lt;dbl&gt; | 3.x &lt;dbl&gt; | colleg.x &lt;dbl&gt; | go.x &lt;dbl&gt; | high.x &lt;dbl&gt; | kid.x &lt;dbl&gt; | ⋯ ⋯ | sign.y &lt;dbl&gt; | build.y &lt;dbl&gt; | polit.y &lt;dbl&gt; | teacher.y &lt;dbl&gt; | paul.y &lt;dbl&gt; | combin.y &lt;dbl&gt; | oregon.y &lt;dbl&gt; | doubl.y &lt;dbl&gt; | earn.y &lt;dbl&gt; | 5.y &lt;dbl&gt; |\n",
       "|---|---|---|---|---|---|---|---|---|---|---|---|---|---|---|---|---|---|---|---|---|---|\n",
       "| 1 | 1 3 of our kid drop out of high school cannot go to colleg or start a career | 1/3 of our kids drop out (of high school), cannot go to college or start a career.         | 0 | corrections-and-updates,education                         | 1 | 1 | 1 | 1 | 1 | 1 | ⋯ | 0 | 0 | 0 | 0 | 0 | 0 | 0 | 0 | 0 | 0 |\n",
       "| 2 | 1 percent of candid that the nation rifl associ endors in 2012 won           | 1 percent of candidates that (the National Rifle Association) endorsed in 2012 won.        | 1 | campaign-finance,guns,pundits                             | 1 | 0 | 0 | 0 | 0 | 0 | ⋯ | 0 | 0 | 0 | 0 | 0 | 0 | 0 | 0 | 0 | 0 |\n",
       "| 3 | 1.53 million job are at risk from potenti defens cut                         | 1.53 million jobs are at risk (from potential defense cuts).                               | 3 | deficit,jobs,message-machine-2012,military                | 0 | 0 | 0 | 0 | 0 | 0 | ⋯ | 0 | 0 | 0 | 0 | 0 | 0 | 0 | 0 | 0 | 0 |\n",
       "| 4 | 10 cent on thedollar from the clinton foundat goe to charit caus             | 10 cents on thedollar from the Clinton Foundation goes to charitable causes.               | 1 | candidates-biography                                      | 0 | 0 | 0 | 0 | 0 | 0 | ⋯ | 0 | 0 | 0 | 0 | 0 | 0 | 0 | 0 | 0 | 0 |\n",
       "| 5 | 100 percent of the crime is commit in estim by about 15 percent of the popul | 100 percent of the crime is committed, in estimate, by about 15 percent of the population. | 4 | corrections-and-updates,crime,criminal-justice,population | 0 | 0 | 0 | 0 | 0 | 0 | ⋯ | 0 | 0 | 0 | 0 | 0 | 0 | 0 | 0 | 0 | 0 |\n",
       "| 6 | 100,000 in stimulus fund were use for a martini bar and brazilian steakhous  | $100,000 in stimulus funds (were) used for a Martini Bar and Brazilian Steakhouse.         | 3 | stimulus                                                  | 0 | 0 | 0 | 0 | 0 | 0 | ⋯ | 0 | 0 | 0 | 0 | 0 | 0 | 0 | 0 | 0 | 0 |\n",
       "\n"
      ],
      "text/plain": [
       "  doc_id                                                                      \n",
       "1 1 3 of our kid drop out of high school cannot go to colleg or start a career\n",
       "2 1 percent of candid that the nation rifl associ endors in 2012 won          \n",
       "3 1.53 million job are at risk from potenti defens cut                        \n",
       "4 10 cent on thedollar from the clinton foundat goe to charit caus            \n",
       "5 100 percent of the crime is commit in estim by about 15 percent of the popul\n",
       "6 100,000 in stimulus fund were use for a martini bar and brazilian steakhous \n",
       "  Text                                                                                      \n",
       "1 1/3 of our kids drop out (of high school), cannot go to college or start a career.        \n",
       "2 1 percent of candidates that (the National Rifle Association) endorsed in 2012 won.       \n",
       "3 1.53 million jobs are at risk (from potential defense cuts).                              \n",
       "4 10 cents on thedollar from the Clinton Foundation goes to charitable causes.              \n",
       "5 100 percent of the crime is committed, in estimate, by about 15 percent of the population.\n",
       "6 $100,000 in stimulus funds (were) used for a Martini Bar and Brazilian Steakhouse.        \n",
       "  Labels Text_Tag                                                  1.x 3.x\n",
       "1 0      corrections-and-updates,education                         1   1  \n",
       "2 1      campaign-finance,guns,pundits                             1   0  \n",
       "3 3      deficit,jobs,message-machine-2012,military                0   0  \n",
       "4 1      candidates-biography                                      0   0  \n",
       "5 4      corrections-and-updates,crime,criminal-justice,population 0   0  \n",
       "6 3      stimulus                                                  0   0  \n",
       "  colleg.x go.x high.x kid.x ⋯ sign.y build.y polit.y teacher.y paul.y combin.y\n",
       "1 1        1    1      1     ⋯ 0      0       0       0         0      0       \n",
       "2 0        0    0      0     ⋯ 0      0       0       0         0      0       \n",
       "3 0        0    0      0     ⋯ 0      0       0       0         0      0       \n",
       "4 0        0    0      0     ⋯ 0      0       0       0         0      0       \n",
       "5 0        0    0      0     ⋯ 0      0       0       0         0      0       \n",
       "6 0        0    0      0     ⋯ 0      0       0       0         0      0       \n",
       "  oregon.y doubl.y earn.y 5.y\n",
       "1 0        0       0      0  \n",
       "2 0        0       0      0  \n",
       "3 0        0       0      0  \n",
       "4 0        0       0      0  \n",
       "5 0        0       0      0  \n",
       "6 0        0       0      0  "
      ]
     },
     "metadata": {},
     "output_type": "display_data"
    },
    {
     "data": {
      "text/html": [
       "<table class=\"dataframe\">\n",
       "<caption>A data.frame: 6 × 442</caption>\n",
       "<thead>\n",
       "\t<tr><th></th><th scope=col>doc_id</th><th scope=col>Text</th><th scope=col>Labels</th><th scope=col>Text_Tag</th><th scope=col>job.x</th><th scope=col>when.x</th><th scope=col>feder.x</th><th scope=col>percent.x</th><th scope=col>were.x</th><th scope=col>govern.x</th><th scope=col>⋯</th><th scope=col>not</th><th scope=col>we</th><th scope=col>this</th><th scope=col>say.y</th><th scope=col>i.y</th><th scope=col>clinton.y</th><th scope=col>out.y</th><th scope=col>rais.y</th><th scope=col>dollar.y</th><th scope=col>had.y</th></tr>\n",
       "\t<tr><th></th><th scope=col>&lt;chr&gt;</th><th scope=col>&lt;chr&gt;</th><th scope=col>&lt;int&gt;</th><th scope=col>&lt;chr&gt;</th><th scope=col>&lt;dbl&gt;</th><th scope=col>&lt;dbl&gt;</th><th scope=col>&lt;dbl&gt;</th><th scope=col>&lt;dbl&gt;</th><th scope=col>&lt;dbl&gt;</th><th scope=col>&lt;dbl&gt;</th><th scope=col>⋯</th><th scope=col>&lt;dbl&gt;</th><th scope=col>&lt;dbl&gt;</th><th scope=col>&lt;dbl&gt;</th><th scope=col>&lt;dbl&gt;</th><th scope=col>&lt;dbl&gt;</th><th scope=col>&lt;dbl&gt;</th><th scope=col>&lt;dbl&gt;</th><th scope=col>&lt;dbl&gt;</th><th scope=col>&lt;dbl&gt;</th><th scope=col>&lt;dbl&gt;</th></tr>\n",
       "</thead>\n",
       "<tbody>\n",
       "\t<tr><th scope=row>1</th><td>1 in 4 rhode island under the age of 65 doe not have health insur                             </td><td>1 in 4 Rhode Islanders under the age of 65 does not have health insurance.                            </td><td>2</td><td>health-care                                                </td><td>0</td><td>0</td><td>0</td><td>0</td><td>0</td><td>0</td><td>⋯</td><td>1</td><td>0</td><td>0</td><td>0</td><td>0</td><td>0</td><td>0</td><td>0</td><td>0</td><td>0</td></tr>\n",
       "\t<tr><th scope=row>2</th><td>1.3 million peopl in america make their live off ebay                                         </td><td>1.3-million people in America make their living off eBay.                                             </td><td>1</td><td>economy                                                    </td><td>0</td><td>0</td><td>0</td><td>0</td><td>0</td><td>0</td><td>⋯</td><td>0</td><td>0</td><td>0</td><td>0</td><td>0</td><td>0</td><td>0</td><td>0</td><td>0</td><td>0</td></tr>\n",
       "\t<tr><th scope=row>3</th><td>15 year ago cancer drug cost an averag of 10,000 a year now it 10,000 a month                 </td><td>15 years ago, cancer drugs cost an average of $10,000 a year. Now its $10,000 a month.                </td><td>3</td><td>health-care                                                </td><td>0</td><td>0</td><td>0</td><td>0</td><td>0</td><td>0</td><td>⋯</td><td>0</td><td>0</td><td>0</td><td>0</td><td>0</td><td>0</td><td>0</td><td>0</td><td>0</td><td>0</td></tr>\n",
       "\t<tr><th scope=row>4</th><td>150,000 oil spill claim have been file by floridian but onli 40 percent of them have been paid</td><td>150,000 (oil spill) claims have been filed by Floridians, but only 40 percent of them have been paid. </td><td>5</td><td>oil-spill                                                  </td><td>0</td><td>0</td><td>0</td><td>1</td><td>0</td><td>0</td><td>⋯</td><td>0</td><td>0</td><td>0</td><td>0</td><td>0</td><td>0</td><td>0</td><td>0</td><td>0</td><td>0</td></tr>\n",
       "\t<tr><th scope=row>5</th><td>2.4 million of the nih dollar was spent on origami condom                                     </td><td>$2.4 million of the NIH dollars was spent on origami condoms.                                         </td><td>3</td><td>ebola,public-health                                        </td><td>0</td><td>0</td><td>0</td><td>0</td><td>0</td><td>0</td><td>⋯</td><td>0</td><td>0</td><td>0</td><td>0</td><td>0</td><td>0</td><td>0</td><td>0</td><td>1</td><td>0</td></tr>\n",
       "\t<tr><th scope=row>6</th><td>20 million peopl could lose their current coverag includ our senior citizen who are on medicar</td><td>20 million people could lose their current coverage including our senior citizens who are on Medicare.</td><td>4</td><td>health-care,medicare,message-machine-2012,10-news-tampa-bay</td><td>0</td><td>0</td><td>0</td><td>0</td><td>0</td><td>0</td><td>⋯</td><td>0</td><td>0</td><td>0</td><td>0</td><td>0</td><td>0</td><td>0</td><td>0</td><td>0</td><td>0</td></tr>\n",
       "</tbody>\n",
       "</table>\n"
      ],
      "text/latex": [
       "A data.frame: 6 × 442\n",
       "\\begin{tabular}{r|lllllllllllllllllllll}\n",
       "  & doc\\_id & Text & Labels & Text\\_Tag & job.x & when.x & feder.x & percent.x & were.x & govern.x & ⋯ & not & we & this & say.y & i.y & clinton.y & out.y & rais.y & dollar.y & had.y\\\\\n",
       "  & <chr> & <chr> & <int> & <chr> & <dbl> & <dbl> & <dbl> & <dbl> & <dbl> & <dbl> & ⋯ & <dbl> & <dbl> & <dbl> & <dbl> & <dbl> & <dbl> & <dbl> & <dbl> & <dbl> & <dbl>\\\\\n",
       "\\hline\n",
       "\t1 & 1 in 4 rhode island under the age of 65 doe not have health insur                              & 1 in 4 Rhode Islanders under the age of 65 does not have health insurance.                             & 2 & health-care                                                 & 0 & 0 & 0 & 0 & 0 & 0 & ⋯ & 1 & 0 & 0 & 0 & 0 & 0 & 0 & 0 & 0 & 0\\\\\n",
       "\t2 & 1.3 million peopl in america make their live off ebay                                          & 1.3-million people in America make their living off eBay.                                              & 1 & economy                                                     & 0 & 0 & 0 & 0 & 0 & 0 & ⋯ & 0 & 0 & 0 & 0 & 0 & 0 & 0 & 0 & 0 & 0\\\\\n",
       "\t3 & 15 year ago cancer drug cost an averag of 10,000 a year now it 10,000 a month                  & 15 years ago, cancer drugs cost an average of \\$10,000 a year. Now its \\$10,000 a month.                 & 3 & health-care                                                 & 0 & 0 & 0 & 0 & 0 & 0 & ⋯ & 0 & 0 & 0 & 0 & 0 & 0 & 0 & 0 & 0 & 0\\\\\n",
       "\t4 & 150,000 oil spill claim have been file by floridian but onli 40 percent of them have been paid & 150,000 (oil spill) claims have been filed by Floridians, but only 40 percent of them have been paid.  & 5 & oil-spill                                                   & 0 & 0 & 0 & 1 & 0 & 0 & ⋯ & 0 & 0 & 0 & 0 & 0 & 0 & 0 & 0 & 0 & 0\\\\\n",
       "\t5 & 2.4 million of the nih dollar was spent on origami condom                                      & \\$2.4 million of the NIH dollars was spent on origami condoms.                                          & 3 & ebola,public-health                                         & 0 & 0 & 0 & 0 & 0 & 0 & ⋯ & 0 & 0 & 0 & 0 & 0 & 0 & 0 & 0 & 1 & 0\\\\\n",
       "\t6 & 20 million peopl could lose their current coverag includ our senior citizen who are on medicar & 20 million people could lose their current coverage including our senior citizens who are on Medicare. & 4 & health-care,medicare,message-machine-2012,10-news-tampa-bay & 0 & 0 & 0 & 0 & 0 & 0 & ⋯ & 0 & 0 & 0 & 0 & 0 & 0 & 0 & 0 & 0 & 0\\\\\n",
       "\\end{tabular}\n"
      ],
      "text/markdown": [
       "\n",
       "A data.frame: 6 × 442\n",
       "\n",
       "| <!--/--> | doc_id &lt;chr&gt; | Text &lt;chr&gt; | Labels &lt;int&gt; | Text_Tag &lt;chr&gt; | job.x &lt;dbl&gt; | when.x &lt;dbl&gt; | feder.x &lt;dbl&gt; | percent.x &lt;dbl&gt; | were.x &lt;dbl&gt; | govern.x &lt;dbl&gt; | ⋯ ⋯ | not &lt;dbl&gt; | we &lt;dbl&gt; | this &lt;dbl&gt; | say.y &lt;dbl&gt; | i.y &lt;dbl&gt; | clinton.y &lt;dbl&gt; | out.y &lt;dbl&gt; | rais.y &lt;dbl&gt; | dollar.y &lt;dbl&gt; | had.y &lt;dbl&gt; |\n",
       "|---|---|---|---|---|---|---|---|---|---|---|---|---|---|---|---|---|---|---|---|---|---|\n",
       "| 1 | 1 in 4 rhode island under the age of 65 doe not have health insur                              | 1 in 4 Rhode Islanders under the age of 65 does not have health insurance.                             | 2 | health-care                                                 | 0 | 0 | 0 | 0 | 0 | 0 | ⋯ | 1 | 0 | 0 | 0 | 0 | 0 | 0 | 0 | 0 | 0 |\n",
       "| 2 | 1.3 million peopl in america make their live off ebay                                          | 1.3-million people in America make their living off eBay.                                              | 1 | economy                                                     | 0 | 0 | 0 | 0 | 0 | 0 | ⋯ | 0 | 0 | 0 | 0 | 0 | 0 | 0 | 0 | 0 | 0 |\n",
       "| 3 | 15 year ago cancer drug cost an averag of 10,000 a year now it 10,000 a month                  | 15 years ago, cancer drugs cost an average of $10,000 a year. Now its $10,000 a month.                 | 3 | health-care                                                 | 0 | 0 | 0 | 0 | 0 | 0 | ⋯ | 0 | 0 | 0 | 0 | 0 | 0 | 0 | 0 | 0 | 0 |\n",
       "| 4 | 150,000 oil spill claim have been file by floridian but onli 40 percent of them have been paid | 150,000 (oil spill) claims have been filed by Floridians, but only 40 percent of them have been paid.  | 5 | oil-spill                                                   | 0 | 0 | 0 | 1 | 0 | 0 | ⋯ | 0 | 0 | 0 | 0 | 0 | 0 | 0 | 0 | 0 | 0 |\n",
       "| 5 | 2.4 million of the nih dollar was spent on origami condom                                      | $2.4 million of the NIH dollars was spent on origami condoms.                                          | 3 | ebola,public-health                                         | 0 | 0 | 0 | 0 | 0 | 0 | ⋯ | 0 | 0 | 0 | 0 | 0 | 0 | 0 | 0 | 1 | 0 |\n",
       "| 6 | 20 million peopl could lose their current coverag includ our senior citizen who are on medicar | 20 million people could lose their current coverage including our senior citizens who are on Medicare. | 4 | health-care,medicare,message-machine-2012,10-news-tampa-bay | 0 | 0 | 0 | 0 | 0 | 0 | ⋯ | 0 | 0 | 0 | 0 | 0 | 0 | 0 | 0 | 0 | 0 |\n",
       "\n"
      ],
      "text/plain": [
       "  doc_id                                                                                        \n",
       "1 1 in 4 rhode island under the age of 65 doe not have health insur                             \n",
       "2 1.3 million peopl in america make their live off ebay                                         \n",
       "3 15 year ago cancer drug cost an averag of 10,000 a year now it 10,000 a month                 \n",
       "4 150,000 oil spill claim have been file by floridian but onli 40 percent of them have been paid\n",
       "5 2.4 million of the nih dollar was spent on origami condom                                     \n",
       "6 20 million peopl could lose their current coverag includ our senior citizen who are on medicar\n",
       "  Text                                                                                                  \n",
       "1 1 in 4 Rhode Islanders under the age of 65 does not have health insurance.                            \n",
       "2 1.3-million people in America make their living off eBay.                                             \n",
       "3 15 years ago, cancer drugs cost an average of $10,000 a year. Now its $10,000 a month.                \n",
       "4 150,000 (oil spill) claims have been filed by Floridians, but only 40 percent of them have been paid. \n",
       "5 $2.4 million of the NIH dollars was spent on origami condoms.                                         \n",
       "6 20 million people could lose their current coverage including our senior citizens who are on Medicare.\n",
       "  Labels Text_Tag                                                    job.x\n",
       "1 2      health-care                                                 0    \n",
       "2 1      economy                                                     0    \n",
       "3 3      health-care                                                 0    \n",
       "4 5      oil-spill                                                   0    \n",
       "5 3      ebola,public-health                                         0    \n",
       "6 4      health-care,medicare,message-machine-2012,10-news-tampa-bay 0    \n",
       "  when.x feder.x percent.x were.x govern.x ⋯ not we this say.y i.y clinton.y\n",
       "1 0      0       0         0      0        ⋯ 1   0  0    0     0   0        \n",
       "2 0      0       0         0      0        ⋯ 0   0  0    0     0   0        \n",
       "3 0      0       0         0      0        ⋯ 0   0  0    0     0   0        \n",
       "4 0      0       1         0      0        ⋯ 0   0  0    0     0   0        \n",
       "5 0      0       0         0      0        ⋯ 0   0  0    0     0   0        \n",
       "6 0      0       0         0      0        ⋯ 0   0  0    0     0   0        \n",
       "  out.y rais.y dollar.y had.y\n",
       "1 0     0      0        0    \n",
       "2 0     0      0        0    \n",
       "3 0     0      0        0    \n",
       "4 0     0      0        0    \n",
       "5 0     0      1        0    \n",
       "6 0     0      0        0    "
      ]
     },
     "metadata": {},
     "output_type": "display_data"
    }
   ],
   "source": [
    "too_common <- c(\"in\", \"the\", \"of\", \"to\", \"a\", \"and\", \"they\", \"or\", \"for\", \"that\", \"says\", \"we\", \n",
    "             \"more\", \"at\", \"be\", \"about\", \"will\", \"one\", \"an\", \"his\", \"you\", \"their\", \"is\", \n",
    "             \"on\", \"has\", \"have\", \"are\", \"was\", \"by\", \"it\", \"from\", \"with\", \"as\", \"not\", \"our\", \n",
    "             \"I\", \"this\", \"he\", \"been\", \"NA\")\n",
    "\n",
    "\n",
    "train_set <- feature_generation(train_set_stemmed, emotion = FALSE, punctuation = FALSE, ngrams = TRUE, highest_gram = 1, minimum_frequencies = c(50, 10, 5, 5), toocommon = toocommon)\n",
    "test_set <- feature_generation(test_set_stemmed, emotion = FALSE, punctuation = FALSE, ngrams = TRUE, highest_gram = 1, minimum_frequencies = c(50, 10, 5, 5), toocommon = toocommon)\n",
    "\n",
    "train_set <- train_set[!is.na(colnames(train_set))]\n",
    "test_set <- test_set[!is.na(colnames(test_set))]\n",
    "\n",
    "head(train_set)\n",
    "head(test_set)"
   ]
  },
  {
   "cell_type": "markdown",
   "id": "2c693230-f2f7-4ca3-852a-33738578f2f6",
   "metadata": {},
   "source": [
    "## Classifier"
   ]
  },
  {
   "cell_type": "code",
   "execution_count": 24,
   "id": "63e5f4e6-1354-490c-9ec0-fdc57e6adb58",
   "metadata": {},
   "outputs": [],
   "source": [
    "classifier_assemble <- function(dfm){\n",
    "    df_count <- aggregate(.~Labels, \n",
    "                      data = dfm[, -which(names(dfm) == \"Text\" | names(dfm) == \"Text_Tag\" | names(dfm) == \"doc_id\")], \n",
    "                      FUN = sum)\n",
    "    \n",
    "    df_count <- df_count + 1\n",
    "    df_count$Labels <- df_count$Labels - 1\n",
    "    label.density <- dfm %>% group_by(Labels) %>% summarize(counts = n_distinct(doc_id))\n",
    "    label.density$counts <- label.density$counts/sum(label.density$counts)\n",
    "    df_count$label.density <- label.density$counts\n",
    "    df_count$total.num <- rowSums(df_count[, -which(names(df_count) == \"Labels\" | names(df_count) == \"label.density\" )]) \n",
    "    \n",
    "    df_count[, -which(names(df_count) == \"Labels\" | names(df_count) == \"label.density\" | names(df_count) == \"total.num\")] <- df_count[, -which(names(df_count) == \"Labels\" | names(df_count) == \"label.density\" | names(df_count) == \"total.num\")]/df_count$total.num #loop on 5 indexes\n",
    "\n",
    "    df_count %>% select(-matches('^$'))\n",
    "    return(df_count)\n",
    "}"
   ]
  },
  {
   "cell_type": "code",
   "execution_count": 25,
   "id": "1e1fe141-72bc-4971-8d0c-27dff7b60da4",
   "metadata": {
    "scrolled": true,
    "tags": []
   },
   "outputs": [
    {
     "data": {
      "text/html": [
       "<table class=\"dataframe\">\n",
       "<caption>A data.frame: 6 × 2428</caption>\n",
       "<thead>\n",
       "\t<tr><th scope=col>Labels</th><th scope=col>1.x</th><th scope=col>3.x</th><th scope=col>colleg.x</th><th scope=col>go.x</th><th scope=col>high.x</th><th scope=col>kid.x</th><th scope=col>out.x</th><th scope=col>school.x</th><th scope=col>start.x</th><th scope=col>⋯</th><th scope=col>polit.y</th><th scope=col>teacher.y</th><th scope=col>paul.y</th><th scope=col>combin.y</th><th scope=col>oregon.y</th><th scope=col>doubl.y</th><th scope=col>earn.y</th><th scope=col>5.y</th><th scope=col>label.density</th><th scope=col>total.num</th></tr>\n",
       "\t<tr><th scope=col>&lt;dbl&gt;</th><th scope=col>&lt;dbl&gt;</th><th scope=col>&lt;dbl&gt;</th><th scope=col>&lt;dbl&gt;</th><th scope=col>&lt;dbl&gt;</th><th scope=col>&lt;dbl&gt;</th><th scope=col>&lt;dbl&gt;</th><th scope=col>&lt;dbl&gt;</th><th scope=col>&lt;dbl&gt;</th><th scope=col>&lt;dbl&gt;</th><th scope=col>⋯</th><th scope=col>&lt;dbl&gt;</th><th scope=col>&lt;dbl&gt;</th><th scope=col>&lt;dbl&gt;</th><th scope=col>&lt;dbl&gt;</th><th scope=col>&lt;dbl&gt;</th><th scope=col>&lt;dbl&gt;</th><th scope=col>&lt;dbl&gt;</th><th scope=col>&lt;dbl&gt;</th><th scope=col>&lt;dbl&gt;</th><th scope=col>&lt;dbl&gt;</th></tr>\n",
       "</thead>\n",
       "<tbody>\n",
       "\t<tr><td>0</td><td>0.0007959671</td><td>0.0002358421</td><td>0.0004716842</td><td>0.0013266118</td><td>0.0005011645</td><td>0.0002063618</td><td>0.001680375</td><td>0.0011497303</td><td>0.0002063618</td><td>⋯</td><td>0.0001179211</td><td>0.0002063618</td><td>0.0002653224</td><td>0.0002358421</td><td>0.0002358421</td><td>0.0002653224</td><td>0.0002358421</td><td>0.0001768816</td><td>0.16022977</td><td>33921</td></tr>\n",
       "\t<tr><td>1</td><td>0.0006763260</td><td>0.0002861379</td><td>0.0002861379</td><td>0.0013006269</td><td>0.0003641755</td><td>0.0002601254</td><td>0.001586765</td><td>0.0008844263</td><td>0.0002341128</td><td>⋯</td><td>0.0004682257</td><td>0.0003901881</td><td>0.0003381630</td><td>0.0002861379</td><td>0.0004162006</td><td>0.0002601254</td><td>0.0001300627</td><td>0.0003641755</td><td>0.19396236</td><td>38443</td></tr>\n",
       "\t<tr><td>2</td><td>0.0008840951</td><td>0.0003757404</td><td>0.0005525595</td><td>0.0008619928</td><td>0.0005304571</td><td>0.0003094333</td><td>0.001414552</td><td>0.0014145522</td><td>0.0005083547</td><td>⋯</td><td>0.0002652285</td><td>0.0003978428</td><td>0.0003536381</td><td>0.0004199452</td><td>0.0001768190</td><td>0.0003978428</td><td>0.0002210238</td><td>0.0003536381</td><td>0.20728428</td><td>45244</td></tr>\n",
       "\t<tr><td>3</td><td>0.0011540126</td><td>0.0003606289</td><td>0.0006491321</td><td>0.0009376352</td><td>0.0005289224</td><td>0.0002885031</td><td>0.001466558</td><td>0.0011299707</td><td>0.0004087128</td><td>⋯</td><td>0.0002644612</td><td>0.0002644612</td><td>0.0001442516</td><td>0.0001682935</td><td>0.0004327547</td><td>0.0003365870</td><td>0.0005529644</td><td>0.0002163774</td><td>0.19322904</td><td>41594</td></tr>\n",
       "\t<tr><td>4</td><td>0.0005438395</td><td>0.0003021331</td><td>0.0003021331</td><td>0.0014502387</td><td>0.0003625597</td><td>0.0001812798</td><td>0.001148106</td><td>0.0013293855</td><td>0.0003021331</td><td>⋯</td><td>0.0002417064</td><td>0.0001208532</td><td>0.0002417064</td><td>0.0001208532</td><td>0.0001812798</td><td>0.0003625597</td><td>0.0003021331</td><td>0.0001812798</td><td>0.08029822</td><td>16549</td></tr>\n",
       "\t<tr><td>5</td><td>0.0011241137</td><td>0.0002305874</td><td>0.0006629388</td><td>0.0008358794</td><td>0.0004899983</td><td>0.0003170577</td><td>0.001268231</td><td>0.0011241137</td><td>0.0003747046</td><td>⋯</td><td>0.0003170577</td><td>0.0002594108</td><td>0.0003170577</td><td>0.0005476451</td><td>0.0004323514</td><td>0.0004899983</td><td>0.0002305874</td><td>0.0004611748</td><td>0.16499633</td><td>34694</td></tr>\n",
       "</tbody>\n",
       "</table>\n"
      ],
      "text/latex": [
       "A data.frame: 6 × 2428\n",
       "\\begin{tabular}{lllllllllllllllllllll}\n",
       " Labels & 1.x & 3.x & colleg.x & go.x & high.x & kid.x & out.x & school.x & start.x & ⋯ & polit.y & teacher.y & paul.y & combin.y & oregon.y & doubl.y & earn.y & 5.y & label.density & total.num\\\\\n",
       " <dbl> & <dbl> & <dbl> & <dbl> & <dbl> & <dbl> & <dbl> & <dbl> & <dbl> & <dbl> & ⋯ & <dbl> & <dbl> & <dbl> & <dbl> & <dbl> & <dbl> & <dbl> & <dbl> & <dbl> & <dbl>\\\\\n",
       "\\hline\n",
       "\t 0 & 0.0007959671 & 0.0002358421 & 0.0004716842 & 0.0013266118 & 0.0005011645 & 0.0002063618 & 0.001680375 & 0.0011497303 & 0.0002063618 & ⋯ & 0.0001179211 & 0.0002063618 & 0.0002653224 & 0.0002358421 & 0.0002358421 & 0.0002653224 & 0.0002358421 & 0.0001768816 & 0.16022977 & 33921\\\\\n",
       "\t 1 & 0.0006763260 & 0.0002861379 & 0.0002861379 & 0.0013006269 & 0.0003641755 & 0.0002601254 & 0.001586765 & 0.0008844263 & 0.0002341128 & ⋯ & 0.0004682257 & 0.0003901881 & 0.0003381630 & 0.0002861379 & 0.0004162006 & 0.0002601254 & 0.0001300627 & 0.0003641755 & 0.19396236 & 38443\\\\\n",
       "\t 2 & 0.0008840951 & 0.0003757404 & 0.0005525595 & 0.0008619928 & 0.0005304571 & 0.0003094333 & 0.001414552 & 0.0014145522 & 0.0005083547 & ⋯ & 0.0002652285 & 0.0003978428 & 0.0003536381 & 0.0004199452 & 0.0001768190 & 0.0003978428 & 0.0002210238 & 0.0003536381 & 0.20728428 & 45244\\\\\n",
       "\t 3 & 0.0011540126 & 0.0003606289 & 0.0006491321 & 0.0009376352 & 0.0005289224 & 0.0002885031 & 0.001466558 & 0.0011299707 & 0.0004087128 & ⋯ & 0.0002644612 & 0.0002644612 & 0.0001442516 & 0.0001682935 & 0.0004327547 & 0.0003365870 & 0.0005529644 & 0.0002163774 & 0.19322904 & 41594\\\\\n",
       "\t 4 & 0.0005438395 & 0.0003021331 & 0.0003021331 & 0.0014502387 & 0.0003625597 & 0.0001812798 & 0.001148106 & 0.0013293855 & 0.0003021331 & ⋯ & 0.0002417064 & 0.0001208532 & 0.0002417064 & 0.0001208532 & 0.0001812798 & 0.0003625597 & 0.0003021331 & 0.0001812798 & 0.08029822 & 16549\\\\\n",
       "\t 5 & 0.0011241137 & 0.0002305874 & 0.0006629388 & 0.0008358794 & 0.0004899983 & 0.0003170577 & 0.001268231 & 0.0011241137 & 0.0003747046 & ⋯ & 0.0003170577 & 0.0002594108 & 0.0003170577 & 0.0005476451 & 0.0004323514 & 0.0004899983 & 0.0002305874 & 0.0004611748 & 0.16499633 & 34694\\\\\n",
       "\\end{tabular}\n"
      ],
      "text/markdown": [
       "\n",
       "A data.frame: 6 × 2428\n",
       "\n",
       "| Labels &lt;dbl&gt; | 1.x &lt;dbl&gt; | 3.x &lt;dbl&gt; | colleg.x &lt;dbl&gt; | go.x &lt;dbl&gt; | high.x &lt;dbl&gt; | kid.x &lt;dbl&gt; | out.x &lt;dbl&gt; | school.x &lt;dbl&gt; | start.x &lt;dbl&gt; | ⋯ ⋯ | polit.y &lt;dbl&gt; | teacher.y &lt;dbl&gt; | paul.y &lt;dbl&gt; | combin.y &lt;dbl&gt; | oregon.y &lt;dbl&gt; | doubl.y &lt;dbl&gt; | earn.y &lt;dbl&gt; | 5.y &lt;dbl&gt; | label.density &lt;dbl&gt; | total.num &lt;dbl&gt; |\n",
       "|---|---|---|---|---|---|---|---|---|---|---|---|---|---|---|---|---|---|---|---|---|\n",
       "| 0 | 0.0007959671 | 0.0002358421 | 0.0004716842 | 0.0013266118 | 0.0005011645 | 0.0002063618 | 0.001680375 | 0.0011497303 | 0.0002063618 | ⋯ | 0.0001179211 | 0.0002063618 | 0.0002653224 | 0.0002358421 | 0.0002358421 | 0.0002653224 | 0.0002358421 | 0.0001768816 | 0.16022977 | 33921 |\n",
       "| 1 | 0.0006763260 | 0.0002861379 | 0.0002861379 | 0.0013006269 | 0.0003641755 | 0.0002601254 | 0.001586765 | 0.0008844263 | 0.0002341128 | ⋯ | 0.0004682257 | 0.0003901881 | 0.0003381630 | 0.0002861379 | 0.0004162006 | 0.0002601254 | 0.0001300627 | 0.0003641755 | 0.19396236 | 38443 |\n",
       "| 2 | 0.0008840951 | 0.0003757404 | 0.0005525595 | 0.0008619928 | 0.0005304571 | 0.0003094333 | 0.001414552 | 0.0014145522 | 0.0005083547 | ⋯ | 0.0002652285 | 0.0003978428 | 0.0003536381 | 0.0004199452 | 0.0001768190 | 0.0003978428 | 0.0002210238 | 0.0003536381 | 0.20728428 | 45244 |\n",
       "| 3 | 0.0011540126 | 0.0003606289 | 0.0006491321 | 0.0009376352 | 0.0005289224 | 0.0002885031 | 0.001466558 | 0.0011299707 | 0.0004087128 | ⋯ | 0.0002644612 | 0.0002644612 | 0.0001442516 | 0.0001682935 | 0.0004327547 | 0.0003365870 | 0.0005529644 | 0.0002163774 | 0.19322904 | 41594 |\n",
       "| 4 | 0.0005438395 | 0.0003021331 | 0.0003021331 | 0.0014502387 | 0.0003625597 | 0.0001812798 | 0.001148106 | 0.0013293855 | 0.0003021331 | ⋯ | 0.0002417064 | 0.0001208532 | 0.0002417064 | 0.0001208532 | 0.0001812798 | 0.0003625597 | 0.0003021331 | 0.0001812798 | 0.08029822 | 16549 |\n",
       "| 5 | 0.0011241137 | 0.0002305874 | 0.0006629388 | 0.0008358794 | 0.0004899983 | 0.0003170577 | 0.001268231 | 0.0011241137 | 0.0003747046 | ⋯ | 0.0003170577 | 0.0002594108 | 0.0003170577 | 0.0005476451 | 0.0004323514 | 0.0004899983 | 0.0002305874 | 0.0004611748 | 0.16499633 | 34694 |\n",
       "\n"
      ],
      "text/plain": [
       "  Labels 1.x          3.x          colleg.x     go.x         high.x      \n",
       "1 0      0.0007959671 0.0002358421 0.0004716842 0.0013266118 0.0005011645\n",
       "2 1      0.0006763260 0.0002861379 0.0002861379 0.0013006269 0.0003641755\n",
       "3 2      0.0008840951 0.0003757404 0.0005525595 0.0008619928 0.0005304571\n",
       "4 3      0.0011540126 0.0003606289 0.0006491321 0.0009376352 0.0005289224\n",
       "5 4      0.0005438395 0.0003021331 0.0003021331 0.0014502387 0.0003625597\n",
       "6 5      0.0011241137 0.0002305874 0.0006629388 0.0008358794 0.0004899983\n",
       "  kid.x        out.x       school.x     start.x      ⋯ polit.y     \n",
       "1 0.0002063618 0.001680375 0.0011497303 0.0002063618 ⋯ 0.0001179211\n",
       "2 0.0002601254 0.001586765 0.0008844263 0.0002341128 ⋯ 0.0004682257\n",
       "3 0.0003094333 0.001414552 0.0014145522 0.0005083547 ⋯ 0.0002652285\n",
       "4 0.0002885031 0.001466558 0.0011299707 0.0004087128 ⋯ 0.0002644612\n",
       "5 0.0001812798 0.001148106 0.0013293855 0.0003021331 ⋯ 0.0002417064\n",
       "6 0.0003170577 0.001268231 0.0011241137 0.0003747046 ⋯ 0.0003170577\n",
       "  teacher.y    paul.y       combin.y     oregon.y     doubl.y      earn.y      \n",
       "1 0.0002063618 0.0002653224 0.0002358421 0.0002358421 0.0002653224 0.0002358421\n",
       "2 0.0003901881 0.0003381630 0.0002861379 0.0004162006 0.0002601254 0.0001300627\n",
       "3 0.0003978428 0.0003536381 0.0004199452 0.0001768190 0.0003978428 0.0002210238\n",
       "4 0.0002644612 0.0001442516 0.0001682935 0.0004327547 0.0003365870 0.0005529644\n",
       "5 0.0001208532 0.0002417064 0.0001208532 0.0001812798 0.0003625597 0.0003021331\n",
       "6 0.0002594108 0.0003170577 0.0005476451 0.0004323514 0.0004899983 0.0002305874\n",
       "  5.y          label.density total.num\n",
       "1 0.0001768816 0.16022977    33921    \n",
       "2 0.0003641755 0.19396236    38443    \n",
       "3 0.0003536381 0.20728428    45244    \n",
       "4 0.0002163774 0.19322904    41594    \n",
       "5 0.0001812798 0.08029822    16549    \n",
       "6 0.0004611748 0.16499633    34694    "
      ]
     },
     "metadata": {},
     "output_type": "display_data"
    }
   ],
   "source": [
    "df_count <- classifier_assemble(train_set)\n",
    "df_count"
   ]
  },
  {
   "cell_type": "code",
   "execution_count": 26,
   "id": "534a45e5-e033-4e38-80ab-287eb0fffacf",
   "metadata": {
    "scrolled": true,
    "tags": []
   },
   "outputs": [],
   "source": [
    "# updated\n",
    "predict <- function(df_count, X_set){\n",
    "    df.one <- df_count[,-which(names(df_count) == \"total.num\" | names(df_count) == \"label.density\")]\n",
    "    df.one.func <- function(x){\n",
    "        dim <- dim(as.matrix(x[which(x != 0)]))[1]\n",
    "        #print(dim)\n",
    "        if(dim > 2) {\n",
    "            a <- t(as.matrix(x[which(x != 0)]))\n",
    "            b <- (as.matrix(df.one[,which(x != 0)]))\n",
    "            power.func  <- function(y){return(y <- y**a[,-1])} #each prob to the power of repeatence\n",
    "            c <- as.matrix(t(apply(b[,-1] ,1, power.func)))  #applyting the power function\n",
    "            c <- cbind(c, df_count$label.density)\n",
    "\n",
    "            prob.finder <- function(x){return(prod(x))}  #a function which stores the product of all probs.  \n",
    "            df.final <- cbind(c, Label.Prob = apply(c, 1, prob.finder)) #dataframe of porbs for each sample\n",
    "            df.final <- cbind(df.final, Label = 0:5) #dataframe of porbs for each sample \n",
    "            df.final <- data.frame(df.final)\n",
    "\n",
    "            predicted_label  <- df.final$Label[which(df.final$Label.Prob == max(df.final$Label.Prob))] #%>% print()\n",
    "            return(predicted_label)\n",
    "        } else {\n",
    "            return(NA)\n",
    "        }\n",
    "    }\n",
    "    predicted_label = t(apply(train_set[,-which(names(X_set) == \"doc_id\" | names(X_set) == \"Text\" | names(X_set) == \"Text_Tag\")], 1, df.one.func))\n",
    "    #print(\"done\")\n",
    "    #X_set_all<- cbind(X_set, predicted_label)\n",
    "    return(data.frame(t(predicted_label)))}\n",
    "\n"
   ]
  },
  {
   "cell_type": "code",
   "execution_count": 27,
   "id": "3e28b419-a401-4787-a66f-96eb2e85fb2e",
   "metadata": {
    "scrolled": true,
    "tags": []
   },
   "outputs": [
    {
     "name": "stderr",
     "output_type": "stream",
     "text": [
      "Warning message in replace_na(., 7):\n",
      "“NAs introduced by coercion”\n"
     ]
    }
   ],
   "source": [
    "Y_train_pred <- predict(df_count, train_set)\n",
    "Y_train_pred <- as.integer(as.character(Y_train_pred$t.predicted_label)) %>% replace_na(7)\n",
    "Y_train <- as.integer(as.character(train_set$Labels))"
   ]
  },
  {
   "cell_type": "code",
   "execution_count": 28,
   "id": "63972946-d57b-42c5-9200-57b05bd99650",
   "metadata": {},
   "outputs": [
    {
     "name": "stderr",
     "output_type": "stream",
     "text": [
      "Warning message in replace_na(., 7):\n",
      "“NAs introduced by coercion”\n"
     ]
    }
   ],
   "source": [
    "Y_test_pred <- predict(df_count, test_set)\n",
    "Y_test_pred <- as.integer(as.character(Y_test_pred$t.predicted_label)) %>% replace_na(7)\n",
    "Y_test <- as.integer(as.character(test_set$Labels))"
   ]
  },
  {
   "cell_type": "code",
   "execution_count": 29,
   "id": "c4734296-e353-4cad-b83c-34f8ef2f1d25",
   "metadata": {},
   "outputs": [
    {
     "name": "stdout",
     "output_type": "stream",
     "text": [
      "[1] 0.4176025\n",
      "[1] 0.7041016\n"
     ]
    }
   ],
   "source": [
    "score <- function(Y, Y_pred){length(Y[Y == Y_pred])/length(Y)}\n",
    "train_score <- score(Y_train, Y_train_pred) %>% print()\n",
    "test_score <- score(Y_test, Y_test_pred) %>% print()"
   ]
  },
  {
   "cell_type": "markdown",
   "id": "9d3c7a92-bcc9-45db-962f-b013f57cd1d9",
   "metadata": {},
   "source": [
    "# **old things**"
   ]
  },
  {
   "cell_type": "code",
   "execution_count": null,
   "id": "196d7a7d-9ce0-4158-98bc-9305ef750a75",
   "metadata": {},
   "outputs": [],
   "source": [
    "# first\n",
    "predict <- function(df_count, X_set){\n",
    "    df.one <- df_count[,-which(names(df_count) == \"total.num\" | names(df_count) == \"label.density\")]\n",
    "    print(dim(df.one))\n",
    "    df.one.func <- function(x){\n",
    "        a <- x[which(x != 0)]\n",
    "        b <- df.one[,which(x != 0)]\n",
    "        print(dim(b))\n",
    "        power.func  <- function(y){return(y <- y**as.matrix(a[,-1]))} #each prob to the power of repeatence\n",
    "        c <- t(apply(as.matrix(b[,-1]) ,1, power.func))  #applyting the power function\n",
    "        c <- cbind(c, df_count$label.density)\n",
    "\n",
    "        prob.finder <- function(x){return(prod(x))}  #a function which stores the product of all probs.  \n",
    "        df.final <<- cbind(c, Label.Prob = apply(c, 1, prob.finder)) #dataframe of porbs for each sample\n",
    "        df.final <<- cbind(df.final, Label = 0:5) #dataframe of porbs for each sample \n",
    "        df.final <<- data.frame(df.final)\n",
    "\n",
    "        predicted_label  <- df.final$Label[which(df.final$Label.Prob == max(df.final$Label.Prob))] \n",
    "        return(predicted_label)}#the final predicted label\n",
    "     \n",
    "    X_set_all<- cbind(X_set, predicted_label = apply(X_set[1,-which(names(X_set) == \"doc_id\" | names(X_set) == \"Text\" | names(X_set) == \"Text_Tag\")], 1, df.one.func))\n",
    "    return(X_set_all)}"
   ]
  },
  {
   "cell_type": "code",
   "execution_count": null,
   "id": "266ec63b-374b-4605-be4e-479c6e53747b",
   "metadata": {
    "scrolled": true,
    "tags": []
   },
   "outputs": [],
   "source": [
    "# single\n",
    "df.one <- df_count[,-which(names(df_count) == \"total.num\" | names(df_count) == \"label.density\")]\n",
    "df.one.func <- function(x){\n",
    "    a <- as.matrix(x[which(x != 0)])\n",
    "    b <- (as.matrix(df.one[,which(x != 0)]))\n",
    "    print(dim(b))\n",
    "    print(dim(a))\n",
    "    power.func  <- function(y){return(y <- y**a[,-1])} #each prob to the power of repeatence\n",
    "    c <- as.matrix(t(apply(b[,-1] ,1, power.func)))  #applyting the power function\n",
    "    print(dim(c))\n",
    "    print(c)\n",
    "    c <- cbind(c, df_count$label.density)\n",
    "\n",
    "    prob.finder <- function(x){return(prod(x))}  #a function which stores the product of all probs.  \n",
    "    df.final <- cbind(c, Label.Prob = apply(c, 1, prob.finder)) #dataframe of porbs for each sample\n",
    "    print((df.final))\n",
    "    df.final <- cbind(df.final, Label = 0:5) #dataframe of porbs for each sample \n",
    "    df.final <- data.frame(df.final)\n",
    "\n",
    "    predicted_label  <- df.final$Label[which(df.final$Label.Prob == max(df.final$Label.Prob))] %>% print()\n",
    "    return(predicted_label)}#the final predicted label\n",
    "df.one.func(train_set[10,-which(names(train_set) == \"doc_id\" | names(train_set) == \"Text\" | names(train_set) == \"Text_Tag\")])"
   ]
  },
  {
   "cell_type": "code",
   "execution_count": null,
   "id": "96100c96-b239-40b3-9691-0ee72be0d789",
   "metadata": {
    "scrolled": true,
    "tags": []
   },
   "outputs": [],
   "source": [
    "# parallel\n",
    "df.one <- df_count[,-which(names(df_count) == \"total.num\" | names(df_count) == \"label.density\")]\n",
    "df.one.func <- function(x){\n",
    "    a <- t(as.matrix(x[which(x != 0)]))\n",
    "    b <- (as.matrix(df.one[,which(x != 0)]))\n",
    "    print(dim(b))\n",
    "    print(dim(a))\n",
    "    power.func  <- function(y){return(y <- y**a[,-1])} #each prob to the power of repeatence\n",
    "    c <- as.matrix(t(apply(b[,-1] ,1, power.func)))  #applyting the power function\n",
    "    print(dim(c))\n",
    "    print(c)\n",
    "    c <- cbind(c, df_count$label.density)\n",
    "\n",
    "    prob.finder <- function(x){return(prod(x))}  #a function which stores the product of all probs.  \n",
    "    df.final <- cbind(c, Label.Prob = apply(c, 1, prob.finder)) #dataframe of porbs for each sample\n",
    "    print((df.final))\n",
    "    df.final <- cbind(df.final, Label = 0:5) #dataframe of porbs for each sample \n",
    "    df.final <- data.frame(df.final)\n",
    "\n",
    "    predicted_label  <- df.final$Label[which(df.final$Label.Prob == max(df.final$Label.Prob))] %>% print()\n",
    "    return(predicted_label)}#the final predicted label\n",
    "apply(train_set[,-which(names(train_set) == \"doc_id\" | names(train_set) == \"Text\" | names(train_set) == \"Text_Tag\")], 1, df.one.func)"
   ]
  },
  {
   "cell_type": "code",
   "execution_count": null,
   "id": "0c3cb5c7-86f9-4863-8cb1-d0796c8a0aea",
   "metadata": {},
   "outputs": [],
   "source": []
  },
  {
   "cell_type": "code",
   "execution_count": null,
   "id": "e44b6a44-edbf-4bd0-80e5-6bcb2a646907",
   "metadata": {},
   "outputs": [],
   "source": []
  },
  {
   "cell_type": "code",
   "execution_count": null,
   "id": "c5d5b920-3717-418d-af64-8b95d9ceefc2",
   "metadata": {},
   "outputs": [],
   "source": []
  },
  {
   "cell_type": "code",
   "execution_count": null,
   "id": "38d89f7c-c2bb-465c-b148-fc190738d1a2",
   "metadata": {},
   "outputs": [],
   "source": []
  }
 ],
 "metadata": {
  "kernelspec": {
   "display_name": "R",
   "language": "R",
   "name": "ir"
  },
  "language_info": {
   "codemirror_mode": "r",
   "file_extension": ".r",
   "mimetype": "text/x-r-source",
   "name": "R",
   "pygments_lexer": "r",
   "version": "4.2.1"
  }
 },
 "nbformat": 4,
 "nbformat_minor": 5
}
